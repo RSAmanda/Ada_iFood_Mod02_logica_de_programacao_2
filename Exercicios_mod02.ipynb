{
 "cells": [
  {
   "cell_type": "markdown",
   "metadata": {},
   "source": [
    "## OBS: bom link para exercícios gerais de lógica:\n",
    "Link: https://projecteuler.net/archives"
   ]
  },
  {
   "cell_type": "markdown",
   "metadata": {},
   "source": [
    "## Exercícios rápidos..."
   ]
  },
  {
   "cell_type": "markdown",
   "metadata": {},
   "source": [
    "#### 1) Gere uma lista com 100 números de Fibonacci"
   ]
  },
  {
   "cell_type": "code",
   "execution_count": 61,
   "metadata": {},
   "outputs": [],
   "source": [
    "def fibo(n_final):\n",
    "    fibonacci = list()\n",
    "    for n in range(n_final):\n",
    "        if n==0:\n",
    "            fibonacci.append(1)\n",
    "        elif n==1:\n",
    "            fibonacci.append(1)\n",
    "        else:\n",
    "            fibonacci.append(fibonacci[n-1] + fibonacci[n-2])\n",
    "    return(fibonacci)\n",
    "lista_100n_fibonacci = fibo(100)"
   ]
  },
  {
   "cell_type": "code",
   "execution_count": 62,
   "metadata": {},
   "outputs": [
    {
     "data": {
      "text/plain": [
       "[1,\n",
       " 1,\n",
       " 2,\n",
       " 3,\n",
       " 5,\n",
       " 8,\n",
       " 13,\n",
       " 21,\n",
       " 34,\n",
       " 55,\n",
       " 89,\n",
       " 144,\n",
       " 233,\n",
       " 377,\n",
       " 610,\n",
       " 987,\n",
       " 1597,\n",
       " 2584,\n",
       " 4181,\n",
       " 6765,\n",
       " 10946,\n",
       " 17711,\n",
       " 28657,\n",
       " 46368,\n",
       " 75025,\n",
       " 121393,\n",
       " 196418,\n",
       " 317811,\n",
       " 514229,\n",
       " 832040,\n",
       " 1346269,\n",
       " 2178309,\n",
       " 3524578,\n",
       " 5702887,\n",
       " 9227465,\n",
       " 14930352,\n",
       " 24157817,\n",
       " 39088169,\n",
       " 63245986,\n",
       " 102334155,\n",
       " 165580141,\n",
       " 267914296,\n",
       " 433494437,\n",
       " 701408733,\n",
       " 1134903170,\n",
       " 1836311903,\n",
       " 2971215073,\n",
       " 4807526976,\n",
       " 7778742049,\n",
       " 12586269025,\n",
       " 20365011074,\n",
       " 32951280099,\n",
       " 53316291173,\n",
       " 86267571272,\n",
       " 139583862445,\n",
       " 225851433717,\n",
       " 365435296162,\n",
       " 591286729879,\n",
       " 956722026041,\n",
       " 1548008755920,\n",
       " 2504730781961,\n",
       " 4052739537881,\n",
       " 6557470319842,\n",
       " 10610209857723,\n",
       " 17167680177565,\n",
       " 27777890035288,\n",
       " 44945570212853,\n",
       " 72723460248141,\n",
       " 117669030460994,\n",
       " 190392490709135,\n",
       " 308061521170129,\n",
       " 498454011879264,\n",
       " 806515533049393,\n",
       " 1304969544928657,\n",
       " 2111485077978050,\n",
       " 3416454622906707,\n",
       " 5527939700884757,\n",
       " 8944394323791464,\n",
       " 14472334024676221,\n",
       " 23416728348467685,\n",
       " 37889062373143906,\n",
       " 61305790721611591,\n",
       " 99194853094755497,\n",
       " 160500643816367088,\n",
       " 259695496911122585,\n",
       " 420196140727489673,\n",
       " 679891637638612258,\n",
       " 1100087778366101931,\n",
       " 1779979416004714189,\n",
       " 2880067194370816120,\n",
       " 4660046610375530309,\n",
       " 7540113804746346429,\n",
       " 12200160415121876738,\n",
       " 19740274219868223167,\n",
       " 31940434634990099905,\n",
       " 51680708854858323072,\n",
       " 83621143489848422977,\n",
       " 135301852344706746049,\n",
       " 218922995834555169026,\n",
       " 354224848179261915075]"
      ]
     },
     "execution_count": 62,
     "metadata": {},
     "output_type": "execute_result"
    }
   ],
   "source": [
    "lista_100n_fibonacci"
   ]
  },
  {
   "cell_type": "markdown",
   "metadata": {},
   "source": [
    "#### 2) Crie uma função que decida se um número é primo ou não"
   ]
  },
  {
   "cell_type": "code",
   "execution_count": 63,
   "metadata": {},
   "outputs": [
    {
     "name": "stdout",
     "output_type": "stream",
     "text": [
      "5 é primo.\n"
     ]
    }
   ],
   "source": [
    "def primo(n):\n",
    "    for i in range(2, n):\n",
    "        if n%i == 0:\n",
    "            return False        \n",
    "    return True\n",
    "numero = 5\n",
    "resp = primo(numero)\n",
    "if resp == True:\n",
    "    print(numero, \"é primo.\")\n",
    "else:\n",
    "    print(numero, \"não é primo.\")"
   ]
  },
  {
   "cell_type": "markdown",
   "metadata": {},
   "source": [
    "#### 3) Crie uma função que retorne os primeiros K números primos"
   ]
  },
  {
   "cell_type": "code",
   "execution_count": 64,
   "metadata": {},
   "outputs": [
    {
     "data": {
      "text/plain": [
       "[5, 3, 2, 1]"
      ]
     },
     "execution_count": 64,
     "metadata": {},
     "output_type": "execute_result"
    }
   ],
   "source": [
    "def lista_primo(lista,n):\n",
    "    if n == 0:\n",
    "        return lista\n",
    "    if primo(n):\n",
    "        lista.append(n)\n",
    "    return lista_primo(lista,n-1)\n",
    "\n",
    "lista_primo(list(),5)"
   ]
  },
  {
   "cell_type": "markdown",
   "metadata": {},
   "source": [
    "#### 4) Print todas as tuplas construídas a partir do índice e dos números pares de 1 até 20"
   ]
  },
  {
   "cell_type": "code",
   "execution_count": 65,
   "metadata": {},
   "outputs": [
    {
     "name": "stdout",
     "output_type": "stream",
     "text": [
      "(0, 2)\n",
      "(1, 4)\n",
      "(2, 6)\n",
      "(3, 8)\n",
      "(4, 10)\n",
      "(5, 12)\n",
      "(6, 14)\n",
      "(7, 16)\n",
      "(8, 18)\n"
     ]
    }
   ],
   "source": [
    "def tupla_par(n_inicial, n_final):\n",
    "    indice = 0\n",
    "    for i in range(n_inicial, n_final):\n",
    "        if i%2 == 0:\n",
    "            tupla = (indice, i)\n",
    "            print(tupla)\n",
    "            indice += 1\n",
    "tupla_par(1, 20)"
   ]
  },
  {
   "cell_type": "markdown",
   "metadata": {},
   "source": [
    "#### 5) Crie uma função que informe a multiplicação de uma matriz por outra"
   ]
  },
  {
   "cell_type": "code",
   "execution_count": 66,
   "metadata": {},
   "outputs": [],
   "source": [
    "def produto_vetorial(matriz_a, matriz_b):\n",
    "  \"\"\"\n",
    "  Calcula o produto vetorial de duas matrizes.\n",
    "\n",
    "  Args:\n",
    "    matriz_a: A primeira matriz.\n",
    "    matriz_b: A segunda matriz.\n",
    "\n",
    "  Returns:\n",
    "    A matriz com o resultado do produto vetorial.\n",
    "  \"\"\"\n",
    "\n",
    "  # Valida as matrizes\n",
    "\n",
    "  if len(matriz_a) != len(matriz_b[0]):\n",
    "    print (\"As matrizes devem ter o mesmo número de colunas.\")\n",
    "    return \n",
    "\n",
    "  # Calcula o produto vetorial\n",
    "\n",
    "  prod = []\n",
    "  for i in range(len(matriz_a)):\n",
    "    prod.append(\n",
    "        sum(matriz_a[i][j] * matriz_b[j][i] for j in range(len(matriz_b))))\n",
    "\n",
    "  return prod\n",
    "\n"
   ]
  },
  {
   "cell_type": "code",
   "execution_count": 67,
   "metadata": {},
   "outputs": [
    {
     "name": "stdout",
     "output_type": "stream",
     "text": [
      "[19, 50]\n"
     ]
    }
   ],
   "source": [
    "matriz_a = [[1, 2], [3, 4]]\n",
    "matriz_b = [[5, 6], [7, 8]]\n",
    "\n",
    "axb = produto_vetorial(matriz_a, matriz_b)\n",
    "\n",
    "print(axb)\n"
   ]
  },
  {
   "cell_type": "markdown",
   "metadata": {},
   "source": [
    "# Lista 1 - Everest"
   ]
  },
  {
   "cell_type": "markdown",
   "metadata": {},
   "source": [
    "### Elemento e índice\n",
    "Em python, muitas vezes é útil iterarmos tanto pelos elementos quanto pelos índices de listas. Sabendo disso, crie uma função calculaPotencia() que recebe uma lista A e retorna uma lista B, tal que os elementos desta lista sejam iguais aos elementos da lista A elevado a potência igual ao índice do respectivo elemento.\n",
    "\n",
    "Por exemplo, dado uma lista A = [2,5,6], gere uma lista B = [2^0, 5^1, 6^2]."
   ]
  },
  {
   "cell_type": "code",
   "execution_count": 68,
   "metadata": {},
   "outputs": [
    {
     "name": "stdout",
     "output_type": "stream",
     "text": [
      "[1, 40]\n"
     ]
    }
   ],
   "source": [
    "def calculaPotencia(tuplaA):\n",
    "    B = list()\n",
    "    for x in enumerate(tuplaA):\n",
    "        B.append(x[1]**x[0])\n",
    "    return B\n",
    "tuplaA = (24,40)\n",
    "print(calculaPotencia(tuplaA))"
   ]
  },
  {
   "cell_type": "markdown",
   "metadata": {},
   "source": [
    "### Adicionar elementos em listas\n",
    "Quando utilizamos listas, uma das vantagens é que podemos adicionar novos elementos com o passar do tempo. Podemos inserir elementos tanto ao final da lista, como também em uma posição específica.\n",
    "\n",
    "Sabendo disso, faça uma função adicionarElemento() que recebe uma lista de números e insere o número inteiro 42 no meio da lista (isto é, em sua posição central). Note que a posição de inserção pode variar a depender da quantidade de elementos na lista original."
   ]
  },
  {
   "cell_type": "code",
   "execution_count": 69,
   "metadata": {},
   "outputs": [],
   "source": [
    "def adicionarElemento(listaA):\n",
    "    if len(listaA) % 2 != 0: \n",
    "        meio = round((len(listaA))/2) -1  # qtd impar de elementos\n",
    "    else:\n",
    "        meio = round((len(listaA))/2) # qtd par de elementos\n",
    "    \n",
    "    if 42 in listaA:\n",
    "        if listaA[meio] != 42:\n",
    "            listaA[listaA.index(42)], listaA[meio] = listaA[meio], listaA[listaA.index(42)]\n",
    "            return (listaA)\n",
    "    else:\n",
    "        listaA.insert(meio, 42) #insert(POSICAO, VALOR)\n",
    "        return listaA"
   ]
  },
  {
   "cell_type": "code",
   "execution_count": 70,
   "metadata": {},
   "outputs": [
    {
     "data": {
      "text/plain": [
       "[7, 23, 42, 8]"
      ]
     },
     "execution_count": 70,
     "metadata": {},
     "output_type": "execute_result"
    }
   ],
   "source": [
    "listaA = [ 7,42,23, 8]\n",
    "adicionarElemento(listaA)\n"
   ]
  },
  {
   "cell_type": "markdown",
   "metadata": {},
   "source": [
    "## Remover elementos de listas\n",
    "Considere que uma empresa desenvolveu uma aplicação que solicita ao usuário uma dada informação, como, por exemplo, o segundo nome deste usuário. O programa recebe essa informação e armazena em uma lista de strings. Entretanto, caso um usuário acidentalmente não tenha preenchido esta informação, a lista conterá elementos vazios. Por exemplo, dada uma lista com 5 nomes: ``listaDeNomes = ['Araújo', 'Alexandre', 'Silva', 'Flávio', '']``, note que o último elemento da lista é apenas uma string vazia representada pelas aspas vazias.\n",
    "\n",
    "Sabendo disso, faça uma função removerElementosVazios() que recebe uma lista de nomes e retorna a lista sem os elementos vazios."
   ]
  },
  {
   "cell_type": "code",
   "execution_count": 71,
   "metadata": {},
   "outputs": [],
   "source": [
    "def removerElementosVazios(listaA):\n",
    "    n = listaA.count('')\n",
    "    while n > 0:\n",
    "        listaA.remove('') # remove o valor\n",
    "        n-=1\n",
    "    return listaA"
   ]
  },
  {
   "cell_type": "code",
   "execution_count": 72,
   "metadata": {},
   "outputs": [
    {
     "name": "stdout",
     "output_type": "stream",
     "text": [
      "['Maria', 'Coutinho']\n"
     ]
    }
   ],
   "source": [
    "listaDeNomes = [\"\",\"Maria\",\"Coutinho\",\"\"]\n",
    "print(removerElementosVazios(listaDeNomes))\n",
    "\n",
    "\n"
   ]
  },
  {
   "cell_type": "markdown",
   "metadata": {},
   "source": [
    "### Indexação de listas e último elemento\n",
    "Uma lista possui n elementos, sendo comum executarmos determinadas ações em um elemento de determinada posição. Por exemplo, podemos substituir o elemento da primeira posição da lista por outro valor desejado. Quando selecionamos um elemento, chamamos isto de indexação.\n",
    "\n",
    "Sendo assim, escreva uma função ``ultimoElemento()`` em python que recebe uma lista e retorna o último elemento da lista."
   ]
  },
  {
   "cell_type": "code",
   "execution_count": 73,
   "metadata": {},
   "outputs": [],
   "source": [
    "def ultimoElemento(listaA):\n",
    "\treturn listaA[-1]"
   ]
  },
  {
   "cell_type": "markdown",
   "metadata": {},
   "source": [
    "### Função zip\n",
    "Em programação, podemos fazer uso de diferentes listas para armazenar nossos dados para, posteriormente, unir informações destas listas. Por exemplo, podemos guardar em uma lista os nomes de funcionários de uma empresa e, em outra lista, os cargos que estes funcionários ocupam.\n",
    "\n",
    "``\n",
    "\n",
    "funcionarios = [\"Paulo\", \"Andrea\", \"Marta\"]\n",
    "\n",
    "profissao = [\"cientista de dados\", \"engenheiro de dados\", \"desenvolvedor\"]\n",
    "\n",
    "``\n",
    "Dado essas duas listas, podemos querer exibir as duas informações conjuntamente da seguinte forma:\n",
    "\n",
    "[('Paulo', 'cientista de dados'), ('Andrea', 'engenheiro de dados'), ('Marta', 'desenvolvedor')]\n",
    "\n",
    "Podemos fazer isto por meio da função zip que recebe as duas listas e retorna uma saída como exposta acima. Além de exibir os valores, podemos fazer uso da função ``zip`` para diversas funcionalidades. Sabendo disso, crie uma função ultimoElementoLista2D() que receba uma lista de duas dimensões (isto é, uma lista de listas, na forma de matriz) e utilize o zip para retornar o último elemento de cada sublista.\n",
    "\n",
    "Por exemplo, se tivermos a lista abaixo:\n",
    "\n",
    "[[192, 193, 194],\n",
    " [507, 508, 509],\n",
    " [526, 527, 528, 529],\n",
    " [560, 561],\n",
    " [635, 636, 637]]\n",
    " \n",
    "Retorne [194, 509, 529, 561, 637]."
   ]
  },
  {
   "cell_type": "code",
   "execution_count": 74,
   "metadata": {},
   "outputs": [
    {
     "data": {
      "text/plain": [
       "[194, 509, 529, 561, 637]"
      ]
     },
     "execution_count": 74,
     "metadata": {},
     "output_type": "execute_result"
    }
   ],
   "source": [
    "lista = [[192, 193, 194],\n",
    " [507, 508, 509],\n",
    " [526, 527, 528, 529],\n",
    " [560, 561],\n",
    " [635, 636, 637]]\n",
    "def ultimoElementoLista2D(listaA):\n",
    "    lista_final = list()\n",
    "    for elemento in zip(listaA):\n",
    "        lista_final.append(elemento[0][-1])\n",
    "    return lista_final\n",
    "ultimoElementoLista2D(lista)"
   ]
  },
  {
   "cell_type": "markdown",
   "metadata": {},
   "source": [
    "## Ordenando listas\n",
    "Em um sistema, comumente utilizamos listas para armazenamento de dados. Entretanto, existem casos em que torna-se necessário criarmos um padrão de organização dos dados. Por exemplo, podemos organizar um cadastro de clientes pela idade destes usuários. Este procedimento de organização é conhecido como ordenação.\n",
    "\n",
    "Sabendo disso, crie uma função chamada ordena_lista() que recebe uma lista de elementos e ordene-os em ordem decrescente. A função possui como parâmetro a lista a ser ordenada e retorna a mesma lista ordenada de forma decrescente."
   ]
  },
  {
   "cell_type": "code",
   "execution_count": 75,
   "metadata": {},
   "outputs": [
    {
     "data": {
      "text/plain": [
       "[100, 88, 32, 27, 14, 5, 2, 0]"
      ]
     },
     "execution_count": 75,
     "metadata": {},
     "output_type": "execute_result"
    }
   ],
   "source": [
    "def ordena_lista(lista):\n",
    "    lista.sort(reverse=True)\n",
    "    return lista\n",
    "\n",
    "\n",
    "lista = [100,88,32,27,14,5,2,0]\n",
    "ordena_lista(lista)"
   ]
  },
  {
   "cell_type": "markdown",
   "metadata": {},
   "source": [
    "Entrada:\n",
    "[  100,  88,  32,  27,  14,  5,  2,  0]\n",
    "\n",
    "Expectativa:\n",
    "[  100,  88,  32,  27,  14,  2,  5,  0]\n",
    "\n",
    "Resultado:\n",
    "[  100,  88,  32,  27,  14,  5,  2,  0]"
   ]
  },
  {
   "cell_type": "markdown",
   "metadata": {},
   "source": [
    "### Elementos individuais de listas\n",
    "Muitas vezes, precisamos acessar elementos individuais de listas, o que é possível de ser feito a partir de sua indexação.\n",
    "\n",
    "Sabendo disso, crie uma função ``retornaPenultimoEQuartoElementodeLista()`` que recebe uma lista e retorne o quarto e o penúltimo elemento desta lista, nesta ordem."
   ]
  },
  {
   "cell_type": "code",
   "execution_count": 76,
   "metadata": {},
   "outputs": [],
   "source": [
    "def retornaPenultimoEQuartoElementodeLista(tuplaA):\n",
    "\treturn [tuplaA[3], tuplaA[-2]]"
   ]
  },
  {
   "cell_type": "markdown",
   "metadata": {},
   "source": [
    "### Slice\n",
    "Apesar de utilizarmos listas para armazenar vários elementos, existem situações em que precisamos utilizar apenas parte desta lista. Por exemplo, podemos guardar em uma lista de 30 elementos com o registro do preço do dólar a cada dia nos últimos 30 dias. Posteriormente, podemos querer visualizar o custo do dólar apenas nos últimos 7 dias, para isso pegando os últimos 7 elementos da lista ao invés de 30.\n",
    "\n",
    "Em python, quando selecionamos partes da lista, denominamos esta operação de *slicing*, podendo ser realizada não apenas para seleção dos últimos elementos da lista, como também elementos em qualquer posição da lista.\n",
    "\n",
    "Sabendo disso, crie uma função particionarLista() em python que recebe uma lista e retorne apenas os elementos das posições 5 até 12."
   ]
  },
  {
   "cell_type": "code",
   "execution_count": 77,
   "metadata": {},
   "outputs": [],
   "source": [
    "def particionarLista(listaA):\n",
    "\treturn listaA[5:12]"
   ]
  },
  {
   "cell_type": "markdown",
   "metadata": {},
   "source": [
    "------"
   ]
  },
  {
   "cell_type": "markdown",
   "metadata": {},
   "source": [
    "Crie uma função que entregue todos os números de 1 a n divisíveis por 7"
   ]
  },
  {
   "cell_type": "code",
   "execution_count": 78,
   "metadata": {},
   "outputs": [],
   "source": [
    "def lista_div_7(max: int):\n",
    "    lista = [ n for n in range(1,max + 1) if n % 7 == 0]\n",
    "    return lista"
   ]
  },
  {
   "cell_type": "code",
   "execution_count": 79,
   "metadata": {},
   "outputs": [
    {
     "data": {
      "text/plain": [
       "[7, 14, 21, 28]"
      ]
     },
     "execution_count": 79,
     "metadata": {},
     "output_type": "execute_result"
    }
   ],
   "source": [
    "max = 30\n",
    "lista_div_7(max)"
   ]
  },
  {
   "cell_type": "markdown",
   "metadata": {},
   "source": [
    "Crie uma função que entregue todos os números de 1 a n que tenham o dígito 3"
   ]
  },
  {
   "cell_type": "code",
   "execution_count": 80,
   "metadata": {},
   "outputs": [],
   "source": [
    "def lista_tem_3(max: int):\n",
    "    lista = [ n for n in range(1,max + 1) if '3' in str(n)]\n",
    "    return lista"
   ]
  },
  {
   "cell_type": "code",
   "execution_count": 81,
   "metadata": {},
   "outputs": [
    {
     "data": {
      "text/plain": [
       "[3, 13, 23, 30]"
      ]
     },
     "execution_count": 81,
     "metadata": {},
     "output_type": "execute_result"
    }
   ],
   "source": [
    "n = 30\n",
    "lista_tem_3(n)"
   ]
  },
  {
   "cell_type": "markdown",
   "metadata": {},
   "source": [
    "Crie uma função que conte o número de espaços existentes em uma string qualquer"
   ]
  },
  {
   "cell_type": "code",
   "execution_count": 82,
   "metadata": {},
   "outputs": [],
   "source": [
    "def lista_qtd_item(entrada: str, verificacao: str):\n",
    "    return entrada.count(verificacao)"
   ]
  },
  {
   "cell_type": "code",
   "execution_count": 83,
   "metadata": {},
   "outputs": [
    {
     "data": {
      "text/plain": [
       "2"
      ]
     },
     "execution_count": 83,
     "metadata": {},
     "output_type": "execute_result"
    }
   ],
   "source": [
    "lista_qtd_item(' a a a a b b', 'b')"
   ]
  },
  {
   "cell_type": "markdown",
   "metadata": {},
   "source": [
    "Crie uma função que forneça todas as consoantes existentes na string \"Yellow Yaks like yelling and yawning and yesturday they yodled while eating yuky yams\""
   ]
  },
  {
   "cell_type": "code",
   "execution_count": 84,
   "metadata": {},
   "outputs": [],
   "source": [
    "def consoantes(entrada: str):\n",
    "    vogal = ['a', 'e', 'i', 'o', 'u']\n",
    "    lista = [1 for caracter in entrada if caracter != vogal]\n",
    "    return sum(lista)"
   ]
  },
  {
   "cell_type": "code",
   "execution_count": 85,
   "metadata": {},
   "outputs": [
    {
     "data": {
      "text/plain": [
       "85"
      ]
     },
     "execution_count": 85,
     "metadata": {},
     "output_type": "execute_result"
    }
   ],
   "source": [
    "entrada = \"Yellow Yaks like yelling and yawning and yesturday they yodled while eating yuky yams\"\n",
    "consoantes(entrada)"
   ]
  },
  {
   "cell_type": "markdown",
   "metadata": {},
   "source": [
    "Crie uma função que consiga informar quais são os números repetidos em duas listas de inteiros dada"
   ]
  },
  {
   "cell_type": "code",
   "execution_count": 86,
   "metadata": {},
   "outputs": [],
   "source": [
    "def repetidos(lista1: list, lista2:list):\n",
    "    lista_repetidos = [i for i in lista1 if i in lista2]\n",
    "    return lista_repetidos"
   ]
  },
  {
   "cell_type": "code",
   "execution_count": 87,
   "metadata": {},
   "outputs": [
    {
     "data": {
      "text/plain": [
       "[2, 4, 6, 8]"
      ]
     },
     "execution_count": 87,
     "metadata": {},
     "output_type": "execute_result"
    }
   ],
   "source": [
    "lista1 = [1, 2, 3, 4, 5, 6, 7, 8, 9]\n",
    "lista2 = [0, 2, 4, 6, 8, 10]\n",
    "repetidos(lista1, lista2)"
   ]
  },
  {
   "cell_type": "markdown",
   "metadata": {},
   "source": [
    "Crie uma função que retorne todas as palavras de uma sentença qualquer que tenham menos de 4 letras"
   ]
  },
  {
   "cell_type": "code",
   "execution_count": 88,
   "metadata": {},
   "outputs": [],
   "source": [
    "def retorna_palavra(sentenca:str, qtd: int):      \n",
    "    return [palavra for palavra in sentenca.split(' ') if len(palavra) < qtd]\n",
    "\n"
   ]
  },
  {
   "cell_type": "code",
   "execution_count": 89,
   "metadata": {},
   "outputs": [
    {
     "data": {
      "text/plain": [
       "['and', 'and']"
      ]
     },
     "execution_count": 89,
     "metadata": {},
     "output_type": "execute_result"
    }
   ],
   "source": [
    "sentenca = \"Yellow Yaks like yelling and yawning and yesturday they yodled while eating yuky yams\"\n",
    "retorna_palavra(sentenca, 4)"
   ]
  },
  {
   "cell_type": "markdown",
   "metadata": {},
   "source": [
    "Crie uma função que entregue o cálculo do tamanho de uma circunferência\n"
   ]
  },
  {
   "cell_type": "code",
   "execution_count": 99,
   "metadata": {},
   "outputs": [],
   "source": [
    "def doispierre(raio, pi = 3.14159265359):\n",
    "    return 2*pi*raio"
   ]
  },
  {
   "cell_type": "code",
   "execution_count": 100,
   "metadata": {},
   "outputs": [
    {
     "data": {
      "text/plain": [
       "12.56"
      ]
     },
     "execution_count": 100,
     "metadata": {},
     "output_type": "execute_result"
    }
   ],
   "source": [
    "doispierre(2.0, 3.14)"
   ]
  },
  {
   "cell_type": "code",
   "execution_count": 101,
   "metadata": {},
   "outputs": [
    {
     "data": {
      "text/plain": [
       "12.56637061436"
      ]
     },
     "execution_count": 101,
     "metadata": {},
     "output_type": "execute_result"
    }
   ],
   "source": [
    "doispierre(2.0)"
   ]
  },
  {
   "cell_type": "markdown",
   "metadata": {},
   "source": [
    "crie uma função que receba duas listas e retorne a primeira lista como as chaves de um dicionário em que os valores são os que aqueles contidos na segunda lista:"
   ]
  },
  {
   "cell_type": "code",
   "execution_count": 1,
   "metadata": {},
   "outputs": [],
   "source": [
    "def criando_dict(lista1, lista2):\n",
    "    dicionario = dict(zip(lista1, lista2))\n",
    "    return dicionario\n"
   ]
  },
  {
   "cell_type": "code",
   "execution_count": 3,
   "metadata": {},
   "outputs": [
    {
     "name": "stdout",
     "output_type": "stream",
     "text": [
      "{'a': 1, 'b': 2, 'c': 3}\n"
     ]
    }
   ],
   "source": [
    "listaA = ['a', 'b', 'c']\n",
    "listaB = [ 1 ,  2 ,  3 ]\n",
    "retorno = criando_dict(listaA, listaB)\n",
    "print(retorno)"
   ]
  },
  {
   "cell_type": "markdown",
   "metadata": {},
   "source": [
    "1) Crie uma função ultimoElementoLista2D() que receba uma lista de duas dimensões (isto é, uma lista de listas, na forma de matriz) e utilize o zip para retornar o último elemento de cada sublista."
   ]
  },
  {
   "cell_type": "code",
   "execution_count": 24,
   "metadata": {},
   "outputs": [],
   "source": [
    "def ultimoElementoLista2D(lista):\n",
    "    return list(list(zip(*[reversed(y) for y in lista]))[0])"
   ]
  },
  {
   "cell_type": "code",
   "execution_count": 25,
   "metadata": {},
   "outputs": [
    {
     "data": {
      "text/plain": [
       "[3, 8, 6, 7]"
      ]
     },
     "execution_count": 25,
     "metadata": {},
     "output_type": "execute_result"
    }
   ],
   "source": [
    "lista = [\n",
    "    [1, 2, 3],\n",
    "    [4, 5, 6, 7, 8],\n",
    "    [2, 4, 6],\n",
    "    [1, 3, 6, 7]\n",
    "    ]\n",
    "ultimoElementoLista2D(lista)"
   ]
  },
  {
   "cell_type": "markdown",
   "metadata": {},
   "source": [
    "2) Crie uma função ``particionarLista()`` em python que recebe uma lista e retorne apenas os elementos das posições 5 até 12"
   ]
  },
  {
   "cell_type": "code",
   "execution_count": 27,
   "metadata": {},
   "outputs": [
    {
     "data": {
      "text/plain": [
       "[6, 7, 8, 9, 0, 9, 8, 7]"
      ]
     },
     "execution_count": 27,
     "metadata": {},
     "output_type": "execute_result"
    }
   ],
   "source": [
    "def particionarLista(lista, inicio = 5, fim = 12):\n",
    "    return lista[inicio:(fim+1)]\n",
    "\n",
    "lista = [1,2,3,4,5,6,7,8,9,0,9,8,7,6]\n",
    "particionarLista(lista)"
   ]
  },
  {
   "cell_type": "markdown",
   "metadata": {},
   "source": [
    "3) Crie uma função ``mediaAlunosParaDicionario()`` que receba uma lista de listas, em que o primeiro elemento é uma lista com os nomes dos alunos; e o segundo elemento é uma lista com suas respectivas médias. Utilizando compreensão de dicionários, armazene estes dados no dicionário de forma que cada aluno seja a chave e sua média seja o valor.\n",
    "\n",
    "OBS: caso a nota não esteja numérica, é necessário tratar os valores para tipos numéricos!"
   ]
  },
  {
   "cell_type": "code",
   "execution_count": 32,
   "metadata": {},
   "outputs": [
    {
     "data": {
      "text/plain": [
       "{'a': 1.0, 'b': 2.0, 'c': 3.0}"
      ]
     },
     "execution_count": 32,
     "metadata": {},
     "output_type": "execute_result"
    }
   ],
   "source": [
    "alunos = ['a', 'b', 'c']\n",
    "medias = [1, 2, 3]\n",
    "lista_de_listas = [alunos, medias]\n",
    "def mediaAlunosParaDicionario(lista: list):\n",
    "    minha_lista_de_tuplas = zip(lista[0], lista[1])\n",
    "    dict_alunos = {str(chave):float(valor) for chave, valor in minha_lista_de_tuplas}\n",
    "    return dict_alunos\n",
    "\n",
    "mediaAlunosParaDicionario(lista_de_listas)"
   ]
  },
  {
   "cell_type": "markdown",
   "metadata": {},
   "source": [
    "4) Seja uma lista de clientes dada por [{\"nome\": \"fulano\", \"renda\": 1000},{\"nome\": \"cicrano\", \"renda\": 2000}, {\"nome\": \"beltrano\", \"renda\": 3000}]. Crie uma função que receba listas como a descrita acima e retorne o cliente com maior renda e a média de todas as rendas"
   ]
  },
  {
   "cell_type": "code",
   "execution_count": 46,
   "metadata": {},
   "outputs": [
    {
     "name": "stdout",
     "output_type": "stream",
     "text": [
      "O maior salário é do beltrano e a média dos salários é de 2000.0\n"
     ]
    }
   ],
   "source": [
    "clientes = [\n",
    "    {\"nome\": \"fulano\", \"renda\": 1000},\n",
    "    {\"nome\": \"cicrano\", \"renda\": 2000}, \n",
    "    {\"nome\": \"beltrano\", \"renda\": 3000}\n",
    "    ]\n",
    "\n",
    "def maior_renda(json):\n",
    "    md = 0\n",
    "    renda_maior = 0\n",
    "    nome_maior = ''\n",
    "    tamanho = len(json)\n",
    "    for i in json:\n",
    "        md += i['renda']\n",
    "        if renda_maior  < i['renda']:\n",
    "            renda_maior = i['renda']\n",
    "            nome_maior  = i[ 'nome']\n",
    "    md /= tamanho\n",
    "    return(md, nome_maior)\n",
    "\n",
    "\n",
    "media_salario, nome_maior_salario = maior_renda(clientes)\n",
    "print(f\"O maior salário é do {nome_maior_salario} e a média dos salários é de {media_salario}.\")"
   ]
  },
  {
   "cell_type": "markdown",
   "metadata": {},
   "source": [
    "5) Implemente uma função ``remove_espaco(listaStrings)`` que recebe uma lista de strings e retire espaços extras que possam haver no início, meio ou no fim de uma string. Por exemplo, entrada: ``[\"  string\", \"  exemplo  \", \"do   exercício\"] saída: [\"string\", \"exemplo\", \"do exercício\"]``."
   ]
  },
  {
   "cell_type": "code",
   "execution_count": 53,
   "metadata": {},
   "outputs": [
    {
     "name": "stdout",
     "output_type": "stream",
     "text": [
      "['string', 'exemplo', 'do', 'exercício']\n"
     ]
    }
   ],
   "source": [
    "listaString = [\"  string\", \"  exemplo  \", \"do   exercício\"]\n",
    "\n",
    "def remove_espaco(listaString):\n",
    "    lista = list()\n",
    "    for string in listaString:\n",
    "        aux = string.split(' ')\n",
    "        for i in aux:\n",
    "            if len(i)!= 0:\n",
    "                lista.append(i)\n",
    "    return(lista)\n",
    "\n",
    "remove_espaco(listaString)"
   ]
  },
  {
   "cell_type": "code",
   "execution_count": 79,
   "metadata": {},
   "outputs": [
    {
     "data": {
      "text/plain": [
       "['string', 'exemplo', 'do exercício']"
      ]
     },
     "execution_count": 79,
     "metadata": {},
     "output_type": "execute_result"
    }
   ],
   "source": [
    "def remove_espaco(listaString):\n",
    "    ans = [\" \".join(i.split()) for i in listaString]\n",
    "    return(ans)\n",
    "remove_espaco(listaString)"
   ]
  },
  {
   "cell_type": "markdown",
   "metadata": {},
   "source": [
    "6) Crie uma função que forneça a média de todos os valores de uma lista que contenha números ou outras listas. Exemplo: [[1,2],3,[4,5,6]] => 21/6"
   ]
  },
  {
   "cell_type": "code",
   "execution_count": 82,
   "metadata": {},
   "outputs": [
    {
     "data": {
      "text/plain": [
       "3.5"
      ]
     },
     "execution_count": 82,
     "metadata": {},
     "output_type": "execute_result"
    }
   ],
   "source": [
    "def media(lista):\n",
    "    tamanho = 0\n",
    "    media = 0\n",
    "    for item in lista:\n",
    "        if type(item) == list:\n",
    "            for subitem in item:\n",
    "                media += subitem\n",
    "                tamanho += 1\n",
    "        else:\n",
    "            media += item\n",
    "            tamanho += 1\n",
    "    return (media/tamanho)\n",
    "    \n",
    "lista =  [[1,2],3,[4,5,6]]\n",
    "media(lista)"
   ]
  },
  {
   "cell_type": "markdown",
   "metadata": {},
   "source": [
    "7) Crie uma função que faça a média de todos os números fornecidos, independentemente da quantidade de inputs."
   ]
  },
  {
   "cell_type": "code",
   "execution_count": 72,
   "metadata": {},
   "outputs": [
    {
     "data": {
      "text/plain": [
       "4.0"
      ]
     },
     "execution_count": 72,
     "metadata": {},
     "output_type": "execute_result"
    }
   ],
   "source": [
    "def media(*numeros):\n",
    "    soma = 0\n",
    "    for n in numeros:\n",
    "        soma = soma + n\n",
    "    return soma/len(numeros)\n",
    "media(1, 1, 10)"
   ]
  },
  {
   "cell_type": "markdown",
   "metadata": {},
   "source": [
    "8) Considere os dados abaixo:\n",
    "    \n",
    "```python\n",
    "\n",
    "aulas = {\n",
    "    \"classe\": {\n",
    "        \"alunos\": {\n",
    "            \"name\": \"Mike\",\n",
    "            \"notas\": {\n",
    "                \"a\": 70,\n",
    "                \"b\": 80,\n",
    "                \"c\": 50\n",
    "            },\n",
    "            {\n",
    "            \"name\": \"Debora\",\n",
    "            \"notas\": {\n",
    "                \"a\": 72,\n",
    "                \"b\": 30,\n",
    "                \"c\": 60\n",
    "            },\n",
    "            {\n",
    "            \"name\": \"Pedro\",\n",
    "            \"notas\": {\n",
    "                \"a\": 32,\n",
    "                \"b\": 30,\n",
    "                \"c\": 20\n",
    "            }\n",
    "                \n",
    "        }\n",
    "    }\n",
    "}\n",
    "\n",
    "```\n",
    "Crie uma função que calcula a média da turma e forneça o aluno com maior média."
   ]
  },
  {
   "cell_type": "code",
   "execution_count": 85,
   "metadata": {},
   "outputs": [],
   "source": [
    "json = {\"classe\": \n",
    "            {\"alunos\": [\n",
    "                {\"name\": \"Mike\",\n",
    "                \"notas\": {\"a\": 70,\"b\": 80,\"c\": 50}\n",
    "                },\n",
    "                {\"name\": \"Debora\",\n",
    "                \"notas\": {\"a\": 72,\"b\": 30,\"c\": 60}\n",
    "                },\n",
    "                {\"name\": \"Pedro\",\n",
    "                \"notas\": {\"a\": 32,\"b\": 30,\"c\": 20}\n",
    "                }\n",
    "            ]}\n",
    "        }\n"
   ]
  },
  {
   "cell_type": "code",
   "execution_count": 86,
   "metadata": {},
   "outputs": [
    {
     "data": {
      "text/plain": [
       "{'classe': {'alunos': [{'name': 'Mike', 'notas': {'a': 70, 'b': 80, 'c': 50}},\n",
       "   {'name': 'Debora', 'notas': {'a': 72, 'b': 30, 'c': 60}},\n",
       "   {'name': 'Pedro', 'notas': {'a': 32, 'b': 30, 'c': 20}}]}}"
      ]
     },
     "execution_count": 86,
     "metadata": {},
     "output_type": "execute_result"
    }
   ],
   "source": [
    "def resultado(json):\n",
    "    md = 0\n",
    "    soma = 0\n",
    "    tamanho = len(json)\n",
    "    \n",
    "    # acessando a lista\n",
    "    lista = json['classe']['alunos']\n",
    "    aux_nome = ''\n",
    "    aux_nota"
   ]
  },
  {
   "cell_type": "markdown",
   "metadata": {},
   "source": [
    "# Lista 2 - Everest"
   ]
  },
  {
   "cell_type": "code",
   "execution_count": null,
   "metadata": {},
   "outputs": [],
   "source": []
  }
 ],
 "metadata": {
  "kernelspec": {
   "display_name": "Python 3",
   "language": "python",
   "name": "python3"
  },
  "language_info": {
   "codemirror_mode": {
    "name": "ipython",
    "version": 3
   },
   "file_extension": ".py",
   "mimetype": "text/x-python",
   "name": "python",
   "nbconvert_exporter": "python",
   "pygments_lexer": "ipython3",
   "version": "3.11.6"
  }
 },
 "nbformat": 4,
 "nbformat_minor": 2
}
