{
 "cells": [
  {
   "cell_type": "markdown",
   "metadata": {},
   "source": [
    "## OBS: bom link para exercícios gerais de lógica:\n",
    "Link: https://projecteuler.net/archives"
   ]
  },
  {
   "cell_type": "markdown",
   "metadata": {},
   "source": [
    "## Exercícios rápidos..."
   ]
  },
  {
   "cell_type": "markdown",
   "metadata": {},
   "source": [
    "#### 1) Gere uma lista com 100 números de Fibonacci"
   ]
  },
  {
   "cell_type": "code",
   "execution_count": 38,
   "metadata": {},
   "outputs": [],
   "source": [
    "def fibo(n_final):\n",
    "    fibonacci = list()\n",
    "    for n in range(n_final):\n",
    "        if n==0:\n",
    "            fibonacci.append(1)\n",
    "        elif n==1:\n",
    "            fibonacci.append(1)\n",
    "        else:\n",
    "            fibonacci.append(fibonacci[n-1] + fibonacci[n-2])\n",
    "    return(fibonacci)\n",
    "lista_100n_fibonacci = fibo(100)"
   ]
  },
  {
   "cell_type": "code",
   "execution_count": 39,
   "metadata": {},
   "outputs": [
    {
     "data": {
      "text/plain": [
       "[1,\n",
       " 1,\n",
       " 2,\n",
       " 3,\n",
       " 5,\n",
       " 8,\n",
       " 13,\n",
       " 21,\n",
       " 34,\n",
       " 55,\n",
       " 89,\n",
       " 144,\n",
       " 233,\n",
       " 377,\n",
       " 610,\n",
       " 987,\n",
       " 1597,\n",
       " 2584,\n",
       " 4181,\n",
       " 6765,\n",
       " 10946,\n",
       " 17711,\n",
       " 28657,\n",
       " 46368,\n",
       " 75025,\n",
       " 121393,\n",
       " 196418,\n",
       " 317811,\n",
       " 514229,\n",
       " 832040,\n",
       " 1346269,\n",
       " 2178309,\n",
       " 3524578,\n",
       " 5702887,\n",
       " 9227465,\n",
       " 14930352,\n",
       " 24157817,\n",
       " 39088169,\n",
       " 63245986,\n",
       " 102334155,\n",
       " 165580141,\n",
       " 267914296,\n",
       " 433494437,\n",
       " 701408733,\n",
       " 1134903170,\n",
       " 1836311903,\n",
       " 2971215073,\n",
       " 4807526976,\n",
       " 7778742049,\n",
       " 12586269025,\n",
       " 20365011074,\n",
       " 32951280099,\n",
       " 53316291173,\n",
       " 86267571272,\n",
       " 139583862445,\n",
       " 225851433717,\n",
       " 365435296162,\n",
       " 591286729879,\n",
       " 956722026041,\n",
       " 1548008755920,\n",
       " 2504730781961,\n",
       " 4052739537881,\n",
       " 6557470319842,\n",
       " 10610209857723,\n",
       " 17167680177565,\n",
       " 27777890035288,\n",
       " 44945570212853,\n",
       " 72723460248141,\n",
       " 117669030460994,\n",
       " 190392490709135,\n",
       " 308061521170129,\n",
       " 498454011879264,\n",
       " 806515533049393,\n",
       " 1304969544928657,\n",
       " 2111485077978050,\n",
       " 3416454622906707,\n",
       " 5527939700884757,\n",
       " 8944394323791464,\n",
       " 14472334024676221,\n",
       " 23416728348467685,\n",
       " 37889062373143906,\n",
       " 61305790721611591,\n",
       " 99194853094755497,\n",
       " 160500643816367088,\n",
       " 259695496911122585,\n",
       " 420196140727489673,\n",
       " 679891637638612258,\n",
       " 1100087778366101931,\n",
       " 1779979416004714189,\n",
       " 2880067194370816120,\n",
       " 4660046610375530309,\n",
       " 7540113804746346429,\n",
       " 12200160415121876738,\n",
       " 19740274219868223167,\n",
       " 31940434634990099905,\n",
       " 51680708854858323072,\n",
       " 83621143489848422977,\n",
       " 135301852344706746049,\n",
       " 218922995834555169026,\n",
       " 354224848179261915075]"
      ]
     },
     "execution_count": 39,
     "metadata": {},
     "output_type": "execute_result"
    }
   ],
   "source": [
    "lista_100n_fibonacci"
   ]
  },
  {
   "cell_type": "markdown",
   "metadata": {},
   "source": [
    "#### 2) Crie uma função que decida se um número é primo ou não"
   ]
  },
  {
   "cell_type": "code",
   "execution_count": 79,
   "metadata": {},
   "outputs": [
    {
     "name": "stdout",
     "output_type": "stream",
     "text": [
      "5 é primo.\n"
     ]
    }
   ],
   "source": [
    "def primo(n):\n",
    "    mult=0\n",
    "    if n == 1:\n",
    "        #print(\"Não é primo\")\n",
    "        return False\n",
    "    if n == 2:\n",
    "        #print(\"É primo\")\n",
    "        return True\n",
    "    for count in range(2,n):\n",
    "        if (n % count == 0):\n",
    "            #print(\"Não é primo\")\n",
    "            return False\n",
    "    if(mult==0):\n",
    "        #print(\"É primo\")\n",
    "        return True\n",
    "numero = 5\n",
    "resp = primo(numero)\n",
    "if resp == True:\n",
    "    print(numero, \"é primo.\")\n",
    "else:\n",
    "    print(numero, \"não é primo.\")"
   ]
  },
  {
   "cell_type": "markdown",
   "metadata": {},
   "source": [
    "#### 3) Crie uma função que retorne os primeiros K números primos"
   ]
  },
  {
   "cell_type": "code",
   "execution_count": 82,
   "metadata": {},
   "outputs": [
    {
     "data": {
      "text/plain": [
       "[5, 3, 2]"
      ]
     },
     "execution_count": 82,
     "metadata": {},
     "output_type": "execute_result"
    }
   ],
   "source": [
    "def lista_primo(lista,n):\n",
    "    if n == 0:\n",
    "        return lista\n",
    "    if primo(n):\n",
    "        lista.append(n)\n",
    "    return lista_primo(lista,n-1)\n",
    "\n",
    "lista_primo(list(),5)"
   ]
  },
  {
   "cell_type": "markdown",
   "metadata": {},
   "source": [
    "#### 4) Print todas as tuplas construídas a partir do índice e dos números pares de 1 até 20"
   ]
  },
  {
   "cell_type": "code",
   "execution_count": 88,
   "metadata": {},
   "outputs": [
    {
     "name": "stdout",
     "output_type": "stream",
     "text": [
      "(0, 2)\n",
      "(1, 4)\n",
      "(2, 6)\n",
      "(3, 8)\n",
      "(4, 10)\n",
      "(5, 12)\n",
      "(6, 14)\n",
      "(7, 16)\n",
      "(8, 18)\n"
     ]
    }
   ],
   "source": [
    "def tupla_par(n_inicial, n_final):\n",
    "    indice = 0\n",
    "    for i in range(n_inicial, n_final):\n",
    "        if i%2 == 0:\n",
    "            tupla = (indice, i)\n",
    "            print(tupla)\n",
    "            indice += 1\n",
    "tupla_par(1, 20)"
   ]
  },
  {
   "cell_type": "markdown",
   "metadata": {},
   "source": [
    "#### 5) Crie uma função que informe a multiplicação de uma matriz por outra"
   ]
  },
  {
   "cell_type": "code",
   "execution_count": 90,
   "metadata": {},
   "outputs": [],
   "source": [
    "def produto_vetorial(matriz_a, matriz_b):\n",
    "  \"\"\"\n",
    "  Calcula o produto vetorial de duas matrizes.\n",
    "\n",
    "  Args:\n",
    "    matriz_a: A primeira matriz.\n",
    "    matriz_b: A segunda matriz.\n",
    "\n",
    "  Returns:\n",
    "    A matriz com o resultado do produto vetorial.\n",
    "  \"\"\"\n",
    "\n",
    "  # Valida as matrizes\n",
    "\n",
    "  if len(matriz_a) != len(matriz_b[0]):\n",
    "    print (\"As matrizes devem ter o mesmo número de colunas.\")\n",
    "    return \n",
    "\n",
    "  # Calcula o produto vetorial\n",
    "\n",
    "  produto_vetorial = []\n",
    "  for i in range(len(matriz_a)):\n",
    "    produto_vetorial.append(\n",
    "        sum(matriz_a[i][j] * matriz_b[j][i] for j in range(len(matriz_b))))\n",
    "\n",
    "  return produto_vetorial\n",
    "\n"
   ]
  },
  {
   "cell_type": "code",
   "execution_count": 91,
   "metadata": {},
   "outputs": [
    {
     "name": "stdout",
     "output_type": "stream",
     "text": [
      "[19, 50]\n"
     ]
    }
   ],
   "source": [
    "matriz_a = [[1, 2], [3, 4]]\n",
    "matriz_b = [[5, 6], [7, 8]]\n",
    "\n",
    "produto_vetorial = produto_vetorial(matriz_a, matriz_b)\n",
    "\n",
    "print(produto_vetorial)\n"
   ]
  },
  {
   "cell_type": "code",
   "execution_count": null,
   "metadata": {},
   "outputs": [],
   "source": [
    "def produto_vetorial(matriz_a, matriz_b):\n",
    "  \"\"\"\n",
    "  Calcula o produto vetorial de duas matrizes.\n",
    "\n",
    "  Args:\n",
    "    matriz_a: A primeira matriz.\n",
    "    matriz_b: A segunda matriz.\n",
    "\n",
    "  Returns:\n",
    "    A matriz com o resultado do produto vetorial.\n",
    "  \"\"\"\n",
    "\n",
    "  # Valida as matrizes\n",
    "\n",
    "  if len(matriz_a) != len(matriz_b[0]):\n",
    "    raise ValueError(\"As matrizes devem ter o mesmo número de colunas.\")\n",
    "\n",
    "  # Calcula o produto vetorial\n",
    "\n",
    "  produto_vetorial = [\n",
    "      sum(matriz_a[i][j] * matriz_b[j][i] for j in range(len(matriz_b)))\n",
    "      for i in range(len(matriz_a))\n",
    "  ]\n",
    "\n",
    "  return produto_vetorial\n"
   ]
  }
 ],
 "metadata": {
  "kernelspec": {
   "display_name": "Python 3",
   "language": "python",
   "name": "python3"
  },
  "language_info": {
   "codemirror_mode": {
    "name": "ipython",
    "version": 3
   },
   "file_extension": ".py",
   "mimetype": "text/x-python",
   "name": "python",
   "nbconvert_exporter": "python",
   "pygments_lexer": "ipython3",
   "version": "3.11.6"
  }
 },
 "nbformat": 4,
 "nbformat_minor": 2
}
