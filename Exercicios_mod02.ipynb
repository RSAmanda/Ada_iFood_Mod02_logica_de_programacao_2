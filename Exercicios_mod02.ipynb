{
 "cells": [
  {
   "cell_type": "markdown",
   "metadata": {},
   "source": [
    "## OBS: bom link para exercícios gerais de lógica:\n",
    "Link: https://projecteuler.net/archives"
   ]
  },
  {
   "cell_type": "markdown",
   "metadata": {},
   "source": [
    "## Exercícios rápidos..."
   ]
  },
  {
   "cell_type": "markdown",
   "metadata": {},
   "source": [
    "#### 1) Gere uma lista com 100 números de Fibonacci"
   ]
  },
  {
   "cell_type": "code",
   "execution_count": null,
   "metadata": {},
   "outputs": [],
   "source": [
    "def fibo(n_final):\n",
    "    fibonacci = list()\n",
    "    for n in range(n_final):\n",
    "        if n==0:\n",
    "            fibonacci.append(1)\n",
    "        elif n==1:\n",
    "            fibonacci.append(1)\n",
    "        else:\n",
    "            fibonacci.append(fibonacci[n-1] + fibonacci[n-2])\n",
    "    return(fibonacci)\n",
    "lista_100n_fibonacci = fibo(100)"
   ]
  },
  {
   "cell_type": "code",
   "execution_count": null,
   "metadata": {},
   "outputs": [],
   "source": [
    "lista_100n_fibonacci"
   ]
  },
  {
   "cell_type": "markdown",
   "metadata": {},
   "source": [
    "#### 2) Crie uma função que decida se um número é primo ou não"
   ]
  },
  {
   "cell_type": "code",
   "execution_count": null,
   "metadata": {},
   "outputs": [],
   "source": [
    "def primo(n):\n",
    "    mult=0\n",
    "    if n == 1:\n",
    "        #print(\"Não é primo\")\n",
    "        return False\n",
    "    if n == 2:\n",
    "        #print(\"É primo\")\n",
    "        return True\n",
    "    for count in range(2,n):\n",
    "        if (n % count == 0):\n",
    "            #print(\"Não é primo\")\n",
    "            return False\n",
    "    if(mult==0):\n",
    "        #print(\"É primo\")\n",
    "        return True\n",
    "numero = 5\n",
    "resp = primo(numero)\n",
    "if resp == True:\n",
    "    print(numero, \"é primo.\")\n",
    "else:\n",
    "    print(numero, \"não é primo.\")"
   ]
  },
  {
   "cell_type": "markdown",
   "metadata": {},
   "source": [
    "#### 3) Crie uma função que retorne os primeiros K números primos"
   ]
  },
  {
   "cell_type": "code",
   "execution_count": null,
   "metadata": {},
   "outputs": [],
   "source": [
    "def lista_primo(lista,n):\n",
    "    if n == 0:\n",
    "        return lista\n",
    "    if primo(n):\n",
    "        lista.append(n)\n",
    "    return lista_primo(lista,n-1)\n",
    "\n",
    "lista_primo(list(),5)"
   ]
  },
  {
   "cell_type": "markdown",
   "metadata": {},
   "source": [
    "#### 4) Print todas as tuplas construídas a partir do índice e dos números pares de 1 até 20"
   ]
  },
  {
   "cell_type": "code",
   "execution_count": null,
   "metadata": {},
   "outputs": [],
   "source": [
    "def tupla_par(n_inicial, n_final):\n",
    "    indice = 0\n",
    "    for i in range(n_inicial, n_final):\n",
    "        if i%2 == 0:\n",
    "            tupla = (indice, i)\n",
    "            print(tupla)\n",
    "            indice += 1\n",
    "tupla_par(1, 20)"
   ]
  },
  {
   "cell_type": "markdown",
   "metadata": {},
   "source": [
    "#### 5) Crie uma função que informe a multiplicação de uma matriz por outra"
   ]
  },
  {
   "cell_type": "code",
   "execution_count": null,
   "metadata": {},
   "outputs": [],
   "source": [
    "def produto_vetorial(matriz_a, matriz_b):\n",
    "  \"\"\"\n",
    "  Calcula o produto vetorial de duas matrizes.\n",
    "\n",
    "  Args:\n",
    "    matriz_a: A primeira matriz.\n",
    "    matriz_b: A segunda matriz.\n",
    "\n",
    "  Returns:\n",
    "    A matriz com o resultado do produto vetorial.\n",
    "  \"\"\"\n",
    "\n",
    "  # Valida as matrizes\n",
    "\n",
    "  if len(matriz_a) != len(matriz_b[0]):\n",
    "    print (\"As matrizes devem ter o mesmo número de colunas.\")\n",
    "    return \n",
    "\n",
    "  # Calcula o produto vetorial\n",
    "\n",
    "  produto_vetorial = []\n",
    "  for i in range(len(matriz_a)):\n",
    "    produto_vetorial.append(\n",
    "        sum(matriz_a[i][j] * matriz_b[j][i] for j in range(len(matriz_b))))\n",
    "\n",
    "  return produto_vetorial\n",
    "\n"
   ]
  },
  {
   "cell_type": "code",
   "execution_count": null,
   "metadata": {},
   "outputs": [],
   "source": [
    "matriz_a = [[1, 2], [3, 4]]\n",
    "matriz_b = [[5, 6], [7, 8]]\n",
    "\n",
    "produto_vetorial = produto_vetorial(matriz_a, matriz_b)\n",
    "\n",
    "print(produto_vetorial)\n"
   ]
  },
  {
   "cell_type": "code",
   "execution_count": null,
   "metadata": {},
   "outputs": [],
   "source": [
    "def produto_vetorial(matriz_a, matriz_b):\n",
    "  \"\"\"\n",
    "  Calcula o produto vetorial de duas matrizes.\n",
    "\n",
    "  Args:\n",
    "    matriz_a: A primeira matriz.\n",
    "    matriz_b: A segunda matriz.\n",
    "\n",
    "  Returns:\n",
    "    A matriz com o resultado do produto vetorial.\n",
    "  \"\"\"\n",
    "\n",
    "  # Valida as matrizes\n",
    "\n",
    "  if len(matriz_a) != len(matriz_b[0]):\n",
    "    raise ValueError(\"As matrizes devem ter o mesmo número de colunas.\")\n",
    "\n",
    "  # Calcula o produto vetorial\n",
    "\n",
    "  produto_vetorial = [\n",
    "      sum(matriz_a[i][j] * matriz_b[j][i] for j in range(len(matriz_b)))\n",
    "      for i in range(len(matriz_a))\n",
    "  ]\n",
    "\n",
    "  return produto_vetorial\n"
   ]
  },
  {
   "cell_type": "markdown",
   "metadata": {},
   "source": [
    "# Lista 1 - Everest"
   ]
  },
  {
   "cell_type": "markdown",
   "metadata": {},
   "source": [
    "### Elemento e índice\n",
    "Em python, muitas vezes é útil iterarmos tanto pelos elementos quanto pelos índices de listas. Sabendo disso, crie uma função calculaPotencia() que recebe uma lista A e retorna uma lista B, tal que os elementos desta lista sejam iguais aos elementos da lista A elevado a potência igual ao índice do respectivo elemento.\n",
    "\n",
    "Por exemplo, dado uma lista A = [2,5,6], gere uma lista B = [2^0, 5^1, 6^2]."
   ]
  },
  {
   "cell_type": "code",
   "execution_count": null,
   "metadata": {},
   "outputs": [],
   "source": [
    "def calculaPotencia(tuplaA):\n",
    "    B = list()\n",
    "    for x in enumerate(tuplaA):\n",
    "        B.append(x[1]**x[0])\n",
    "    return B\n",
    "tuplaA = (24,40)\n",
    "print(calculaPotencia(tuplaA))"
   ]
  },
  {
   "cell_type": "markdown",
   "metadata": {},
   "source": [
    "### Adicionar elementos em listas\n",
    "Quando utilizamos listas, uma das vantagens é que podemos adicionar novos elementos com o passar do tempo. Podemos inserir elementos tanto ao final da lista, como também em uma posição específica.\n",
    "\n",
    "Sabendo disso, faça uma função adicionarElemento() que recebe uma lista de números e insere o número inteiro 42 no meio da lista (isto é, em sua posição central). Note que a posição de inserção pode variar a depender da quantidade de elementos na lista original."
   ]
  },
  {
   "cell_type": "code",
   "execution_count": 204,
   "metadata": {},
   "outputs": [],
   "source": [
    "def adicionarElemento(listaA):\n",
    "    if len(listaA) % 2 != 0: \n",
    "        meio = round((len(listaA))/2) -1  # qtd impar de elementos\n",
    "    else:\n",
    "        meio = round((len(listaA))/2) # qtd par de elementos\n",
    "    \n",
    "    if 42 in listaA:\n",
    "        if listaA[meio] != 42:\n",
    "            listaA[listaA.index(42)], listaA[meio] = listaA[meio], listaA[listaA.index(42)]\n",
    "            return (listaA)\n",
    "    else:\n",
    "        listaA.insert(meio, 42) #insert(POSICAO, VALOR)\n",
    "        return listaA"
   ]
  },
  {
   "cell_type": "code",
   "execution_count": 205,
   "metadata": {},
   "outputs": [
    {
     "data": {
      "text/plain": [
       "[7, 23, 42, 8]"
      ]
     },
     "execution_count": 205,
     "metadata": {},
     "output_type": "execute_result"
    }
   ],
   "source": [
    "listaA = [ 7,42,23, 8]\n",
    "adicionarElemento(listaA)\n"
   ]
  },
  {
   "cell_type": "markdown",
   "metadata": {},
   "source": [
    "## Remover elementos de listas\n",
    "Considere que uma empresa desenvolveu uma aplicação que solicita ao usuário uma dada informação, como, por exemplo, o segundo nome deste usuário. O programa recebe essa informação e armazena em uma lista de strings. Entretanto, caso um usuário acidentalmente não tenha preenchido esta informação, a lista conterá elementos vazios. Por exemplo, dada uma lista com 5 nomes: ``listaDeNomes = ['Araújo', 'Alexandre', 'Silva', 'Flávio', '']``, note que o último elemento da lista é apenas uma string vazia representada pelas aspas vazias.\n",
    "\n",
    "Sabendo disso, faça uma função removerElementosVazios() que recebe uma lista de nomes e retorna a lista sem os elementos vazios."
   ]
  },
  {
   "cell_type": "code",
   "execution_count": 228,
   "metadata": {},
   "outputs": [],
   "source": [
    "def removerElementosVazios(listaA):\n",
    "    n = listaA.count('')\n",
    "    while n > 0:\n",
    "        listaA.remove('') # remove o valor\n",
    "        n-=1\n",
    "    return listaA"
   ]
  },
  {
   "cell_type": "code",
   "execution_count": 229,
   "metadata": {},
   "outputs": [
    {
     "name": "stdout",
     "output_type": "stream",
     "text": [
      "['Maria', 'Coutinho']\n"
     ]
    }
   ],
   "source": [
    "listaDeNomes = [\"\",\"Maria\",\"Coutinho\",\"\"]\n",
    "print(removerElementosVazios(listaDeNomes))\n",
    "\n",
    "\n"
   ]
  },
  {
   "cell_type": "markdown",
   "metadata": {},
   "source": [
    "### Indexação de listas e último elemento\n",
    "Uma lista possui n elementos, sendo comum executarmos determinadas ações em um elemento de determinada posição. Por exemplo, podemos substituir o elemento da primeira posição da lista por outro valor desejado. Quando selecionamos um elemento, chamamos isto de indexação.\n",
    "\n",
    "Sendo assim, escreva uma função ``ultimoElemento()`` em python que recebe uma lista e retorna o último elemento da lista."
   ]
  },
  {
   "cell_type": "code",
   "execution_count": 230,
   "metadata": {},
   "outputs": [],
   "source": [
    "def ultimoElemento(listaA):\n",
    "\treturn listaA[-1]"
   ]
  },
  {
   "cell_type": "markdown",
   "metadata": {},
   "source": [
    "### Função zip\n",
    "Em programação, podemos fazer uso de diferentes listas para armazenar nossos dados para, posteriormente, unir informações destas listas. Por exemplo, podemos guardar em uma lista os nomes de funcionários de uma empresa e, em outra lista, os cargos que estes funcionários ocupam.\n",
    "\n",
    "``\n",
    "\n",
    "funcionarios = [\"Paulo\", \"Andrea\", \"Marta\"]\n",
    "\n",
    "profissao = [\"cientista de dados\", \"engenheiro de dados\", \"desenvolvedor\"]\n",
    "\n",
    "``\n",
    "Dado essas duas listas, podemos querer exibir as duas informações conjuntamente da seguinte forma:\n",
    "\n",
    "[('Paulo', 'cientista de dados'), ('Andrea', 'engenheiro de dados'), ('Marta', 'desenvolvedor')]\n",
    "\n",
    "Podemos fazer isto por meio da função zip que recebe as duas listas e retorna uma saída como exposta acima. Além de exibir os valores, podemos fazer uso da função ``zip`` para diversas funcionalidades. Sabendo disso, crie uma função ultimoElementoLista2D() que receba uma lista de duas dimensões (isto é, uma lista de listas, na forma de matriz) e utilize o zip para retornar o último elemento de cada sublista.\n",
    "\n",
    "Por exemplo, se tivermos a lista abaixo:\n",
    "\n",
    "[[192, 193, 194],\n",
    " [507, 508, 509],\n",
    " [526, 527, 528, 529],\n",
    " [560, 561],\n",
    " [635, 636, 637]]\n",
    " \n",
    "Retorne [194, 509, 529, 561, 637]."
   ]
  },
  {
   "cell_type": "code",
   "execution_count": 240,
   "metadata": {},
   "outputs": [
    {
     "data": {
      "text/plain": [
       "[194, 509, 529, 561, 637]"
      ]
     },
     "execution_count": 240,
     "metadata": {},
     "output_type": "execute_result"
    }
   ],
   "source": [
    "lista = [[192, 193, 194],\n",
    " [507, 508, 509],\n",
    " [526, 527, 528, 529],\n",
    " [560, 561],\n",
    " [635, 636, 637]]\n",
    "def ultimoElementoLista2D(listaA):\n",
    "    lista_final = list()\n",
    "    for elemento in zip(listaA):\n",
    "        lista_final.append(elemento[0][-1])\n",
    "    return lista_final\n",
    "ultimoElementoLista2D(lista)"
   ]
  },
  {
   "cell_type": "markdown",
   "metadata": {},
   "source": [
    "## Ordenando listas\n",
    "Em um sistema, comumente utilizamos listas para armazenamento de dados. Entretanto, existem casos em que torna-se necessário criarmos um padrão de organização dos dados. Por exemplo, podemos organizar um cadastro de clientes pela idade destes usuários. Este procedimento de organização é conhecido como ordenação.\n",
    "\n",
    "Sabendo disso, crie uma função chamada ordena_lista() que recebe uma lista de elementos e ordene-os em ordem decrescente. A função possui como parâmetro a lista a ser ordenada e retorna a mesma lista ordenada de forma decrescente."
   ]
  },
  {
   "cell_type": "code",
   "execution_count": 255,
   "metadata": {},
   "outputs": [
    {
     "data": {
      "text/plain": [
       "[100, 88, 32, 27, 14, 5, 2, 0]"
      ]
     },
     "execution_count": 255,
     "metadata": {},
     "output_type": "execute_result"
    }
   ],
   "source": [
    "def ordena_lista(lista):\n",
    "    lista.sort(reverse=True)\n",
    "    return lista\n",
    "\n",
    "\n",
    "lista = [100,88,32,27,14,5,2,0]\n",
    "ordena_lista(lista)"
   ]
  },
  {
   "cell_type": "markdown",
   "metadata": {},
   "source": [
    "Entrada:\n",
    "[  100,  88,  32,  27,  14,  5,  2,  0]\n",
    "\n",
    "Expectativa:\n",
    "[  100,  88,  32,  27,  14,  2,  5,  0]\n",
    "\n",
    "Resultado:\n",
    "[  100,  88,  32,  27,  14,  5,  2,  0]"
   ]
  },
  {
   "cell_type": "markdown",
   "metadata": {},
   "source": [
    "### Elementos individuais de listas\n",
    "Muitas vezes, precisamos acessar elementos individuais de listas, o que é possível de ser feito a partir de sua indexação.\n",
    "\n",
    "Sabendo disso, crie uma função ``retornaPenultimoEQuartoElementodeLista()`` que recebe uma lista e retorne o quarto e o penúltimo elemento desta lista, nesta ordem."
   ]
  },
  {
   "cell_type": "code",
   "execution_count": null,
   "metadata": {},
   "outputs": [],
   "source": [
    "def retornaPenultimoEQuartoElementodeLista(tuplaA):\n",
    "\treturn [tuplaA[3], tuplaA[-2]]"
   ]
  },
  {
   "cell_type": "markdown",
   "metadata": {},
   "source": [
    "### Slice\n",
    "Apesar de utilizarmos listas para armazenar vários elementos, existem situações em que precisamos utilizar apenas parte desta lista. Por exemplo, podemos guardar em uma lista de 30 elementos com o registro do preço do dólar a cada dia nos últimos 30 dias. Posteriormente, podemos querer visualizar o custo do dólar apenas nos últimos 7 dias, para isso pegando os últimos 7 elementos da lista ao invés de 30.\n",
    "\n",
    "Em python, quando selecionamos partes da lista, denominamos esta operação de *slicing*, podendo ser realizada não apenas para seleção dos últimos elementos da lista, como também elementos em qualquer posição da lista.\n",
    "\n",
    "Sabendo disso, crie uma função particionarLista() em python que recebe uma lista e retorne apenas os elementos das posições 5 até 12."
   ]
  },
  {
   "cell_type": "code",
   "execution_count": null,
   "metadata": {},
   "outputs": [],
   "source": [
    "def particionarLista(listaA):\n",
    "\treturn listaA[5:12]"
   ]
  },
  {
   "cell_type": "markdown",
   "metadata": {},
   "source": []
  }
 ],
 "metadata": {
  "kernelspec": {
   "display_name": "Python 3",
   "language": "python",
   "name": "python3"
  },
  "language_info": {
   "codemirror_mode": {
    "name": "ipython",
    "version": 3
   },
   "file_extension": ".py",
   "mimetype": "text/x-python",
   "name": "python",
   "nbconvert_exporter": "python",
   "pygments_lexer": "ipython3",
   "version": "3.11.6"
  }
 },
 "nbformat": 4,
 "nbformat_minor": 2
}
