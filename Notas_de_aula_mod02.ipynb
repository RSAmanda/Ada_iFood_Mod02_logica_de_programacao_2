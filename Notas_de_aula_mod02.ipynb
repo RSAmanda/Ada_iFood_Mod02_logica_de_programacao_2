{
 "cells": [
  {
   "cell_type": "markdown",
   "metadata": {},
   "source": [
    "# Notas da aula\n",
    "-> Lógica de Programação II\n",
    "\n",
    "- Ada Tech + iFood"
   ]
  },
  {
   "cell_type": "markdown",
   "metadata": {},
   "source": [
    "# Listas"
   ]
  },
  {
   "cell_type": "markdown",
   "metadata": {},
   "source": [
    "A lista é uma coleção de objetos em Python. Criando uma única variável para representar a lista, podemos armazenar múltiplos valores. Internamente, esses valores são representados por seus índices: um número inteiro, iniciando em zero e incrementando com passo unitário.\n",
    "\n",
    "Como os elementos em uma lista são representados por **números inteiros**, podemos facilmente percorrê-la variando seu índice de maneira automatizada. Apesar de funcionar, essa forma é considerada pouco legível. Existe uma maneira mais direta de percorrer uma lista. Ao trocarmos a função range do nosso ``for`` pela própria lista, ele irá copiar cada elemento da lista para a variável temporária. Assim conseguimos facilmente, e de maneira bem legível, acessar todos os elementos de uma lista.Caso tenhamos listas aninhadas, podemos percorrê-las aninhando loops. Utilizamos um loop para cada \"nível\" de lista."
   ]
  },
  {
   "cell_type": "code",
   "execution_count": 10,
   "metadata": {},
   "outputs": [],
   "source": [
    "dados_variados = [1,2,3,4,5,6]\n",
    "lista_de_listas = [[1,2],[3,4],[5,6]]"
   ]
  },
  {
   "cell_type": "code",
   "execution_count": 11,
   "metadata": {},
   "outputs": [
    {
     "name": "stdout",
     "output_type": "stream",
     "text": [
      "1\n",
      "2\n",
      "3\n",
      "4\n"
     ]
    }
   ],
   "source": [
    "# Forma 1\n",
    "for indice in range(4):\n",
    "    print(dados_variados[indice])"
   ]
  },
  {
   "cell_type": "code",
   "execution_count": 12,
   "metadata": {},
   "outputs": [
    {
     "name": "stdout",
     "output_type": "stream",
     "text": [
      "1\n",
      "2\n",
      "3\n",
      "4\n",
      "5\n",
      "6\n"
     ]
    }
   ],
   "source": [
    "# Forma 2\n",
    "for elemento in dados_variados:\n",
    "    print(elemento)"
   ]
  },
  {
   "cell_type": "code",
   "execution_count": 13,
   "metadata": {},
   "outputs": [
    {
     "name": "stdout",
     "output_type": "stream",
     "text": [
      "1\n",
      "2\n",
      "3\n",
      "4\n",
      "5\n",
      "6\n"
     ]
    }
   ],
   "source": [
    "# Forma 3\n",
    "for linha in lista_de_listas:\n",
    "    for elemento in linha:\n",
    "        print(elemento)"
   ]
  },
  {
   "cell_type": "markdown",
   "metadata": {},
   "source": [
    "## Formas de ordenação com comparação"
   ]
  },
  {
   "cell_type": "markdown",
   "metadata": {},
   "source": [
    "1. Bubble Sorting\n",
    "2. Selection Sort\n",
    "3. Insertion Sorting\n",
    "4. Quick Sorting\n",
    "5. Shell / Hill Sorting\n",
    "6. Heap Sorting\n",
    "7. Merge Sorting\n",
    "\n",
    "Link interessante: https://towardsdatascience.com/sorting-algorithms-with-python-4ec7081d78a1\n",
    "\n",
    "link sobre ordenação de listas : https://www.youtube.com/watch?v=kPRA0W1kECg\n",
    "\n",
    "(ordenação mais engraçada do insertion sort: https://www.youtube.com/watch?v=EdIKIf9mHk0)"
   ]
  },
  {
   "cell_type": "code",
   "execution_count": 20,
   "metadata": {},
   "outputs": [
    {
     "data": {
      "text/plain": [
       "[1, 2, 2, 3, 5, 7, 8]"
      ]
     },
     "execution_count": 20,
     "metadata": {},
     "output_type": "execute_result"
    }
   ],
   "source": [
    "# bubble sort\n",
    "lista = [1,3,2,5,7,2,8]\n",
    "def bubbleSort(lista):\n",
    "    trocou = False\n",
    "    for i in range(len(lista)-1,0,-1):\n",
    "        for j in range(i):\n",
    "            if lista[j]>lista[j+1]:\n",
    "                lista[j], lista[j+1] = lista[j+1], lista[j]\n",
    "                trocou = True\n",
    "        if trocou:\n",
    "            trocou =False\n",
    "        else:\n",
    "            break\n",
    "    return lista\n",
    "bubbleSort(lista)"
   ]
  },
  {
   "cell_type": "code",
   "execution_count": 19,
   "metadata": {},
   "outputs": [
    {
     "data": {
      "text/plain": [
       "[1, 2, 2, 3, 5, 7, 8]"
      ]
     },
     "execution_count": 19,
     "metadata": {},
     "output_type": "execute_result"
    }
   ],
   "source": [
    "# Selection sort\n",
    "lista = [1,3,2,5,7,2,8]\n",
    "def selectionSort(lista):\n",
    "    for i in range(len(lista)-1):\n",
    "        min_idx = i\n",
    "        for idx in range(i + 1, len(lista)):\n",
    "            if lista[idx] < lista[min_idx]:\n",
    "                min_idx = idx\n",
    "        lista[i], lista[min_idx] = lista[min_idx], lista[i]\n",
    "\n",
    "    return lista\n",
    "selectionSort(lista)"
   ]
  },
  {
   "cell_type": "code",
   "execution_count": 28,
   "metadata": {},
   "outputs": [
    {
     "data": {
      "text/plain": [
       "[1, 2, 2, 3, 5, 7, 8]"
      ]
     },
     "execution_count": 28,
     "metadata": {},
     "output_type": "execute_result"
    }
   ],
   "source": [
    "# insertion sort\n",
    "lista = [1,3,2,5,7,2,8]\n",
    "def insertionSort(lista):\n",
    "    for i in range(len(lista)):\n",
    "        valor = lista[i]\n",
    "        j = i-1\n",
    "        while j>0 and lista[j]>valor:\n",
    "            lista[j+1] = lista[j]\n",
    "            j = j-1\n",
    "        lista[j+1] = valor\n",
    "    return lista\n",
    "\n",
    "insertionSort(lista)"
   ]
  },
  {
   "cell_type": "code",
   "execution_count": 17,
   "metadata": {},
   "outputs": [
    {
     "data": {
      "text/plain": [
       "[1, 2, 2, 3, 5, 7, 8]"
      ]
     },
     "execution_count": 17,
     "metadata": {},
     "output_type": "execute_result"
    }
   ],
   "source": [
    "# quick sort\n",
    "lista = [1,3,2,5,7,2,8]\n",
    "\n",
    "def quickSort(lista):\n",
    "    if len(lista)> 1:\n",
    "        pivot=lista.pop()\n",
    "        grtr_lst, equal_lst, smlr_lst = [], [pivot], []\n",
    "        for item in lista:\n",
    "            if item == pivot:\n",
    "                equal_lst.append(item)\n",
    "            elif item > pivot:\n",
    "                grtr_lst.append(item)\n",
    "            else:\n",
    "                smlr_lst.append(item)\n",
    "        return (quickSort(smlr_lst) + equal_lst + quickSort(grtr_lst))\n",
    "    else:\n",
    "        return lista\n",
    "\n",
    "quickSort(lista)"
   ]
  },
  {
   "cell_type": "markdown",
   "metadata": {},
   "source": [
    "Calcular o tempo das funções:"
   ]
  },
  {
   "cell_type": "code",
   "execution_count": 49,
   "metadata": {},
   "outputs": [
    {
     "name": "stdout",
     "output_type": "stream",
     "text": [
      "Bubble Sort\n",
      "--- 65.65966534614563 seconds ---\n",
      "Selection Sort\n",
      "--- 26.729572296142578 seconds ---\n",
      "Insertion Sort\n",
      "--- 26.25794768333435 seconds ---\n",
      "Quick Sort\n",
      "--- 0.01498723030090332 seconds ---\n"
     ]
    }
   ],
   "source": [
    "import time\n",
    "tamanho = 50000\n",
    "lista = random.choices(range(100), weights=None, k=tamanho)\n",
    "start_time = time.time()\n",
    "bubbleSort(lista)\n",
    "print(\"Bubble Sort\")\n",
    "print(\"--- %s seconds ---\" % (time.time() - start_time))\n",
    "\n",
    "lista = random.choices(range(100), weights=None, k=tamanho)\n",
    "start_time = time.time()\n",
    "selectionSort(lista)\n",
    "print(\"Selection Sort\")\n",
    "print(\"--- %s seconds ---\" % (time.time() - start_time))\n",
    "\n",
    "lista = random.choices(range(100), weights=None, k=tamanho)\n",
    "start_time = time.time()\n",
    "insertionSort(lista)\n",
    "print(\"Insertion Sort\")\n",
    "print(\"--- %s seconds ---\" % (time.time() - start_time))\n",
    "\n",
    "lista = random.choices(range(100), weights=None, k=tamanho)\n",
    "start_time = time.time()\n",
    "quickSort(lista)\n",
    "print(\"Quick Sort\")\n",
    "print(\"--- %s seconds ---\" % (time.time() - start_time))\n",
    "\n",
    "\n"
   ]
  },
  {
   "cell_type": "markdown",
   "metadata": {},
   "source": [
    "# Tuplas"
   ]
  },
  {
   "cell_type": "markdown",
   "metadata": {},
   "source": [
    "Assim como as listas, as tuplas também são coleções de objetos.\n",
    "- Podem armazenar diversos objetivos de diferentes tipos.\n",
    "- Possuem índices.\n",
    "- Podemos criar uma tupla usando parênteses ou a função `tuple`.\n",
    "    - Caso a tupla possua pelo menos dois elementos, não precisamos de parênteses, basta separar os valores por vírgula."
   ]
  },
  {
   "cell_type": "code",
   "execution_count": 1,
   "metadata": {},
   "outputs": [
    {
     "name": "stdout",
     "output_type": "stream",
     "text": [
      "Python\n",
      "True\n",
      "Web Full Stack\n"
     ]
    }
   ],
   "source": [
    "tupla1 = tuple() # uma tupla vazia\n",
    "\n",
    "tupla2 = () # outra tupla vazia\n",
    "\n",
    "linguagens = ('Python', 'JavaScript', 'SQL') # uma tupla com 3 elementos\n",
    "\n",
    "dados_variados = 3.14, 1000, True, 'abacate' # uma tupla declarada sem parênteses\n",
    "\n",
    "tupla_de_tuplas = ( ('Curso', 'Módulo 1', 'Módulo 2'),\n",
    "                    ('Data Science', 'Lógica de Programação I', 'Lógica de Programação II'),\n",
    "                    ('Web Full Stack', 'Front End Estático', 'Front End Dinâmico'))\n",
    "\n",
    "print(linguagens[0]) # imprime \"Python\"\n",
    "print(dados_variados[2]) # imprime True\n",
    "print(tupla_de_tuplas[2][0]) # imprime \"Web Full Stack\""
   ]
  },
  {
   "cell_type": "markdown",
   "metadata": {},
   "source": [
    "> As operações de listas podem ser realizadas com tuplas:\n",
    "- iterações através de uma malha de repetição do tipo `for`\n",
    "- *slicing* passando índice inicial, final e salto\n",
    "- concatenação\n"
   ]
  },
  {
   "cell_type": "markdown",
   "metadata": {},
   "source": [
    "É possível também fazer conversão de lista para tupla e vice-versa:"
   ]
  },
  {
   "cell_type": "code",
   "execution_count": 2,
   "metadata": {},
   "outputs": [
    {
     "name": "stdout",
     "output_type": "stream",
     "text": [
      "('abacate', 'banana', 'carambola', 'damasco', 'embaúba', 'framboesa', 'goiaba')\n",
      "['abacate', 'banana', 'carambola', 'damasco', 'embaúba', 'framboesa', 'goiaba']\n"
     ]
    }
   ],
   "source": [
    "lista_frutas = ['abacate', 'banana', 'carambola',\n",
    "                'damasco', 'embaúba', 'framboesa', 'goiaba']\n",
    "\n",
    "tupla_frutas = tuple(lista_frutas)\n",
    "print(tupla_frutas)\n",
    "\n",
    "nova_lista_frutas = list(tupla_frutas)\n",
    "print(nova_lista_frutas)"
   ]
  },
  {
   "cell_type": "markdown",
   "metadata": {},
   "source": [
    "## Imutabilidade\n",
    "\n",
    "Listas possuem uma propriedade que a tupla não possui: **mutabilidade**.\n",
    "\n",
    "Ou seja, usaremos tupla quando não convém alterar os dados."
   ]
  },
  {
   "cell_type": "markdown",
   "metadata": {},
   "source": [
    "## Desampacotamento de tupla\n",
    "=> *tuple unpacking*\n",
    "\n",
    "> O desempacotamento de tupla é uma operação que permite facilmente atribuir o conteúdo de uma tupla a variáveis individuais, sem a necessidade de escrever múltiplas linhas de código e manipular índices.\n",
    "\n"
   ]
  },
  {
   "cell_type": "markdown",
   "metadata": {},
   "source": [
    "É muito utilizado para separar retorno de função com várias valores."
   ]
  },
  {
   "cell_type": "code",
   "execution_count": 3,
   "metadata": {},
   "outputs": [
    {
     "name": "stdout",
     "output_type": "stream",
     "text": [
      "Python\n",
      "['JavaScript', 'HTML', 'CSS', 'R']\n"
     ]
    }
   ],
   "source": [
    "linguagens = ('Python', 'JavaScript', 'HTML', 'CSS', 'R') # tupla\n",
    "\n",
    "primeira, *resto = linguagens\n",
    "print(primeira) # Python\n",
    "print(resto) # ['JavaScript', 'HTML', 'CSS', 'R'] #lista"
   ]
  },
  {
   "cell_type": "markdown",
   "metadata": {},
   "source": [
    "## Operações com tuplas \"implícitas\""
   ]
  },
  {
   "cell_type": "markdown",
   "metadata": {},
   "source": [
    "O Python oferece alguns truques que permitem escrever códigos mais enxutos do que em outras linguagens, e parte desses truques utiliza sintaxe de tupla. Por exemplo, para criar duas variáveis e atribuir valores simultaneamente a elas, podemos utilizar vírgulas:"
   ]
  },
  {
   "cell_type": "code",
   "execution_count": 4,
   "metadata": {},
   "outputs": [
    {
     "name": "stdout",
     "output_type": "stream",
     "text": [
      "10\n",
      "20\n"
     ]
    }
   ],
   "source": [
    "x, y = 10, 20\n",
    "\n",
    "print(x)\n",
    "print(y)"
   ]
  },
  {
   "cell_type": "markdown",
   "metadata": {},
   "source": [
    "Inverter valores:"
   ]
  },
  {
   "cell_type": "code",
   "execution_count": 5,
   "metadata": {},
   "outputs": [
    {
     "name": "stdout",
     "output_type": "stream",
     "text": [
      "20\n",
      "10\n"
     ]
    }
   ],
   "source": [
    "y, x = x, y\n",
    "\n",
    "print(x) \n",
    "print(y) "
   ]
  },
  {
   "cell_type": "markdown",
   "metadata": {},
   "source": [
    "# Facilidades para iteração"
   ]
  },
  {
   "cell_type": "markdown",
   "metadata": {},
   "source": [
    "## Enumerate"
   ]
  },
  {
   "cell_type": "code",
   "execution_count": 6,
   "metadata": {},
   "outputs": [
    {
     "name": "stdout",
     "output_type": "stream",
     "text": [
      "(0, 'abacate')\n",
      "(1, 'banana')\n",
      "(2, 'carambola')\n",
      "(3, 'damasco')\n",
      "(4, 'embaúba')\n",
      "(5, 'framboesa')\n",
      "(6, 'goiaba')\n"
     ]
    }
   ],
   "source": [
    "lista_frutas = ['abacate', 'banana', 'carambola',\n",
    "                'damasco', 'embaúba', 'framboesa', 'goiaba']\n",
    "for x in enumerate(lista_frutas):\n",
    "    print(x)"
   ]
  },
  {
   "cell_type": "markdown",
   "metadata": {},
   "source": [
    "O ``enumerate`` montou uma estrutura onde cada elemento é uma tupla, sendo o primeiro elemento da tupla um índice da lista, e o segundo o valor associado àquele índice. Aplicando desempacotamento de tupla no ``for``, podemos ter, simultaneamente, índice e valor em variáveis separadas, na prática percorrendo a lista tanto por índice quanto por valor. "
   ]
  },
  {
   "cell_type": "code",
   "execution_count": 8,
   "metadata": {},
   "outputs": [
    {
     "name": "stdout",
     "output_type": "stream",
     "text": [
      "ABACATE\n",
      "banana\n",
      "CARAMBOLA\n",
      "damasco\n",
      "EMBAÚBA\n",
      "framboesa\n",
      "GOIABA\n"
     ]
    }
   ],
   "source": [
    "# alternando entre maiúsculo e minúsculo:\n",
    "for indice, valor in enumerate(lista_frutas):\n",
    "    if indice % 2 == 0:\n",
    "        print(valor.upper())\n",
    "    else:\n",
    "        print(valor.lower())"
   ]
  },
  {
   "cell_type": "markdown",
   "metadata": {},
   "source": [
    "## Zip"
   ]
  },
  {
   "cell_type": "markdown",
   "metadata": {},
   "source": [
    "Assim como no ``enumerate``, o ``zip`` montou **tuplas**. Cada tupla representa 1 posição das listas originais, e cada posição dentro da tupla representa o dado de uma das listas. Ou seja, cada elemento do ``zip`` contém 1 elemento de cada lista original, na ordem que eles apareceram nas listas originais. Logo, ele permite percorrer 2 listas simultaneamente.\n",
    "\n",
    "Novamente podemos aplicar desempacotamento de tuplas em nosso loop e acessar os dados de cada lista individualmente de maneira legível:"
   ]
  },
  {
   "cell_type": "code",
   "execution_count": 9,
   "metadata": {},
   "outputs": [
    {
     "name": "stdout",
     "output_type": "stream",
     "text": [
      "Aluno Paul: 10\n",
      "Aluno John: 9.5\n",
      "Aluno George: 7\n",
      "Aluno Ringo: 6\n"
     ]
    }
   ],
   "source": [
    "alunos = ['Paul', 'John', 'George', 'Ringo']\n",
    "notas = [10, 9.5, 7, 6]\n",
    "\n",
    "for aluno, nota in zip(alunos, notas):\n",
    "    print(f'Aluno {aluno}: {nota}')"
   ]
  },
  {
   "cell_type": "markdown",
   "metadata": {},
   "source": [
    "# Dicionários"
   ]
  },
  {
   "cell_type": "markdown",
   "metadata": {},
   "source": [
    "> Em outras linguagens, o dicionário são conhecidos como tabelas *hash*, *hash map*, entre outros."
   ]
  },
  {
   "cell_type": "markdown",
   "metadata": {},
   "source": [
    "A estrutura **dicionário** em Python é uma coleção de dados. Porém, ela não é indexada. Ao adicionarmos elementos em um dicionário, sempre o fazemos aos pares: todo elemento terá uma **chave** e um **valor**.\n",
    "\n",
    "A chave será uma *string* que utilizaremos como se fosse o **índice**. É como se fosse a palavra que buscamos em um dicionário de papel.\n",
    "\n",
    "O valor pode ser qualquer dado: um ``int``, um ``float``, uma ``str``, um ``bool``, uma ``lista``, uma ``tupla``, outro ``dicionário``. Ele é como se fosse a definição que encontramos vinculada à palavra que buscamos no dicionário de papel."
   ]
  },
  {
   "cell_type": "markdown",
   "metadata": {},
   "source": [
    "## Criando um dicionário\n",
    "Separamos chave e valor utilizanod dois pontos(`:`), e separamos um par de outro utilizando vírgula. Utilizamos o símbolo chave(`{` e `}`) para representar um dicionário."
   ]
  },
  {
   "cell_type": "code",
   "execution_count": 1,
   "metadata": {},
   "outputs": [],
   "source": [
    "aluno = {'nome':'Mario', 'notas':[7, 9, 5, 6], 'presencas':0.8}"
   ]
  },
  {
   "cell_type": "code",
   "execution_count": 2,
   "metadata": {},
   "outputs": [
    {
     "data": {
      "text/plain": [
       "{'nome': 'Mario', 'notas': [7, 9, 5, 6], 'presencas': 0.8}"
      ]
     },
     "execution_count": 2,
     "metadata": {},
     "output_type": "execute_result"
    }
   ],
   "source": [
    "aluno"
   ]
  },
  {
   "cell_type": "markdown",
   "metadata": {},
   "source": [
    "Podemos acessar uma informação de um dicionário utilizando a sua **chave** da mesma maneira que utilizamos um índice em uma lista:"
   ]
  },
  {
   "cell_type": "code",
   "execution_count": 3,
   "metadata": {},
   "outputs": [
    {
     "name": "stdout",
     "output_type": "stream",
     "text": [
      "Aluno: Mario\n",
      "Notas: [7, 9, 5, 6]\n"
     ]
    }
   ],
   "source": [
    "print('Aluno:', aluno['nome']) # Aluno: Mario\n",
    "print('Notas:', aluno['notas']) # Notas: [7, 9, 5, 6]"
   ]
  },
  {
   "cell_type": "markdown",
   "metadata": {},
   "source": [
    "Também é possível criar dicionários através da função ``dict``. Ela pode ser utilizada de diferentes maneiras. Uma delas é passando parâmetros com nomes. Os nomes dos parâmetros se tornarão chaves, e os valores associados serão valores:"
   ]
  },
  {
   "cell_type": "code",
   "execution_count": 4,
   "metadata": {},
   "outputs": [
    {
     "name": "stdout",
     "output_type": "stream",
     "text": [
      "{'Ana': 7, 'Brenda': 10, 'Carlos': 8}\n"
     ]
    }
   ],
   "source": [
    "notas = dict(Ana = 7, Brenda = 10, Carlos = 8)\n",
    "print(notas) "
   ]
  },
  {
   "cell_type": "markdown",
   "metadata": {},
   "source": [
    "Outra possibilidade é utilizar uma **coleção** (como uma lista ou uma tupla) contendo, internamente, outras coleções com exatamente 2 elementos. O primeiro elemento será **chave**, o segundo será **valor**. O exemplo abaixo cria o mesmo dicionário do exemplo anterior:"
   ]
  },
  {
   "cell_type": "code",
   "execution_count": 5,
   "metadata": {},
   "outputs": [
    {
     "name": "stdout",
     "output_type": "stream",
     "text": [
      "{'Ana': 7, 'Brenda': 10, 'Carlos': 8}\n"
     ]
    }
   ],
   "source": [
    "lista = [['Ana', 7], ['Brenda', 10], ['Carlos', 8]]\n",
    "dicionario = dict(lista)\n",
    "print(dicionario)"
   ]
  },
  {
   "cell_type": "markdown",
   "metadata": {},
   "source": [
    "Caso você tenha suas chaves e valores em coleções separadas, uma maneira fácil de explorar a possibilidade anterior é utilizar um ``zip``:"
   ]
  },
  {
   "cell_type": "code",
   "execution_count": 7,
   "metadata": {},
   "outputs": [
    {
     "name": "stdout",
     "output_type": "stream",
     "text": [
      "{'Ana': 7, 'Brenda': 10, 'Carlos': 8}\n"
     ]
    }
   ],
   "source": [
    "nomes = ['Ana', 'Brenda', 'Carlos']\n",
    "notas = [7, 10, 8]\n",
    "dicionario_notas = dict(zip(nomes, notas))\n",
    "print(dicionario_notas)"
   ]
  },
  {
   "cell_type": "markdown",
   "metadata": {},
   "source": [
    "## Adicionando elementos em um dicionário"
   ]
  },
  {
   "cell_type": "markdown",
   "metadata": {},
   "source": [
    "Para adicionar elementos, não precisamos de uma função pronta (como o ``append`` das listas). Basta \"acessar\" a nova chave e atribuir um novo valor."
   ]
  },
  {
   "cell_type": "code",
   "execution_count": 8,
   "metadata": {},
   "outputs": [
    {
     "name": "stdout",
     "output_type": "stream",
     "text": [
      "{'nome': 'Mario', 'notas': [7, 9, 5, 6], 'presencas': 0.8, 'media': 6.75, 'aprovado': True}\n"
     ]
    }
   ],
   "source": [
    "aluno['media'] = sum(aluno['notas'])/len(aluno['notas'])\n",
    "\n",
    "aluno['aprovado'] = aluno['media'] >= 6.0 and aluno['presencas'] >= 0.7\n",
    "\n",
    "print(aluno)"
   ]
  },
  {
   "cell_type": "markdown",
   "metadata": {},
   "source": [
    "## Percorrendo um dicionário"
   ]
  },
  {
   "cell_type": "markdown",
   "metadata": {},
   "source": [
    "Dicionários podem ser percorridos com um ``for``. Ao fazer isso, as chaves serão percorridas, não os valores. Porém, a partir da chave obtém-se o valor:"
   ]
  },
  {
   "cell_type": "code",
   "execution_count": 14,
   "metadata": {},
   "outputs": [
    {
     "name": "stdout",
     "output_type": "stream",
     "text": [
      "nome \t---> Mario\n",
      "notas \t---> [7, 9, 5, 6]\n",
      "presencas \t---> 0.8\n",
      "media \t---> 6.75\n",
      "aprovado \t---> True\n"
     ]
    }
   ],
   "source": [
    "for chave in aluno:\n",
    "    print(chave, '\\t--->', aluno[chave])"
   ]
  },
  {
   "cell_type": "markdown",
   "metadata": {},
   "source": [
    "## Testando a existência de uma chave"
   ]
  },
  {
   "cell_type": "markdown",
   "metadata": {},
   "source": [
    "Antes de criar uma chave nova em um dicionário, convém testar se ela já existe, para evitar sobrescrever um valor. Podemos fazer isso com o operador ``in``. Neste contexto, ele retornará ``True`` se a chave existir e ``False`` caso contrário."
   ]
  },
  {
   "cell_type": "code",
   "execution_count": 15,
   "metadata": {},
   "outputs": [
    {
     "name": "stdout",
     "output_type": "stream",
     "text": [
      "{'escola': 'Ada', 'unidade': 'Faria Lima', 'cursos': ['Python', 'Data Science']}\n"
     ]
    }
   ],
   "source": [
    "dicionario = {'escola':\"Ada\", 'unidade':'Faria Lima'}\n",
    "\n",
    "# Neste caso, 'cursos' ainda não existe.\n",
    "# Cairemos no else e será criada uma lista com a string 'Python'.\n",
    "\n",
    "if 'cursos' in dicionario:\n",
    "    dicionario['cursos'].append('Python')\n",
    "else:\n",
    "    dicionario['cursos'] = ['Python']\n",
    "\n",
    "# Agora a chave já existe. \n",
    "# Portanto, será adicionado 'Data Science' à lista. \n",
    "if 'cursos' in dicionario:\n",
    "    dicionario['cursos'].append('Data Science')\n",
    "else:\n",
    "    dicionario['cursos'] = ['Data Science']\n",
    "    \n",
    "print(dicionario)"
   ]
  },
  {
   "cell_type": "code",
   "execution_count": 17,
   "metadata": {},
   "outputs": [
    {
     "name": "stdout",
     "output_type": "stream",
     "text": [
      "escola ---> Ada\n",
      "unidade ---> Faria Lima\n",
      "cursos ---> ['Python', 'Data Science']\n"
     ]
    }
   ],
   "source": [
    "for chave in dicionario:\n",
    "    print(chave, '--->', dicionario[chave])"
   ]
  },
  {
   "cell_type": "markdown",
   "metadata": {},
   "source": [
    "# Métodos de Dicionários"
   ]
  },
  {
   "cell_type": "markdown",
   "metadata": {},
   "source": [
    "[Lista de métodos para dicionários](https://www.w3schools.com/python/python_ref_dictionary.asp)"
   ]
  },
  {
   "cell_type": "markdown",
   "metadata": {},
   "source": [
    "## Acessando valores de maneira segura"
   ]
  },
  {
   "cell_type": "markdown",
   "metadata": {},
   "source": [
    "### *get*"
   ]
  },
  {
   "cell_type": "markdown",
   "metadata": {},
   "source": [
    "O método ``get`` permite acessar uma chave sem a ocorrência de erro. Caso uma chave não exista, ele irá retornar ``None``, a constante nula denotando a ausência de valor."
   ]
  },
  {
   "cell_type": "code",
   "execution_count": 19,
   "metadata": {},
   "outputs": [],
   "source": [
    "nomes = ['Ana', 'Brenda', 'Carlos']\n",
    "notas = [7, 10, 8]\n",
    "dicionario_notas = dict(zip(nomes, notas))"
   ]
  },
  {
   "cell_type": "code",
   "execution_count": 20,
   "metadata": {},
   "outputs": [
    {
     "data": {
      "text/plain": [
       "{'Ana': 7, 'Brenda': 10, 'Carlos': 8}"
      ]
     },
     "execution_count": 20,
     "metadata": {},
     "output_type": "execute_result"
    }
   ],
   "source": [
    "dicionario_notas"
   ]
  },
  {
   "cell_type": "code",
   "execution_count": 21,
   "metadata": {},
   "outputs": [
    {
     "name": "stdout",
     "output_type": "stream",
     "text": [
      "None\n"
     ]
    }
   ],
   "source": [
    "nota_daniel = dicionario_notas.get('Daniel')\n",
    "print(nota_daniel)"
   ]
  },
  {
   "cell_type": "markdown",
   "metadata": {},
   "source": [
    "O ``get`` aceita como parâmetro opcional um valor padrão que será retornado ao invés de ``None`` caso a chave não exista:"
   ]
  },
  {
   "cell_type": "code",
   "execution_count": 22,
   "metadata": {},
   "outputs": [
    {
     "name": "stdout",
     "output_type": "stream",
     "text": [
      "10\n",
      "0\n"
     ]
    }
   ],
   "source": [
    "nota_brenda = dicionario_notas.get('Brenda', 0) # valor de nota_brenda: 10\n",
    "print(nota_brenda)\n",
    "nota_daniel = dicionario_notas.get('Daniel', 0) # valor de nota_daniel: None\n",
    "print(nota_daniel)"
   ]
  },
  {
   "cell_type": "markdown",
   "metadata": {},
   "source": [
    "### *setdefault*"
   ]
  },
  {
   "cell_type": "markdown",
   "metadata": {},
   "source": [
    "Um caso específico que vimos foi quando desejamos inserir uma chave caso ela não exista ou acessar seu valor caso ela exista. O método ``setdefault`` faz exatamente isso. Passamos uma chave e um valor. Se a chave for encontrada, seu valor é retornado. Caso contrário, ela é inserida com o valor passado. Vamos refazer o exemplo do ``in`` utilizando este método:"
   ]
  },
  {
   "cell_type": "code",
   "execution_count": 23,
   "metadata": {},
   "outputs": [
    {
     "name": "stdout",
     "output_type": "stream",
     "text": [
      "['Python']\n",
      "['Python', 'Data Science']\n"
     ]
    }
   ],
   "source": [
    "dicionario = {'escola':\"Ada\", 'unidade':'Faria Lima'}\n",
    "cursos = dicionario.setdefault('cursos', ['Python'])\n",
    "print(cursos) \n",
    "cursos.append('Data Science')\n",
    "print(dicionario['cursos']) "
   ]
  },
  {
   "cell_type": "markdown",
   "metadata": {},
   "source": [
    "## Copiando dicionários"
   ]
  },
  {
   "cell_type": "markdown",
   "metadata": {},
   "source": [
    "### Criando um novo dicionário"
   ]
  },
  {
   "cell_type": "markdown",
   "metadata": {},
   "source": [
    "Quando você já possui um dicionário e gostaria de copiar todo o seu conteúdo para outro dicionário, assim como no caso da lista, **você não deve fazer uma atribuição direta**, pois não houve cópia, e sim duas variáveis referenciando o mesmo dicionário na memória:"
   ]
  },
  {
   "cell_type": "code",
   "execution_count": 28,
   "metadata": {},
   "outputs": [
    {
     "name": "stdout",
     "output_type": "stream",
     "text": [
      "0\n"
     ]
    }
   ],
   "source": [
    "nomes = ['Ana', 'Brenda', 'Carlos']\n",
    "notas = [7, 10, 8]\n",
    "dicionario_notas = dict(zip(nomes, notas))\n",
    "dicionario_notas_copia = dicionario_notas\n",
    "\n",
    "dicionario_notas_copia['Ana'] = 0\n",
    "print(dicionario_notas['Ana']) "
   ]
  },
  {
   "cell_type": "markdown",
   "metadata": {},
   "source": [
    "Para copiar de fato o dicionário você pode utilizar o método ``copy``:"
   ]
  },
  {
   "cell_type": "code",
   "execution_count": 29,
   "metadata": {},
   "outputs": [
    {
     "name": "stdout",
     "output_type": "stream",
     "text": [
      "7\n",
      "0\n"
     ]
    }
   ],
   "source": [
    "nomes = ['Ana', 'Brenda', 'Carlos']\n",
    "notas = [7, 10, 8]\n",
    "dicionario_notas = dict(zip(nomes, notas))\n",
    "dicionario_notas_copia = dicionario_notas.copy()\n",
    "\n",
    "dicionario_notas_copia['Ana'] = 0\n",
    "print(dicionario_notas['Ana'])\n",
    "print(dicionario_notas_copia['Ana'])"
   ]
  },
  {
   "cell_type": "markdown",
   "metadata": {},
   "source": [
    "### Copiar um dicionário para dicionário já existente"
   ]
  },
  {
   "cell_type": "markdown",
   "metadata": {},
   "source": [
    "Imagine que você já possui dois dicionários distintos e gostaria de uni-los, copiando os pares chave-valor de um deles para o outro. Você pode fazer isso utilizando o método ``update``."
   ]
  },
  {
   "cell_type": "code",
   "execution_count": 27,
   "metadata": {},
   "outputs": [
    {
     "name": "stdout",
     "output_type": "stream",
     "text": [
      "{'escola': 'Ada', 'unidade': 'Faria Lima', 'trilhas': ['Data Science', 'Web Full Stack'], 'formato': 'online'}\n"
     ]
    }
   ],
   "source": [
    "escola = {'escola':\"Ada\", 'unidade':'Faria Lima'}\n",
    "mais_escola = {'trilhas':['Data Science', 'Web Full Stack'], 'formato':'online'}\n",
    "\n",
    "escola.update(mais_escola)\n",
    "\n",
    "print(escola)"
   ]
  },
  {
   "cell_type": "markdown",
   "metadata": {},
   "source": [
    "## Removendo elementos de um dicionário"
   ]
  },
  {
   "cell_type": "markdown",
   "metadata": {},
   "source": [
    "Você pode remover um elemento de um dicionário através do método ``pop``. Você deve passar a chave a ser removida."
   ]
  },
  {
   "cell_type": "code",
   "execution_count": 26,
   "metadata": {},
   "outputs": [
    {
     "name": "stdout",
     "output_type": "stream",
     "text": [
      "{'nome': 'Mario', 'notas': [7, 9, 5, 6]}\n"
     ]
    }
   ],
   "source": [
    "aluno = {'nome':'Mario', 'notas':[7, 9, 5, 6], 'presencas':0.8}\n",
    "aluno.pop('presencas')\n",
    "print(aluno)"
   ]
  },
  {
   "cell_type": "markdown",
   "metadata": {},
   "source": [
    "## Separando chaves e valores"
   ]
  },
  {
   "cell_type": "markdown",
   "metadata": {},
   "source": [
    "O Python possui funções para obter, separadamente, todas as chaves ou todos os valores de um dicionário. Elas são, respectivamente, ``keys`` e ``values``. Podemos transformar o retorno dessa função em uma lista ou tupla."
   ]
  },
  {
   "cell_type": "code",
   "execution_count": 24,
   "metadata": {},
   "outputs": [
    {
     "name": "stdout",
     "output_type": "stream",
     "text": [
      "Chaves:  ['nome', 'notas', 'presencas']\n",
      "Valores: ['Mario', [7, 9, 5, 6], 0.8]\n"
     ]
    }
   ],
   "source": [
    "aluno = {'nome':'Mario', 'notas':[7, 9, 5, 6], 'presencas':0.8}\n",
    "\n",
    "chaves = list(aluno.keys())\n",
    "valores = list(aluno.values())\n",
    "\n",
    "print('Chaves: ', chaves)\n",
    "print('Valores:', valores)"
   ]
  },
  {
   "cell_type": "markdown",
   "metadata": {},
   "source": [
    "O método ``items`` retorna uma coleção de tuplas, onde cada tupla contém um par chave-valor do dicionário:"
   ]
  },
  {
   "cell_type": "code",
   "execution_count": 25,
   "metadata": {},
   "outputs": [
    {
     "name": "stdout",
     "output_type": "stream",
     "text": [
      "dict_items([('nome', 'Mario'), ('notas', [7, 9, 5, 6]), ('presencas', 0.8)])\n"
     ]
    }
   ],
   "source": [
    "print(aluno.items())"
   ]
  },
  {
   "cell_type": "markdown",
   "metadata": {},
   "source": [
    "# Compreensão de listas e expressões geradora"
   ]
  },
  {
   "cell_type": "markdown",
   "metadata": {},
   "source": [
    "## Compreensão de Listas"
   ]
  },
  {
   "cell_type": "markdown",
   "metadata": {},
   "source": [
    "### Compreensão de listas contendo apenas um loop"
   ]
  },
  {
   "cell_type": "markdown",
   "metadata": {},
   "source": [
    "Exemplo de compreensão de lista para armazenar o quadrado dos números de 1 até 10:"
   ]
  },
  {
   "cell_type": "code",
   "execution_count": 5,
   "metadata": {},
   "outputs": [
    {
     "name": "stdout",
     "output_type": "stream",
     "text": [
      "[1, 4, 9, 16, 25, 36, 49, 64, 81, 100]\n"
     ]
    }
   ],
   "source": [
    "quadrados_compreensao = [num**2 for num in range(1,11)]\n",
    "print(quadrados_compreensao)"
   ]
  },
  {
   "cell_type": "markdown",
   "metadata": {},
   "source": [
    "Exemplo de compreensão de lista contendo a metade do valor de cada elemento de uma outra lista"
   ]
  },
  {
   "cell_type": "code",
   "execution_count": 6,
   "metadata": {},
   "outputs": [
    {
     "name": "stdout",
     "output_type": "stream",
     "text": [
      "[0.5, 4.5, 2.0, 3.5, 3.0, 1.0]\n"
     ]
    }
   ],
   "source": [
    "numeros = [1, 9, 4, 7, 6, 2]\n",
    "metades = [n/2 for n in numeros]\n",
    "print(metades)"
   ]
  },
  {
   "cell_type": "markdown",
   "metadata": {},
   "source": [
    "### Condicionais em compreensões"
   ]
  },
  {
   "cell_type": "markdown",
   "metadata": {},
   "source": [
    "Exemplo - criar lista com metade apenas dos números pares:"
   ]
  },
  {
   "cell_type": "code",
   "execution_count": 7,
   "metadata": {},
   "outputs": [
    {
     "name": "stdout",
     "output_type": "stream",
     "text": [
      "[2.0, 3.0, 1.0]\n"
     ]
    }
   ],
   "source": [
    "metade_pares = [n/2 for n in numeros if n % 2 == 0]\n",
    "print(metade_pares)"
   ]
  },
  {
   "cell_type": "markdown",
   "metadata": {},
   "source": [
    "- Reprodução do exemplo acima, com a condição de não utilizar tipo float desnecessariamente:"
   ]
  },
  {
   "cell_type": "code",
   "execution_count": 8,
   "metadata": {},
   "outputs": [
    {
     "name": "stdout",
     "output_type": "stream",
     "text": [
      "[0.5, 4.5, 2, 3.5, 3, 1]\n"
     ]
    }
   ],
   "source": [
    "metade_tipos = [n//2 if n % 2 == 0 else  n/2 for n in numeros]\n",
    "print(metade_tipos)"
   ]
  },
  {
   "cell_type": "markdown",
   "metadata": {},
   "source": [
    "> Note que quando usamos o `else`, a ordem da compreensão sobre uma alteração. Quando usamos apenas o `if`, ele vem após o `for`. Com o `else`, ambos vêm antes."
   ]
  },
  {
   "cell_type": "markdown",
   "metadata": {},
   "source": [
    "Generalizando a sintaxe:\n",
    "\n",
    "```\n",
    "lista = [expressao for item in colecao]\n",
    "\n",
    "# ... equivale a...\n",
    "\n",
    "for item in colecao:\n",
    "    lista.append(expresssao)\n",
    "\n",
    "```\n",
    "---------\n",
    "\n",
    "```\n",
    "lista = [expressao for item in colecao if condicao]\n",
    "\n",
    "# ... equivale a...\n",
    "\n",
    "for item in colecao:\n",
    "    if condicao:\n",
    "        lista.append(expresssao)\n",
    "\n",
    "```\n",
    "---------\n",
    "\n",
    "```\n",
    "lista = [expressao if condicao else expressao_alternativa for item in colecao]\n",
    "\n",
    "# ... equivale a...\n",
    "\n",
    "for item in colecao:\n",
    "    if condicao:\n",
    "        lista.append(expresssao)\n",
    "    else:\n",
    "        lista.append(expresssao_alternativa)\n",
    "\n",
    "```\n"
   ]
  },
  {
   "cell_type": "markdown",
   "metadata": {},
   "source": [
    "### Aninhando compreensões"
   ]
  },
  {
   "cell_type": "markdown",
   "metadata": {},
   "source": [
    "É possível aninhar compreensões de listas, ou seja, um `for` dentro de outro `for`."
   ]
  },
  {
   "cell_type": "code",
   "execution_count": 1,
   "metadata": {},
   "outputs": [
    {
     "name": "stdout",
     "output_type": "stream",
     "text": [
      "['Ana Silva', 'Ana Oliveira', 'Bruno Silva', 'Bruno Oliveira', 'Carla Silva', 'Carla Oliveira', 'Daniel Silva', 'Daniel Oliveira', 'Emília Silva', 'Emília Oliveira']\n"
     ]
    }
   ],
   "source": [
    "nomes = ['Ana', 'Bruno', 'Carla', 'Daniel', 'Emília']\n",
    "sobrenomes = ['Silva', 'Oliveira']\n",
    "\n",
    "combinacoes = [nome + ' ' + sobrenome for nome in nomes for sobrenome in sobrenomes]\n",
    "print(combinacoes)"
   ]
  },
  {
   "cell_type": "markdown",
   "metadata": {},
   "source": [
    "O `for` acima equivale à:\n",
    "\n",
    "```\n",
    "combinacoes = []\n",
    "\n",
    "for nome in nomes:\n",
    "    for sobrenome in sobrenomes:\n",
    "        combinacoes.append(nome + ' ' + sobrenome)\n",
    "```"
   ]
  },
  {
   "cell_type": "markdown",
   "metadata": {},
   "source": [
    "Podemos utilizar a compreensão de lista para trabalhar com matrizes.\n",
    "\n",
    "O exemplo abaixo lê pelo teclado a quantidade de vitória, empates e derrotas para cada time em um grupo:"
   ]
  },
  {
   "cell_type": "code",
   "execution_count": 3,
   "metadata": {},
   "outputs": [
    {
     "name": "stdout",
     "output_type": "stream",
     "text": [
      "[[2, 1, 4], [3, 1, 4], [3, 5, 3], [1, 5, 3]]\n"
     ]
    }
   ],
   "source": [
    "times = ['Atlético Python', 'JavaScript United', 'C Seniors', 'Javeiros do Norte']\n",
    "entradas = ['V', 'E', 'D']\n",
    "\n",
    "tabela = [[int(input(f'Digite a quantidade de {tipo} do time {time}: ')) for tipo in entradas] for time in times]\n",
    "\n",
    "print(tabela)"
   ]
  },
  {
   "cell_type": "markdown",
   "metadata": {},
   "source": [
    "### Compreensão de dicionários"
   ]
  },
  {
   "cell_type": "markdown",
   "metadata": {},
   "source": [
    "Da mesma forma que fazemos para listas, podemos utilizar para dicionários.\n",
    "\n",
    "A diferença é que precisamos passar um par de chave-valor."
   ]
  },
  {
   "cell_type": "code",
   "execution_count": 2,
   "metadata": {},
   "outputs": [
    {
     "name": "stdout",
     "output_type": "stream",
     "text": [
      "{'Ana': 9.0, 'Bruno': 8.0, 'Carla': 8.0, 'Daniel': 6.5, 'Emília': 7.0}\n"
     ]
    }
   ],
   "source": [
    "alunos = ['Ana', 'Bruno', 'Carla', 'Daniel', 'Emília']\n",
    "medias = [9.0, 8.0, 8.0, 6.5, 7.0]\n",
    "\n",
    "cadastro = {alunos[i]:medias[i] for i in range(len(alunos))}\n",
    "\n",
    "print(cadastro)"
   ]
  },
  {
   "cell_type": "markdown",
   "metadata": {},
   "source": [
    "Podemos também utilizar o zip:"
   ]
  },
  {
   "cell_type": "code",
   "execution_count": 4,
   "metadata": {},
   "outputs": [
    {
     "name": "stdout",
     "output_type": "stream",
     "text": [
      "{'Ana': 9.0, 'Bruno': 8.0, 'Carla': 8.0, 'Daniel': 6.5, 'Emília': 7.0}\n"
     ]
    }
   ],
   "source": [
    "alunos = ['Ana', 'Bruno', 'Carla', 'Daniel', 'Emília']\n",
    "medias = [9.0, 8.0, 8.0, 6.5, 7.0]\n",
    "\n",
    "cadastro = {aluno:media for aluno, media in zip(alunos, medias)}\n",
    "\n",
    "print(cadastro)"
   ]
  },
  {
   "cell_type": "markdown",
   "metadata": {},
   "source": [
    "## Expressões Geradoras"
   ]
  },
  {
   "cell_type": "markdown",
   "metadata": {},
   "source": [
    "### Criando uma expressão geradora"
   ]
  },
  {
   "cell_type": "markdown",
   "metadata": {},
   "source": [
    "> Não existe compreensão de tuplas em Python.\n",
    "\n",
    "Quando colocamos uma expressão semelhante a uma compreensão de lista entre parênteses, estamos criando uma expressão geradora. Note que podemos iterar uma expressão geradora:"
   ]
  },
  {
   "cell_type": "code",
   "execution_count": 5,
   "metadata": {},
   "outputs": [
    {
     "name": "stdout",
     "output_type": "stream",
     "text": [
      "0\n",
      "1\n",
      "4\n",
      "9\n",
      "16\n",
      "25\n",
      "36\n",
      "49\n",
      "64\n",
      "81\n"
     ]
    }
   ],
   "source": [
    "gerador_quadrados = (x**2 for x in range(10))\n",
    "\n",
    "for quadrado in gerador_quadrados:\n",
    "    print(quadrado)"
   ]
  },
  {
   "cell_type": "markdown",
   "metadata": {},
   "source": [
    "Podemos converter para uma lista:"
   ]
  },
  {
   "cell_type": "code",
   "execution_count": 6,
   "metadata": {},
   "outputs": [
    {
     "name": "stdout",
     "output_type": "stream",
     "text": [
      "[1, 3, 5, 7, 9, 11, 13, 15, 17, 19]\n"
     ]
    }
   ],
   "source": [
    "gerador_impares = (x for x in range(20) if x % 2 == 1)\n",
    "\n",
    "lista_impares = list(gerador_impares)\n",
    "\n",
    "print(lista_impares)"
   ]
  },
  {
   "cell_type": "markdown",
   "metadata": {},
   "source": [
    "Porém, não podemos utilizar nosso gerador uma segunda vez. "
   ]
  },
  {
   "cell_type": "code",
   "execution_count": 7,
   "metadata": {},
   "outputs": [
    {
     "name": "stdout",
     "output_type": "stream",
     "text": [
      "0\n",
      "1\n",
      "4\n",
      "9\n",
      "16\n",
      "25\n",
      "36\n",
      "49\n",
      "64\n",
      "81\n",
      "[]\n"
     ]
    }
   ],
   "source": [
    "gerador_quadrados = (x**2 for x in range(10))\n",
    "\n",
    "for quadrado in gerador_quadrados:\n",
    "    print(quadrado)\n",
    "\n",
    "lista_quadrados = list(gerador_quadrados)\n",
    "print(lista_quadrados) "
   ]
  },
  {
   "cell_type": "markdown",
   "metadata": {},
   "source": [
    "Para entender porque o resultado foi uma lista vazia, precisamos entender a diferença entre um **iterável** e um **iterador** em Python."
   ]
  },
  {
   "cell_type": "markdown",
   "metadata": {},
   "source": [
    "### Iteráveis e Iteradores"
   ]
  },
  {
   "cell_type": "markdown",
   "metadata": {},
   "source": [
    "Um **iterável** é um objeto em Python que podemos percorrer utilizando um *loop*. Geralmente pensamos em iteráveis como algum **tipo de coleção**. Listas, tuplas, dicionários e strings são todos iteráveis.\n",
    "\n",
    "Porém, o que o *loop* realmente utiliza não é o iterável, mas o **iterador**. Quando tentamos percorrer um iterável, é criado um iterador a partir dele utilizando a função ``iter``. Em cada passo da iteração (do loop), a função ``next`` é chamada, e ela irá retornar o próximo elemento. Quando os elementos são esgotados, ela irá lançar a **exceção** (uma espécie de erro sinalizado, que estudaremos em um capítulo futuro) ``StopIteration``.\n",
    "\n",
    "Veja o exemplo abaixo:"
   ]
  },
  {
   "cell_type": "code",
   "execution_count": 8,
   "metadata": {},
   "outputs": [
    {
     "name": "stdout",
     "output_type": "stream",
     "text": [
      "<list_iterator object at 0x000001A625EE9420>\n"
     ]
    }
   ],
   "source": [
    "lista = [1, 3, 5]\n",
    "\n",
    "iterador = iter(lista)\n",
    "\n",
    "print(iterador)"
   ]
  },
  {
   "cell_type": "code",
   "execution_count": 9,
   "metadata": {},
   "outputs": [
    {
     "name": "stdout",
     "output_type": "stream",
     "text": [
      "1\n"
     ]
    }
   ],
   "source": [
    "print(next(iterador))"
   ]
  },
  {
   "cell_type": "code",
   "execution_count": 10,
   "metadata": {},
   "outputs": [
    {
     "name": "stdout",
     "output_type": "stream",
     "text": [
      "3\n"
     ]
    }
   ],
   "source": [
    "print(next(iterador))"
   ]
  },
  {
   "cell_type": "code",
   "execution_count": 11,
   "metadata": {},
   "outputs": [
    {
     "name": "stdout",
     "output_type": "stream",
     "text": [
      "5\n"
     ]
    }
   ],
   "source": [
    "print(next(iterador))"
   ]
  },
  {
   "cell_type": "code",
   "execution_count": 12,
   "metadata": {},
   "outputs": [
    {
     "ename": "StopIteration",
     "evalue": "",
     "output_type": "error",
     "traceback": [
      "\u001b[1;31m---------------------------------------------------------------------------\u001b[0m",
      "\u001b[1;31mStopIteration\u001b[0m                             Traceback (most recent call last)",
      "\u001b[1;32md:\\Documentos\\Cursos e Treinamentos\\ADA Tech\\Lógica de Programação II\\Ada_iFood_Mod02_logica_de_programacao_2\\Notas_de_aula_mod02.ipynb Cell 133\u001b[0m line \u001b[0;36m1\n\u001b[1;32m----> <a href='vscode-notebook-cell:/d%3A/Documentos/Cursos%20e%20Treinamentos/ADA%20Tech/L%C3%B3gica%20de%20Programa%C3%A7%C3%A3o%20II/Ada_iFood_Mod02_logica_de_programacao_2/Notas_de_aula_mod02.ipynb#Y255sZmlsZQ%3D%3D?line=0'>1</a>\u001b[0m \u001b[39mprint\u001b[39m(\u001b[39mnext\u001b[39;49m(iterador))\n",
      "\u001b[1;31mStopIteration\u001b[0m: "
     ]
    }
   ],
   "source": [
    "print(next(iterador))"
   ]
  },
  {
   "cell_type": "markdown",
   "metadata": {},
   "source": [
    "Uma diferença fundamental entre um iterável e um iterador é que o **iterador já possui todos os exemplos salvos em algum lugar**. O iterável não. Ele irá gerar/buscar cada elemento no momento que a função ``next`` é chamada, e ele não irá salvar os elementos anteriores.\n",
    "\n",
    "> Uma expressão geradora não é um iterável, ela é um iterador. Uma lista é um iterável."
   ]
  },
  {
   "cell_type": "code",
   "execution_count": 13,
   "metadata": {},
   "outputs": [
    {
     "name": "stdout",
     "output_type": "stream",
     "text": [
      "0\n",
      "1\n",
      "2\n",
      "3\n",
      "4\n"
     ]
    },
    {
     "ename": "StopIteration",
     "evalue": "",
     "output_type": "error",
     "traceback": [
      "\u001b[1;31m---------------------------------------------------------------------------\u001b[0m",
      "\u001b[1;31mStopIteration\u001b[0m                             Traceback (most recent call last)",
      "\u001b[1;32md:\\Documentos\\Cursos e Treinamentos\\ADA Tech\\Lógica de Programação II\\Ada_iFood_Mod02_logica_de_programacao_2\\Notas_de_aula_mod02.ipynb Cell 135\u001b[0m line \u001b[0;36m8\n\u001b[0;32m      <a href='vscode-notebook-cell:/d%3A/Documentos/Cursos%20e%20Treinamentos/ADA%20Tech/L%C3%B3gica%20de%20Programa%C3%A7%C3%A3o%20II/Ada_iFood_Mod02_logica_de_programacao_2/Notas_de_aula_mod02.ipynb#Y260sZmlsZQ%3D%3D?line=5'>6</a>\u001b[0m \u001b[39mprint\u001b[39m(\u001b[39mnext\u001b[39m(gerador))\n\u001b[0;32m      <a href='vscode-notebook-cell:/d%3A/Documentos/Cursos%20e%20Treinamentos/ADA%20Tech/L%C3%B3gica%20de%20Programa%C3%A7%C3%A3o%20II/Ada_iFood_Mod02_logica_de_programacao_2/Notas_de_aula_mod02.ipynb#Y260sZmlsZQ%3D%3D?line=6'>7</a>\u001b[0m \u001b[39mprint\u001b[39m(\u001b[39mnext\u001b[39m(gerador))\n\u001b[1;32m----> <a href='vscode-notebook-cell:/d%3A/Documentos/Cursos%20e%20Treinamentos/ADA%20Tech/L%C3%B3gica%20de%20Programa%C3%A7%C3%A3o%20II/Ada_iFood_Mod02_logica_de_programacao_2/Notas_de_aula_mod02.ipynb#Y260sZmlsZQ%3D%3D?line=7'>8</a>\u001b[0m \u001b[39mprint\u001b[39m(\u001b[39mnext\u001b[39;49m(gerador)) \u001b[39m# Erro: StopIteration\u001b[39;00m\n",
      "\u001b[1;31mStopIteration\u001b[0m: "
     ]
    }
   ],
   "source": [
    "gerador = (x for x in range(5))\n",
    "\n",
    "print(next(gerador))\n",
    "print(next(gerador))\n",
    "print(next(gerador))\n",
    "print(next(gerador))\n",
    "print(next(gerador))\n",
    "print(next(gerador)) # Erro: StopIteration"
   ]
  },
  {
   "cell_type": "markdown",
   "metadata": {},
   "source": [
    "Podemos utilizar expressões geradoras quando:\n",
    "\n",
    "- Iremos trabalhar com uma base de dados tão grande que a geração da lista pode ser excessivamente lenta ou consumir memória demais.  \n",
    "- Quando desejamos obter dados infinitos (uma sequência numérica sem fim, ou então um stream de dados que pode estar chegando por um sensor ou pela internet, por exemplo).  \n",
    "- Quando sabemos com certeza absoluta que só precisaremos iterar uma única vez por cada elemento e não precisaremos deles posteriormente.  \n",
    "\n",
    "> Caso você precise dos dados mais de uma vez, a expressão geradora deixa de ser atrativa e compensa mais utilizar compreensão de listas.  "
   ]
  },
  {
   "cell_type": "markdown",
   "metadata": {},
   "source": [
    "# Funções Geradoras"
   ]
  },
  {
   "cell_type": "markdown",
   "metadata": {},
   "source": [
    "Expressões geradoras são uma forma compacta para criar iteradores. Uma das formas mais completas envolve utilizar programação orientada a objeto para definir uma classe com alguns métodos específicos para que os objetos se comportem como geradores. A outra envolve utilizar uma função geradora.\n",
    "\n",
    "Funções geradoras lembram bastante funções convencionais, mais uma vez de `return` elas utilizarão a palavra `yield`.\n",
    "\n",
    "A função irá retornar um iterador, e iremos sempre chamar `next` passando esse gerador.\n",
    "\n",
    "Cada vez que o `next` for chamado, o iterador irá executar a função até encontrar o `yield`. O estado da função é salvo e o valor do `yield` é retornado. Quando chamarmos `next` novamente, a função irá executar do ponto que parou até encontrar novamente o `yield`. Quando não houver mais `yield`, a exceção `StopIteration` será lançada."
   ]
  },
  {
   "cell_type": "code",
   "execution_count": 3,
   "metadata": {},
   "outputs": [
    {
     "name": "stdout",
     "output_type": "stream",
     "text": [
      "1\n",
      "3\n",
      "5\n"
     ]
    },
    {
     "ename": "StopIteration",
     "evalue": "",
     "output_type": "error",
     "traceback": [
      "\u001b[1;31m---------------------------------------------------------------------------\u001b[0m",
      "\u001b[1;31mStopIteration\u001b[0m                             Traceback (most recent call last)",
      "\u001b[1;32md:\\Documentos\\Cursos e Treinamentos\\ADA Tech\\Lógica de Programação II\\Ada_iFood_Mod02_logica_de_programacao_2\\Notas_de_aula_mod02.ipynb Cell 104\u001b[0m line \u001b[0;36m1\n\u001b[0;32m      <a href='vscode-notebook-cell:/d%3A/Documentos/Cursos%20e%20Treinamentos/ADA%20Tech/L%C3%B3gica%20de%20Programa%C3%A7%C3%A3o%20II/Ada_iFood_Mod02_logica_de_programacao_2/Notas_de_aula_mod02.ipynb#Y210sZmlsZQ%3D%3D?line=8'>9</a>\u001b[0m \u001b[39mprint\u001b[39m(\u001b[39mnext\u001b[39m(meu_gerador))\n\u001b[0;32m     <a href='vscode-notebook-cell:/d%3A/Documentos/Cursos%20e%20Treinamentos/ADA%20Tech/L%C3%B3gica%20de%20Programa%C3%A7%C3%A3o%20II/Ada_iFood_Mod02_logica_de_programacao_2/Notas_de_aula_mod02.ipynb#Y210sZmlsZQ%3D%3D?line=9'>10</a>\u001b[0m \u001b[39mprint\u001b[39m(\u001b[39mnext\u001b[39m(meu_gerador))\n\u001b[1;32m---> <a href='vscode-notebook-cell:/d%3A/Documentos/Cursos%20e%20Treinamentos/ADA%20Tech/L%C3%B3gica%20de%20Programa%C3%A7%C3%A3o%20II/Ada_iFood_Mod02_logica_de_programacao_2/Notas_de_aula_mod02.ipynb#Y210sZmlsZQ%3D%3D?line=10'>11</a>\u001b[0m \u001b[39mprint\u001b[39m(\u001b[39mnext\u001b[39;49m(meu_gerador)) \u001b[39m# erro: StopIteration\u001b[39;00m\n",
      "\u001b[1;31mStopIteration\u001b[0m: "
     ]
    }
   ],
   "source": [
    "def funcao_geradora():\n",
    "    yield 1\n",
    "    yield 3\n",
    "    yield 5\n",
    "\n",
    "meu_gerador = funcao_geradora()\n",
    "\n",
    "print(next(meu_gerador))\n",
    "print(next(meu_gerador))\n",
    "print(next(meu_gerador))\n",
    "print(next(meu_gerador)) # erro: StopIteration"
   ]
  },
  {
   "cell_type": "markdown",
   "metadata": {},
   "source": [
    "A função geradora pode ter malhas de repetição."
   ]
  },
  {
   "cell_type": "code",
   "execution_count": 4,
   "metadata": {},
   "outputs": [
    {
     "name": "stdout",
     "output_type": "stream",
     "text": [
      "0\n",
      "1\n",
      "2\n",
      "3\n",
      "4\n",
      "5\n",
      "6\n",
      "7\n",
      "8\n",
      "9\n"
     ]
    }
   ],
   "source": [
    "def gerador_de_sequencia(limite: int):\n",
    "    contador = 0\n",
    "    while contador < limite:\n",
    "        yield contador\n",
    "        contador += 1\n",
    "iterador_sequencia = gerador_de_sequencia(10)\n",
    "\n",
    "for x in iterador_sequencia:\n",
    "    print(x)"
   ]
  },
  {
   "cell_type": "markdown",
   "metadata": {},
   "source": [
    "# Parâmetros e retorno de funções"
   ]
  },
  {
   "cell_type": "markdown",
   "metadata": {},
   "source": [
    "## Função com retorno múltiplo"
   ]
  },
  {
   "cell_type": "markdown",
   "metadata": {},
   "source": [
    "- as variáveis são separadas por vírgula.\n",
    "- o retorno será uma tupla.\n",
    "- usamos o desempacotamento de tupla para 'separar' a tupla em variáveis simples. "
   ]
  },
  {
   "cell_type": "code",
   "execution_count": 1,
   "metadata": {},
   "outputs": [
    {
     "name": "stdout",
     "output_type": "stream",
     "text": [
      "(9, 1)\n",
      "<class 'tuple'>\n"
     ]
    }
   ],
   "source": [
    "def max_min(colecao):\n",
    "    maior = max(colecao)\n",
    "    menor = min(colecao)\n",
    "    return maior, menor\n",
    "\n",
    "numeros = [3, 1, 4, 1, 5, 9, 2]\n",
    "\n",
    "resposta = max_min(numeros)\n",
    "print(resposta)\n",
    "print(type(resposta)) # mostra o tipo da variável resposta\n",
    "\n",
    "maior = resposta[0]\n",
    "menor = resposta[1]"
   ]
  },
  {
   "cell_type": "code",
   "execution_count": 2,
   "metadata": {},
   "outputs": [
    {
     "name": "stdout",
     "output_type": "stream",
     "text": [
      "9\n",
      "1\n"
     ]
    }
   ],
   "source": [
    "maior_num, menor_num = max_min(numeros)\n",
    "print(maior_num)\n",
    "print(menor_num)"
   ]
  },
  {
   "cell_type": "markdown",
   "metadata": {},
   "source": [
    "## Parâmetros com valores padrão"
   ]
  },
  {
   "cell_type": "markdown",
   "metadata": {},
   "source": [
    "Podemos definir padrões para caso não seja passado o argumento da função:"
   ]
  },
  {
   "cell_type": "code",
   "execution_count": 3,
   "metadata": {},
   "outputs": [
    {
     "name": "stdout",
     "output_type": "stream",
     "text": [
      "sem passar o segundo argumento\n",
      "passando segundo argumento true\n",
      "PASSANDO SEGUNDO ARGUMENTO FALSE\n"
     ]
    }
   ],
   "source": [
    "def padroniza_string(texto, lower=True):\n",
    "    if lower:\n",
    "        return texto.lower()\n",
    "    else:\n",
    "        return texto.upper()\n",
    "\n",
    "print(padroniza_string('Sem passar o SEGUNDO argumento'))\n",
    "print(padroniza_string('Passando SEGUNDO argumento True', lower=True))\n",
    "print(padroniza_string('Passando SEGUNDO argumento False', lower=False))"
   ]
  },
  {
   "cell_type": "markdown",
   "metadata": {},
   "source": [
    "## Função com quantidade variável de parâmetros"
   ]
  },
  {
   "cell_type": "markdown",
   "metadata": {},
   "source": [
    "### Agrupando parâmetros"
   ]
  },
  {
   "cell_type": "markdown",
   "metadata": {},
   "source": [
    "A solução é utilizar o operador `*`.  Ao colocarmos o ``*`` ao lado do nome de um parâmetro na definição da função, estamos dizendo que aquele argumento será uma coleção. Mais especificamente, uma tupla. Porém, o usuário não irá passar uma tupla. Ele irá passar quantos argumentos ele quiser, separados por vírgula, e o Python automaticamente criará uma tupla."
   ]
  },
  {
   "cell_type": "code",
   "execution_count": 4,
   "metadata": {},
   "outputs": [
    {
     "name": "stdout",
     "output_type": "stream",
     "text": [
      "9 30 55\n"
     ]
    }
   ],
   "source": [
    "def somatorio(*numeros):\n",
    "    soma = 0\n",
    "    for n in numeros:\n",
    "        soma = soma + n\n",
    "    return soma\n",
    "\n",
    "s1 = somatorio(5, 3, 1)\n",
    "s2 = somatorio(2, 4, 6, 8, 10)\n",
    "s3 = somatorio(1, 2, 3, 4, 5, 6, 7, 8, 9, 10)\n",
    "print(s1, s2, s3)"
   ]
  },
  {
   "cell_type": "markdown",
   "metadata": {},
   "source": [
    "### Expandindo uma coleção"
   ]
  },
  {
   "cell_type": "markdown",
   "metadata": {},
   "source": [
    "Podemos utilizar a o `*` na chamada da função também.\n",
    "\n",
    "Na definição, o operador ``*`` indica que devemos agrupar itens avulsos em uma coleção. Na chamada, ele indica que uma coleção deve ser expandida em itens avulsos."
   ]
  },
  {
   "cell_type": "code",
   "execution_count": 2,
   "metadata": {},
   "outputs": [
    {
     "name": "stdout",
     "output_type": "stream",
     "text": [
      "15\n"
     ]
    }
   ],
   "source": [
    "def somatorio(*numeros): # *args\n",
    "    soma = 0\n",
    "    for n in numeros:\n",
    "        soma = soma + n\n",
    "    return soma\n",
    "\n",
    "lista = [1, 2, 3, 4, 5]\n",
    "s = somatorio(*lista)\n",
    "print(s)"
   ]
  },
  {
   "cell_type": "markdown",
   "metadata": {},
   "source": [
    "## Parâmetros opcionais"
   ]
  },
  {
   "cell_type": "markdown",
   "metadata": {},
   "source": [
    "### Criando **kwargs"
   ]
  },
  {
   "cell_type": "markdown",
   "metadata": {},
   "source": [
    "Para criar parâmetros opcionais, usaremos  ``**``, e os parâmetros passados serão agrupados em um dicionário: o nome do parâmetro será uma **chave**, e o valor será o respectivo **valor**.\n",
    "\n",
    "O exemplo abaixo simula o cadastro de usuários em uma base de dados. Um usuário pode fornecer seu nome, seu CPF ou ambos."
   ]
  },
  {
   "cell_type": "code",
   "execution_count": 1,
   "metadata": {},
   "outputs": [
    {
     "name": "stdout",
     "output_type": "stream",
     "text": [
      "João\n",
      "123456789\n",
      "-----\n",
      "José\n",
      "-----\n",
      "987654321\n",
      "-----\n",
      "Nenhum dado encontrado!\n"
     ]
    }
   ],
   "source": [
    "def cadastro(**usuario): # kwargs -> precisa nomear as variáveis\n",
    "    \n",
    "    if not ('nome') in usuario and not ('cpf') in usuario:\n",
    "        print('Nenhum dado encontrado!')\n",
    "    else:\n",
    "        if 'nome' in usuario:\n",
    "            print(usuario['nome'])\n",
    "        if 'cpf' in usuario:\n",
    "            print(usuario['cpf'])\n",
    "        print('-----')\n",
    "\n",
    "cadastro(nome = 'João', cpf = 123456789) # tem ambos\n",
    "cadastro(nome = 'José') # tem apenas nome\n",
    "cadastro(cpf = 987654321) # tem apenas cpf\n",
    "cadastro(rg = 192837465) # não tem nome nem cpf"
   ]
  },
  {
   "cell_type": "markdown",
   "metadata": {},
   "source": [
    "### Expandindo um dicionário"
   ]
  },
  {
   "cell_type": "markdown",
   "metadata": {},
   "source": [
    "Analogamente ao caso dos parâmetros múltiplos, é possível que o usuário da função já tenha os dados organizados em um dicionário. Neste caso, basta usar ``**`` na chamada da função para expandir o dicionário em vários parâmetros opcionais:"
   ]
  },
  {
   "cell_type": "code",
   "execution_count": 8,
   "metadata": {},
   "outputs": [
    {
     "name": "stdout",
     "output_type": "stream",
     "text": [
      "Maria\n",
      "2468135790\n",
      "-----\n"
     ]
    }
   ],
   "source": [
    "maria = {'nome':'Maria', 'cpf':2468135790}\n",
    "cadastro(**maria)"
   ]
  },
  {
   "cell_type": "markdown",
   "metadata": {},
   "source": [
    ">**Ordem dos parâmetros:**\n",
    "Caso sua função vá combinar múltiplos tipos de parâmetro, sempre siga a seguinte ordem: argumentos posicionais (os comuns), argumentos com asterisco (tupla), argumentos com valor padrão e argumentos com dois asteriscos (dicionário)."
   ]
  },
  {
   "cell_type": "markdown",
   "metadata": {},
   "source": [
    "# Conceitos de Programação"
   ]
  },
  {
   "cell_type": "markdown",
   "metadata": {},
   "source": [
    "## Paradigmas de Programação"
   ]
  },
  {
   "cell_type": "markdown",
   "metadata": {},
   "source": [
    "A ideia de um programa como um conjunto sequencial de instruções é conhecido como **paradigma imperativo** ou **programação imperativa**, pois o programa pode ser visualizado como um conjunto de verbos no imperativo.\n",
    "\n",
    "Na prática, nossos programas não são 100% sequenciais, e conseguimos ramificar o fluxo de execução através de condicionais ou malhas de repetição. O uso dessas técnicas foi uma evolução na forma de programar e é conhecido como **programação estruturada**.\n",
    "\n",
    "Quando criamos o hábito de modularizar os nossos programas encaixando pequenos pedaços de lógica dentro de funções, que agem como mini-programas, e o nosso programa se desenvolve através da interação entre essas funções. Essa forma de programação é conhecida como **programação procedural**. A programação procedural é uma forma mais específica de programação imperativa.\n",
    "\n",
    "A **programação orientada a objetos** é outro paradigma de programação, onde o foco do programa está na modelagem dos nossos programas como resultado da interação entre diferentes objetos, que possuem seu comportamento ditado por suas respectivas classes. Porém, dentro das classes nós desenvolvemos métodos, que são bastante semelhantes às funções que já conhecemos,  e portanto, essa também é uma forma de programação imperativa.\n",
    "\n",
    "Existe todo um conjunto de formas diferentes de programar conhecido como **programação declarativa**, onde o programador irá se preocupar mais em descrever os resultados desejados do que em enfileirar instruções. O foco está em o que deve ser feito, e não em como deve ser feito. Uma forma de programação declarativa é a programação funcional."
   ]
  },
  {
   "cell_type": "markdown",
   "metadata": {},
   "source": [
    "## O que é programação funcional"
   ]
  },
  {
   "cell_type": "markdown",
   "metadata": {},
   "source": [
    "Uma das motivações para a adoção da programação funcional é aumentar o **determinismo** de nossos programas, isto é, tornar a execução dos programas mais previsíveis. Programas escritos de maneira imperativa tendem a ter efeitos colaterais causados por seu estado. O estado de um programa é definido pelo valor de todas as suas variáveis em um dado momento."
   ]
  },
  {
   "cell_type": "markdown",
   "metadata": {},
   "source": [
    "### Funções Puras"
   ]
  },
  {
   "cell_type": "markdown",
   "metadata": {},
   "source": [
    "Para evitar o não-determinismo, um conceito importante é o de funções puras. Uma função pura não possui **efeitos colaterais**, ou seja, seu funcionamento não irá alterar conteúdo na memória (ex: variáveis) ou dispositivos de entrada e saída. Isso traz algumas vantagens:\n",
    "\n",
    "- Se nenhum parâmetro da função causa efeitos colaterais, então a função sempre apresentará o mesmo resultado ao receber os mesmos argumentos.\n",
    "- Se não houver dependência entre os dados de duas funções puras, elas podem ser executadas em **paralelo** sem causar problemas de concorrência.\n",
    "- Se o retorno de uma função sem efeitos colaterais não está sendo usado, ela pode ser removida sem afetar o restante do programa."
   ]
  },
  {
   "cell_type": "code",
   "execution_count": 1,
   "metadata": {},
   "outputs": [
    {
     "name": "stdout",
     "output_type": "stream",
     "text": [
      "[1, 2.5, 3, 4.5]\n",
      "[1, 2, 3, 4]\n"
     ]
    }
   ],
   "source": [
    "def funcao_pura(numeros: list):\n",
    "    soma = 0\n",
    "    for n in numeros:\n",
    "        soma += n\n",
    "    return soma\n",
    "\n",
    "def funcao_impura(numeros: list):\n",
    "    soma = 0\n",
    "    for idx in range(len(numeros)):\n",
    "\n",
    "        if type(numeros[idx]) != int:\n",
    "            numeros[idx] = int(numeros[idx])\n",
    "        \n",
    "        soma += numeros[idx]\n",
    "        idx += 1\n",
    "    return soma\n",
    "\n",
    "entrada = [1, 2.5, 3, 4.5]\n",
    "\n",
    "funcao_pura(entrada)\n",
    "print(entrada)\n",
    "funcao_impura(entrada)\n",
    "print(entrada)"
   ]
  },
  {
   "cell_type": "markdown",
   "metadata": {},
   "source": [
    "### Funções de primeira classe e funções de alta ordem"
   ]
  },
  {
   "cell_type": "markdown",
   "metadata": {},
   "source": [
    "Dizemos que algumas linguagens tratam funções como *cidadãs de primeira classe*. Isso significa que nessa linguagem funções podem:\n",
    "\n",
    "- ser atribuídas para variáveis ou guardadas em estruturas de dados\n",
    "- ser passadas como parâmetros para outras funções\n",
    "- ser retornadas por outras funções\n",
    "\n",
    "É como se funções fossem variáveis como qualquer outra, de um tipo específico \"função\".\n",
    "\n",
    "Essas características permitem a criação de **funções de alta ordem**, que são funções que recebem pelo menos uma função como parâmetro e/ou retornam uma função. "
   ]
  },
  {
   "cell_type": "markdown",
   "metadata": {},
   "source": [
    "#### 1- Atribuindo função para uma variável em Python"
   ]
  },
  {
   "cell_type": "code",
   "execution_count": 2,
   "metadata": {},
   "outputs": [
    {
     "name": "stdout",
     "output_type": "stream",
     "text": [
      "Tipo da variável x: <class 'function'>\n",
      "olá mundo\n"
     ]
    }
   ],
   "source": [
    "def funcao():\n",
    "    print('olá mundo')\n",
    "\n",
    "x = funcao\n",
    "print('Tipo da variável x:', type(x))\n",
    "x()"
   ]
  },
  {
   "cell_type": "markdown",
   "metadata": {},
   "source": [
    "#### 2- Passando uma função como parâmetro para outra função"
   ]
  },
  {
   "cell_type": "code",
   "execution_count": 3,
   "metadata": {},
   "outputs": [
    {
     "name": "stdout",
     "output_type": "stream",
     "text": [
      "Somatório de 1 a 5: 15 | Fatorial de 5: 120\n"
     ]
    }
   ],
   "source": [
    "def soma(a, b):\n",
    "    return a + b\n",
    "\n",
    "def multiplicacao(a, b):\n",
    "    return a * b\n",
    "\n",
    "def cumulativo(inicial, quantidade, operacao):\n",
    "    contador = 1\n",
    "    acumulado = inicial\n",
    "    while contador <= quantidade:\n",
    "        acumulado = operacao(acumulado, contador)\n",
    "        contador += 1\n",
    "    return acumulado\n",
    "\n",
    "somatorio = cumulativo(0, 5, soma)\n",
    "fatorial = cumulativo(1, 5, multiplicacao)\n",
    "print(f'Somatório de 1 a 5: {somatorio} | Fatorial de 5: {fatorial}')"
   ]
  },
  {
   "cell_type": "markdown",
   "metadata": {},
   "source": [
    "#### 3- Retornando uma função"
   ]
  },
  {
   "cell_type": "code",
   "execution_count": 2,
   "metadata": {},
   "outputs": [
    {
     "name": "stdout",
     "output_type": "stream",
     "text": [
      "10\n"
     ]
    }
   ],
   "source": [
    "def soma(a, b):\n",
    "    return a + b\n",
    "\n",
    "def subtracao(a, b):\n",
    "    return a - b\n",
    "\n",
    "def multiplicacao(a, b):\n",
    "    return a * b\n",
    "\n",
    "def divisao(a, b):\n",
    "    return a / b\n",
    "\n",
    "def operador_para_funcao(operador: str):\n",
    "    if operador == '+':\n",
    "        return soma\n",
    "    elif operador == '-':\n",
    "        return subtracao\n",
    "    elif operador == '*':\n",
    "        return multiplicacao\n",
    "    elif operador == '/':\n",
    "        return divisao\n",
    "    else:\n",
    "        return \"Essa operação não existe\"\n",
    "\n",
    "x = operador_para_funcao('*')\n",
    "print(x(5, 2))"
   ]
  },
  {
   "cell_type": "markdown",
   "metadata": {},
   "source": [
    "### Clausura"
   ]
  },
  {
   "cell_type": "markdown",
   "metadata": {},
   "source": [
    "Uma possibilidade criada por todas essas estratégias é a de uma ``closure`` (clausura em algumas traduções em português), onde uma função pode ser usada para criar outra função junto de um ambiente."
   ]
  },
  {
   "cell_type": "code",
   "execution_count": 5,
   "metadata": {},
   "outputs": [
    {
     "name": "stdout",
     "output_type": "stream",
     "text": [
      "6\n",
      "11\n",
      "16\n",
      "4\n",
      "9\n",
      "14\n"
     ]
    }
   ],
   "source": [
    "def cria_somas(x):\n",
    "    def soma(y):\n",
    "        return x + y\n",
    "    return soma\n",
    "\n",
    "incremento = cria_somas(1)\n",
    "decremento = cria_somas(-1)\n",
    "\n",
    "print(incremento(5))\n",
    "print(incremento(10))\n",
    "print(incremento(15))\n",
    "\n",
    "print(decremento(5))\n",
    "print(decremento(10))\n",
    "print(decremento(15))"
   ]
  },
  {
   "cell_type": "markdown",
   "metadata": {},
   "source": [
    "A função \"mais interna\" possui um valor que foi recebido como parâmetro pela função mais externa. Quando chamamos a função ``cria_somas`` passando ``1``, a função interna foi definida como sempre retornando seu parâmetro ``+ 1``. Sendo assim, ao pegarmos essa função retornada, ela permanentemente retornará parâmetro ``+ 1``. No segundo caso passamos ``- 1``. Neste caso, a função mais interna foi criada com ``x`` valendo ``-1``. Logo, ao pegarmos essa função, ela sempre irá retornar seu parâmetro ``- 1``."
   ]
  },
  {
   "cell_type": "markdown",
   "metadata": {},
   "source": [
    "### Funções anônimas"
   ]
  },
  {
   "cell_type": "markdown",
   "metadata": {},
   "source": [
    "Outro conceito bastante comum na programação funcional é o de **funções anônimas**, também conhecidas como **funções lambda**. Elas são funções que não necessariamente precisam ser declaradas - no caso do Python, utilizando a palavra ``def`` - e atribuídas para um nome. A sintaxe para criar uma função lambda em Python é:\n",
    "\n",
    "```\n",
    "lambda parametro1, parametro2, ... : expressao\n",
    "```\n",
    "\n",
    "Assim como em outras funções, a lambda pode ser chamada passando parâmetros entre parênteses e sua expressão será retornada. Não utilizamos a palavra ``return``, já é subentendido que o resultado da lambda será retornado.\n",
    "\n",
    "É comum utilizarmos funções lambda para rapidamente passar um parâmetro para uma função ou obter um retorno de uma função."
   ]
  },
  {
   "cell_type": "code",
   "execution_count": 6,
   "metadata": {},
   "outputs": [
    {
     "name": "stdout",
     "output_type": "stream",
     "text": [
      "Somatório de 1 a 5: 15 | Fatorial de 5: 120\n",
      "6\n",
      "11\n",
      "16\n",
      "4\n",
      "9\n",
      "14\n"
     ]
    }
   ],
   "source": [
    "#Exemplo 1\n",
    "def cumulativo(inicial, quantidade, operacao):\n",
    "    contador = 1\n",
    "    acumulado = inicial\n",
    "    while contador <= quantidade:\n",
    "        acumulado = operacao(acumulado, contador)\n",
    "        contador += 1\n",
    "    return acumulado\n",
    "\n",
    "somatorio = cumulativo(0, 5, lambda x, y: x + y)\n",
    "fatorial = cumulativo(1, 5, lambda x, y: x * y)\n",
    "print(f'Somatório de 1 a 5: {somatorio} | Fatorial de 5: {fatorial}')\n",
    "\n",
    "#Exemplo 2\n",
    "def cria_somas(x):\n",
    "    return lambda y: x + y\n",
    "\n",
    "incremento = cria_somas(1)\n",
    "decremento = cria_somas(-1)\n",
    "\n",
    "print(incremento(5))\n",
    "print(incremento(10))\n",
    "print(incremento(15))\n",
    "\n",
    "print(decremento(5))\n",
    "print(decremento(10))\n",
    "print(decremento(15))"
   ]
  },
  {
   "cell_type": "markdown",
   "metadata": {},
   "source": [
    "### Imutabilidade"
   ]
  },
  {
   "cell_type": "markdown",
   "metadata": {},
   "source": [
    "Outro ponto bastante explorado pela programação funcional é **tentar evitar o uso de estruturas mutáveis**. Isso ocorre para evitar efeitos colaterais, como problemas de concorrência na execução paralela de diferentes trechos de código que poderiam afetar uma mesma estrutura.\n",
    "\n",
    "Em vez de atualizarmos diferentes variáveis para ir salvando o estado de operações, iremos compor chamadas de funções de alta ordem e funções recursivas, e as informações irão fluir através de seus parâmetros e retornos."
   ]
  },
  {
   "cell_type": "markdown",
   "metadata": {},
   "source": [
    "### Recursão"
   ]
  },
  {
   "cell_type": "markdown",
   "metadata": {},
   "source": [
    "Laços de repetição tradicionais, como o ``for``, apresentam pelo menos dois possíveis problemas.\n",
    "\n",
    "O primeiro deles é a necessidade de **mutabilidade** e **variáveis de controle**. Frequentemente, controlamos nossas repetições incrementando algum tipo de variável e testando seu valor.\n",
    "\n",
    "O segundo é a própria **legibilidade do *loop***: parte do código gerado é para controlar as repetições, e pode se distanciar um pouco da definição do problema em si.\n",
    "\n",
    "> recursão é quando uma função é capaz de chamar a si mesma."
   ]
  },
  {
   "cell_type": "code",
   "execution_count": 12,
   "metadata": {},
   "outputs": [],
   "source": [
    "def fib_iterativo(n):\n",
    "    n1 = 0\n",
    "    n2 = 1\n",
    "    contador = 0\n",
    "    while contador < n:\n",
    "        n1, n2 = n2, n1+n2\n",
    "        contador+=1\n",
    "    return n2\n",
    "\n",
    "def fib_recursivo(n):\n",
    "    if n == 0 or n == 1:\n",
    "        return 1\n",
    "    else:\n",
    "        return fib_recursivo(n-1) + fib_recursivo(n-2)"
   ]
  },
  {
   "cell_type": "code",
   "execution_count": 20,
   "metadata": {},
   "outputs": [
    {
     "name": "stdout",
     "output_type": "stream",
     "text": [
      " - - - - - \n",
      "n =  0\n",
      "fib_iterativo 0.0\n",
      "fib_recursivo 0.0\n",
      " - - - - - \n",
      "n =  5\n",
      "fib_iterativo 0.0\n",
      "fib_recursivo 0.0\n",
      " - - - - - \n",
      "n =  10\n",
      "fib_iterativo 0.0\n",
      "fib_recursivo 0.0\n",
      " - - - - - \n",
      "n =  15\n",
      "fib_iterativo 0.0\n",
      "fib_recursivo 0.0\n",
      " - - - - - \n",
      "n =  20\n",
      "fib_iterativo 0.0\n",
      "fib_recursivo 0.0009958744049072266\n",
      " - - - - - \n",
      "n =  25\n",
      "fib_iterativo 0.0\n",
      "fib_recursivo 0.009475231170654297\n",
      " - - - - - \n",
      "n =  30\n",
      "fib_iterativo 0.0\n",
      "fib_recursivo 0.11750245094299316\n",
      " - - - - - \n",
      "n =  35\n",
      "fib_iterativo 0.0\n",
      "fib_recursivo 1.1100704669952393\n",
      " - - - - - \n",
      "n =  40\n",
      "fib_iterativo 0.0\n",
      "fib_recursivo 12.211233139038086\n",
      " - - - - - \n",
      "n =  45\n",
      "fib_iterativo 0.0\n",
      "fib_recursivo 134.61397504806519\n"
     ]
    }
   ],
   "source": [
    "import time\n",
    "\n",
    "for n in range(0, 50, 5):\n",
    "    print(' - - - - - ')\n",
    "    print('n = ', n)\n",
    "    start = time.time()\n",
    "    fib_iterativo(n)\n",
    "    end = time.time()\n",
    "    print('fib_iterativo', end- start)\n",
    "\n",
    "    start = time.time()\n",
    "    fib_recursivo(n)\n",
    "    end = time.time()\n",
    "    print('fib_recursivo', end- start)"
   ]
  },
  {
   "cell_type": "markdown",
   "metadata": {},
   "source": [
    "Algumas linguagens oferecem um recurso chamado de *tail recursion*, ou **recursão de cauda**. Nelas, o resultado de chamadas recursivas recentes é temporariamente armazenado e pode ser reutilizado em outras chamadas. O Python **NÃO** possui recursão de cauda nativamente, mas é possível manipularmos os parâmetros de nossas funções para obter esse tipo de recursão na prática. Observe o código abaixo:"
   ]
  },
  {
   "cell_type": "code",
   "execution_count": 8,
   "metadata": {},
   "outputs": [],
   "source": [
    "def fib_cauda(n, n1 = 1, n2 = 1):\n",
    "    if n == 0:\n",
    "        return n1\n",
    "    if n == 1:\n",
    "        return n2\n",
    "    return fib_cauda(n - 1, n2, n1 + n2)"
   ]
  },
  {
   "cell_type": "markdown",
   "metadata": {},
   "source": [
    "> Em cada passo recursivo, atualizamos n2 com a próxima soma, o valor anterior de n2 passa para n1, e o nosso n decrementa rumo ao caso base. Ao contrário da chamada recursiva anterior, observe que não estamos mais \"ramificando\" nossas chamadas recursivas, e as chamadas estão sendo resolvidas de maneira mais linear, com cada passo aproveitando os dois resultados anteriores."
   ]
  },
  {
   "cell_type": "markdown",
   "metadata": {},
   "source": [
    "### Funções de alta ordem em coleções"
   ]
  },
  {
   "cell_type": "markdown",
   "metadata": {},
   "source": [
    "Qualquer função que receba ou retorne uma função é considerada uma função de alta ordem. Mas três funções de alta ordem são consideradas bastante importantes porque permitem realizar diversas operações úteis sobre coleções (listas, *arrays*, tuplas, etc). Elas resolvem problemas tradicionais envolvendo as coleções, mas sem a necessidade de utilizar loops. Além disso, elas sempre irão retornar uma nova lista ou um valor, não alterando o conteúdo da função original. Elas são as funções ``map``, ``filter`` e ``reduce``."
   ]
  },
  {
   "cell_type": "markdown",
   "metadata": {},
   "source": [
    "#### *Map*"
   ]
  },
  {
   "cell_type": "markdown",
   "metadata": {},
   "source": [
    "A função ``map`` recebe uma função e uma coleção. Ela irá aplicar a função recebida sobre cada um dos elementos da coleção, retornando uma nova coleção com os retornos de cada uma dessas chamadas.\n",
    "\n",
    "Em Python, a função ``map`` retorna um **iterador**, então cabe a nós convertê-lo para uma estrutura caso necessário, como lista ou tupla."
   ]
  },
  {
   "cell_type": "code",
   "execution_count": 9,
   "metadata": {},
   "outputs": [
    {
     "name": "stdout",
     "output_type": "stream",
     "text": [
      "('1.0', '3.7', '5.4') (1.0, 3.7, 5.4)\n",
      "[1, 2, 3, 4] [1, 4, 9, 16]\n",
      "[1, 2, 3, 4] [1, 8, 27, 64]\n"
     ]
    }
   ],
   "source": [
    "# exemplo 1 - convertendo todo o conteúdo de uma tupla para float\n",
    "tupla_str = ('1.0', '3.7', '5.4')\n",
    "tupla_float = tuple(map(float, tupla_str)) # função: float; coleção: tupla_str\n",
    "print(tupla_str, tupla_float)\n",
    "\n",
    "# exemplo 2 - elevando a 2 todos os elementos de uma lista usando uma função já existente\n",
    "def quadrado(x):\n",
    "    return x ** 2\n",
    "numeros = [1, 2, 3, 4]\n",
    "numeros_quadrados = list(map(quadrado, numeros)) # função: quadrado; coleção: numeros\n",
    "print(numeros, numeros_quadrados)\n",
    "\n",
    "# exemplo 3 - elevando a 3 todos os elementos de uma lista usando um lambda\n",
    "numeros = [1, 2, 3, 4]\n",
    "numeros_cubo = list(map(lambda x: x**3, numeros))\n",
    "print(numeros, numeros_cubo)"
   ]
  },
  {
   "cell_type": "markdown",
   "metadata": {},
   "source": [
    "A função ``map`` é bastante conhecida no meio da **programação funcional** e é oferecida em diversas linguagens. \n",
    "\n",
    "Apesar do Python trazer a função implementada, é possível reproduzir a funcionalidade do ``map`` utilizando uma **compreensão de lista** ou uma **expressão geradora**. O resultado é equivalente: evitamos mutabilidade e efeitos colaterais, geramos uma coleção nova a partir da antiga, mas o código fica mais idiomático."
   ]
  },
  {
   "cell_type": "code",
   "execution_count": 10,
   "metadata": {},
   "outputs": [
    {
     "name": "stdout",
     "output_type": "stream",
     "text": [
      "('1.0', '3.7', '5.4') (1.0, 3.7, 5.4)\n",
      "[1, 2, 3, 4] [1, 4, 9, 16]\n",
      "[1, 2, 3, 4] [1, 8, 27, 64]\n"
     ]
    }
   ],
   "source": [
    "# exemplo 1 - convertendo todo o conteúdo de uma tupla para float\n",
    "tupla_str = ('1.0', '3.7', '5.4')\n",
    "tupla_float = tuple(float(x) for x in tupla_str)\n",
    "print(tupla_str, tupla_float)\n",
    "\n",
    "# exemplo 2 - elevando a 2 todos os elementos de uma lista usando uma função já existente\n",
    "def quadrado(x):\n",
    "    return x ** 2\n",
    "numeros = [1, 2, 3, 4]\n",
    "numeros_quadrados = [quadrado(x) for x in numeros]\n",
    "print(numeros, numeros_quadrados)\n",
    "\n",
    "# exemplo 3 - elevando a 3 todos os elementos de uma lista sem usar função pronta\n",
    "numeros = [1, 2, 3, 4]\n",
    "numeros_cubo = [x**3 for x in numeros]\n",
    "print(numeros, numeros_cubo)"
   ]
  },
  {
   "cell_type": "markdown",
   "metadata": {},
   "source": [
    "#### *Filter*"
   ]
  },
  {
   "cell_type": "markdown",
   "metadata": {},
   "source": [
    "A função ``filter`` também recebe uma função que deve retornar um **booleano** e uma coleção. Ela irá conter apenas os elementos da coleção que provocaram valor ``True`` na função passada."
   ]
  },
  {
   "cell_type": "code",
   "execution_count": 11,
   "metadata": {},
   "outputs": [
    {
     "name": "stdout",
     "output_type": "stream",
     "text": [
      "[6, 4, 8, 2]\n",
      "[-3, -8, -2]\n"
     ]
    }
   ],
   "source": [
    "# exemplo 1 - detectando pares em uma lista usando função pronta\n",
    "def eh_par(x):\n",
    "    return x % 2 == 0\n",
    "numeros = [3, 6, 4, 8, 7, 9, 2, 5]\n",
    "pares = list(filter(eh_par, numeros)) # função: eh_par; coleção: numeros\n",
    "print(pares)\n",
    "\n",
    "# exemplo 2 - detectando negativos em uma lista usando lambda\n",
    "numeros = [5, -3, 1, 4, 7, -8, -2]\n",
    "negativos = list(filter(lambda x: x < 0, numeros))\n",
    "print(negativos)"
   ]
  },
  {
   "cell_type": "markdown",
   "metadata": {},
   "source": [
    "> Assim como no caso do ``map``, podemos reproduzir a funcionalidade do ``filter`` de maneira mais *pythonica* utilizando compreensão de lista ou expressão geradora:"
   ]
  },
  {
   "cell_type": "code",
   "execution_count": 12,
   "metadata": {},
   "outputs": [
    {
     "name": "stdout",
     "output_type": "stream",
     "text": [
      "[6, 4, 8, 2]\n",
      "[-3, -8, -2]\n"
     ]
    }
   ],
   "source": [
    "# exemplo 1 - pares usando função pronta\n",
    "def eh_par(x):\n",
    "    return x % 2 == 0\n",
    "numeros = [3, 6, 4, 8, 7, 9, 2, 5]\n",
    "pares = [x for x in numeros if eh_par(x)]\n",
    "print(pares)\n",
    "\n",
    "# exemplo 2 - negativos sem função pronta\n",
    "numeros = [5, -3, 1, 4, 7, -8, -2]\n",
    "negativos = [x for x in numeros if x < 0]\n",
    "print(negativos)"
   ]
  },
  {
   "cell_type": "markdown",
   "metadata": {},
   "source": [
    "#### *Reduce*"
   ]
  },
  {
   "cell_type": "markdown",
   "metadata": {},
   "source": [
    "Além da função e da coleção, ele receberá também um valor inicial. Ele irá aplicar a função entre o valor inicial e o primeiro valor da coleção. Em seguida, entre o resultado dessa operação e o segundo valor da coleção. Depois, entre o resultado desta operação e o terceiro valor da coleção, e assim sucessivamente. Ou seja, ele acumula uma operação ao longo de uma coleção. O exemplo mais tradicional é o somatório.\n",
    "\n",
    "Se você possui uma lista contendo os valores ``[1, 3, 5, 7, 9]`` e utilizar o ``reduce`` com valor inicial ``0``, ele retornará o resultado de:\n",
    "\n",
    "```\n",
    "(((((0 + 1) + 3) + 5) + 7) + 9)\n",
    "```\n",
    "No Python, o ``reduce`` não é uma função nativa como o ``map`` e o ``filter``, e devemos importá-la de ``functools``."
   ]
  },
  {
   "cell_type": "code",
   "execution_count": 13,
   "metadata": {},
   "outputs": [
    {
     "name": "stdout",
     "output_type": "stream",
     "text": [
      "25\n",
      "30\n"
     ]
    }
   ],
   "source": [
    "from functools import reduce\n",
    "\n",
    "lista = [1, 3, 5, 7, 9]\n",
    "\n",
    "somatorio = reduce(lambda x, y: x + y, lista, 0) # função: o lambda criado; coleção: lista; valor inicial: 0\n",
    "\n",
    "print(somatorio)\n",
    "\n",
    "# colocando valor inicial 5\n",
    "\n",
    "somatorio_inicial = reduce(lambda x, y: x + y, lista, 5)\n",
    "print(somatorio_inicial)"
   ]
  },
  {
   "cell_type": "markdown",
   "metadata": {},
   "source": [
    "> Um uso muito legal do reduce é para agrupar dados em categorias."
   ]
  },
  {
   "cell_type": "code",
   "execution_count": 14,
   "metadata": {},
   "outputs": [],
   "source": [
    "professores = {\n",
    "    'André': 'Python',\n",
    "    'Bruna': 'DevOps',\n",
    "    'Cabral': 'JavaScript',\n",
    "    'Rafael': 'Python',\n",
    "}"
   ]
  },
  {
   "cell_type": "markdown",
   "metadata": {},
   "source": [
    "Vamos criar uma estrutura por categoria. Ela fará nosso papel de acumulador e será algo assim:"
   ]
  },
  {
   "cell_type": "code",
   "execution_count": 15,
   "metadata": {},
   "outputs": [
    {
     "data": {
      "text/plain": [
       "{'Python': [], 'JavaScript': [], 'DevOps': []}"
      ]
     },
     "execution_count": 15,
     "metadata": {},
     "output_type": "execute_result"
    }
   ],
   "source": [
    "{'Python': [], 'JavaScript': [], 'DevOps':[]}"
   ]
  },
  {
   "cell_type": "markdown",
   "metadata": {},
   "source": [
    "Ela será determinada de maneira automática, ou seja, vamos determinando as disciplinas e adicionando ao dicionário.\n",
    "\n",
    "Por fim, precisamos criar a função que usaremos. Para fugir de usar variáveis globais, podemos fazer uma função que gera funções a partir de um dicionário, que tal?"
   ]
  },
  {
   "cell_type": "code",
   "execution_count": 16,
   "metadata": {},
   "outputs": [
    {
     "name": "stdout",
     "output_type": "stream",
     "text": [
      "{'Python': ['André', 'Rafael'], 'DevOps': ['Bruna'], 'JavaScript': ['Cabral']}\n"
     ]
    }
   ],
   "source": [
    "from functools import reduce\n",
    "\n",
    "def gera_redutor(dicionario):\n",
    "\n",
    "    def redutor(acumulador, chave):\n",
    "        if dicionario[chave] in acumulador:\n",
    "            acumulador[dicionario[chave]].append(chave)\n",
    "        else:\n",
    "            acumulador[dicionario[chave]] = [chave]\n",
    "        return acumulador\n",
    "    \n",
    "    return redutor\n",
    "\n",
    "professores = {\n",
    "    'André': 'Python',\n",
    "    'Bruna': 'DevOps',\n",
    "    'Cabral': 'JavaScript',\n",
    "    'Rafael': 'Python',\n",
    "}\n",
    "\n",
    "redutor_profs = gera_redutor(professores)\n",
    "\n",
    "profs_por_curso = reduce(redutor_profs,professores,{})\n",
    "\n",
    "print(profs_por_curso)"
   ]
  },
  {
   "cell_type": "markdown",
   "metadata": {},
   "source": [
    "A ideia não é que você nunca mais utilize técnicas de programação imperativa. *O Python não é uma linguagem funcional pura*, e muitos de seus recursos mais úteis estão ligados à programação orientada a objeto, por exemplo.\n",
    "\n",
    "As ferramentas funcionais são mais instrumentos para sua caixinha de ferramentas, que podem ser incorporados parcialmente em programas orientados a objeto, como ocorre com frequência, por exemplo, no desenvolvimento *web* em JavaScript."
   ]
  },
  {
   "cell_type": "markdown",
   "metadata": {},
   "source": [
    "# Tratamento de Exceção"
   ]
  },
  {
   "cell_type": "markdown",
   "metadata": {},
   "source": [
    "A documentação oficial do Python traz uma lista completa de exceções que já vem prontas e a relação de hierarquia entre elas."
   ]
  },
  {
   "cell_type": "markdown",
   "metadata": {},
   "source": [
    "## Tratando uma exceção"
   ]
  },
  {
   "cell_type": "markdown",
   "metadata": {},
   "source": [
    "### *try/except*"
   ]
  },
  {
   "cell_type": "markdown",
   "metadata": {},
   "source": [
    "Tratar uma exceção significa que quando surgir um dos erros mencionados, nós iremos assumir responsabilidade sobre ele e iremos providenciar algum código alternativo. Dessa maneira, o Python não irá mais travar o nosso programa, e sim desviar seu fluxo para o código fornecido."
   ]
  },
  {
   "cell_type": "code",
   "execution_count": 1,
   "metadata": {},
   "outputs": [
    {
     "name": "stdout",
     "output_type": "stream",
     "text": [
      "Deu certo!\n",
      "1/3 = 0.3333333333333333\n",
      "Deu certo!\n",
      "1/2 = 0.5\n",
      "Deu certo!\n",
      "1/1 = 1.0\n",
      "1/0 = infinito\n"
     ]
    }
   ],
   "source": [
    "numerador = 1\n",
    "\n",
    "for denominador in range(3, -1, -1):\n",
    "    try:\n",
    "        divisao = numerador/denominador\n",
    "        print('Deu certo!') # roda APENAS se a linha acima não gerar exceção\n",
    "\n",
    "    except:\n",
    "        divisao = 'infinito'\n",
    "    \n",
    "    print(f'{numerador}/{denominador} = {divisao}')"
   ]
  },
  {
   "cell_type": "markdown",
   "metadata": {},
   "source": [
    "Um erro óbvio que pode ocorrer nessa função seria o ``ZeroDivisionError``, que é obtido quando o zero é passado como segundo parâmetro da função. Porém, ele não é o único erro possível.\n",
    "\n",
    "O que acontece se passarmos um parâmetro que não seja numérico? ``TypeError``, pois utilizamos tipos inválidos para o operador de divisão ``/``.\n",
    "\n",
    "Podemos colocar diversos ``except`` após o ``try``, cada um testando um tipo diferente de erro. Um último except genérico englobará todos os casos que não se encaixarem nos específicos. Veja o exemplo:"
   ]
  },
  {
   "cell_type": "code",
   "execution_count": 2,
   "metadata": {},
   "outputs": [
    {
     "name": "stdout",
     "output_type": "stream",
     "text": [
      "1/0 = infinito\n",
      "1/2 = 0.5\n",
      "1/3 = 0.3333333333333333\n",
      "1/a = 1/a\n",
      "1/5 = 0.2\n"
     ]
    }
   ],
   "source": [
    "def divisao(a, b):\n",
    "    return a/b\n",
    "\n",
    "denominadores = [0, 2, 3, 'a', 5]\n",
    "\n",
    "for d in denominadores:\n",
    "    try:\n",
    "        div = divisao(1, d)\n",
    "        \n",
    "    except ZeroDivisionError:\n",
    "        div = 'infinito'\n",
    "        \n",
    "    except TypeError:        \n",
    "        div = f'1/{d}'\n",
    "        \n",
    "    except:\n",
    "        div = 'erro desconhecido'\n",
    "    \n",
    "    print(f'1/{d} = {div}')"
   ]
  },
  {
   "cell_type": "markdown",
   "metadata": {},
   "source": [
    "### *else*"
   ]
  },
  {
   "cell_type": "markdown",
   "metadata": {},
   "source": [
    "Enquanto o ``except`` é executado quando algo dá errado, o ``else`` só é executado se absolutamente nada der errado. Por exemplo, poderíamos atualizar nosso exemplo anterior utilizando um ``else``:"
   ]
  },
  {
   "cell_type": "code",
   "execution_count": 3,
   "metadata": {},
   "outputs": [
    {
     "name": "stdout",
     "output_type": "stream",
     "text": [
      "infinito\n",
      "1/2 = 0.5\n",
      "1/3 = 0.3333333333333333\n",
      "1/a\n",
      "1/5 = 0.2\n"
     ]
    }
   ],
   "source": [
    "def divisao(a, b):\n",
    "    return a/b\n",
    "\n",
    "denominadores = [0, 2, 3, 'a', 5]\n",
    "\n",
    "for d in denominadores:\n",
    "    try:\n",
    "        div = divisao(1, d)\n",
    "        \n",
    "    except ZeroDivisionError:\n",
    "        print('infinito')\n",
    "        \n",
    "    except TypeError:        \n",
    "        print(f'1/{d}')\n",
    "        \n",
    "    except:\n",
    "        print('erro desconhecido')\n",
    "        \n",
    "    else:\n",
    "        print(f'1/{d} = {div}')"
   ]
  },
  {
   "cell_type": "markdown",
   "metadata": {},
   "source": [
    "> Note que, no exemplo acima, não tem problema estarmos atribuindo valor pra ``div`` apenas no bloco ``try``. Ela só será usada no ``else``, ou seja, só será usada se tudo deu certo."
   ]
  },
  {
   "cell_type": "markdown",
   "metadata": {},
   "source": [
    "### *finally*"
   ]
  },
  {
   "cell_type": "markdown",
   "metadata": {},
   "source": [
    "Muitas vezes um erro pode ocorrer quando já realizamos diversas operações. Dentre essas operações, podemos ter solicitado recursos, como por exemplo abrir um arquivo, estabelecer uma conexão com a internet ou alocar uma grande faixa de memória.\n",
    "\n",
    "O que aconteceria, por exemplo, se um comando como ``return`` aparecesse durante o tratamento deste erro após termos solicitado tantos recursos diferentes? O arquivo ficaria aberto, a conexão ficaria aberta, memória seria desperdiçada, etc.\n",
    "\n",
    "O ``finally`` garante um local seguro para colocarmos código de limpeza - ou seja, devolver recursos que não serão mais utilizados: fechar arquivos, fechar conexões com servidor etc.\n",
    "\n",
    "Ele sempre será executado após um bloco ``try/except``, mesmo que haja um ``return`` no caminho.\n",
    "\n",
    "Veja o exemplo abaixo para entender o que queremos dizer:"
   ]
  },
  {
   "cell_type": "code",
   "execution_count": 4,
   "metadata": {},
   "outputs": [
    {
     "name": "stdout",
     "output_type": "stream",
     "text": [
      "Opa\n",
      "1.0\n",
      "Opa\n",
      "infinito\n"
     ]
    }
   ],
   "source": [
    "def teste(den):\n",
    "    try:\n",
    "        x = 1/den\n",
    "        return x\n",
    "    except:\n",
    "        return 'infinito'\n",
    "    finally:\n",
    "        print('Opa')\n",
    "\n",
    "print(teste(1))\n",
    "print(teste(0))"
   ]
  },
  {
   "cell_type": "markdown",
   "metadata": {},
   "source": [
    "Note que o conteúdo do bloco ``finally`` foi executado em ambas as chamadas, mesmo havendo um ``return`` dentro do ``try`` e outro dentro do ``except``. Antes de sair da função e retornar o valor, o Python é obrigado a desviar a execução para o bloco ``finally`` e executar seu conteúdo."
   ]
  },
  {
   "cell_type": "markdown",
   "metadata": {},
   "source": [
    "## Levantando exceções"
   ]
  },
  {
   "cell_type": "markdown",
   "metadata": {},
   "source": [
    "Quando estamos criando nossos próprios módulos, classes ou funções, muitas vezes vamos nos deparar com situações inválidas. Imprimir uma mensagem de erro não é uma boa ideia, pois o programa pode estar rodando em um servidor, pode ter uma interface gráfica, etc.\n",
    "\n",
    "Logo, o ideal seria lançarmos exceções para sinalizar essas situações. Desta forma, se elas forem ignoradas, o programa irá parar, sinalizando para o programador que existe alguma situação que deveria ser tratada. Adicionalmente, podemos criar nossa própria mensagem de erro, sinalizando para o programador que ele deveria fazer algo a respeito.\n",
    "\n",
    "Podemos utilizar a palavra ``raise`` seguida de ``Exception()``, passando entre parênteses a mensagem personalizada de erro. Veja o exemplo:"
   ]
  },
  {
   "cell_type": "code",
   "execution_count": 7,
   "metadata": {},
   "outputs": [
    {
     "ename": "ValueError",
     "evalue": "could not convert string to float: 'I'",
     "output_type": "error",
     "traceback": [
      "\u001b[1;31m---------------------------------------------------------------------------\u001b[0m",
      "\u001b[1;31mValueError\u001b[0m                                Traceback (most recent call last)",
      "\u001b[1;32md:\\Documentos\\Cursos e Treinamentos\\ADA Tech\\Lógica de Programação II\\Ada_iFood_Mod02_logica_de_programacao_2\\Notas_de_aula_mod02.ipynb Cell 236\u001b[0m line \u001b[0;36m1\n\u001b[0;32m      <a href='vscode-notebook-cell:/d%3A/Documentos/Cursos%20e%20Treinamentos/ADA%20Tech/L%C3%B3gica%20de%20Programa%C3%A7%C3%A3o%20II/Ada_iFood_Mod02_logica_de_programacao_2/Notas_de_aula_mod02.ipynb#Y516sZmlsZQ%3D%3D?line=6'>7</a>\u001b[0m     salarios\u001b[39m.\u001b[39mappend(salario)\n\u001b[0;32m      <a href='vscode-notebook-cell:/d%3A/Documentos/Cursos%20e%20Treinamentos/ADA%20Tech/L%C3%B3gica%20de%20Programa%C3%A7%C3%A3o%20II/Ada_iFood_Mod02_logica_de_programacao_2/Notas_de_aula_mod02.ipynb#Y516sZmlsZQ%3D%3D?line=8'>9</a>\u001b[0m \u001b[39mfor\u001b[39;00m i \u001b[39min\u001b[39;00m \u001b[39mrange\u001b[39m(\u001b[39m3\u001b[39m):\n\u001b[1;32m---> <a href='vscode-notebook-cell:/d%3A/Documentos/Cursos%20e%20Treinamentos/ADA%20Tech/L%C3%B3gica%20de%20Programa%C3%A7%C3%A3o%20II/Ada_iFood_Mod02_logica_de_programacao_2/Notas_de_aula_mod02.ipynb#Y516sZmlsZQ%3D%3D?line=9'>10</a>\u001b[0m     salario \u001b[39m=\u001b[39m \u001b[39mfloat\u001b[39;49m(\u001b[39minput\u001b[39;49m(\u001b[39m'\u001b[39;49m\u001b[39mDigite o salário do funcionário: \u001b[39;49m\u001b[39m'\u001b[39;49m))\n\u001b[0;32m     <a href='vscode-notebook-cell:/d%3A/Documentos/Cursos%20e%20Treinamentos/ADA%20Tech/L%C3%B3gica%20de%20Programa%C3%A7%C3%A3o%20II/Ada_iFood_Mod02_logica_de_programacao_2/Notas_de_aula_mod02.ipynb#Y516sZmlsZQ%3D%3D?line=11'>12</a>\u001b[0m     \u001b[39mtry\u001b[39;00m:\n\u001b[0;32m     <a href='vscode-notebook-cell:/d%3A/Documentos/Cursos%20e%20Treinamentos/ADA%20Tech/L%C3%B3gica%20de%20Programa%C3%A7%C3%A3o%20II/Ada_iFood_Mod02_logica_de_programacao_2/Notas_de_aula_mod02.ipynb#Y516sZmlsZQ%3D%3D?line=12'>13</a>\u001b[0m         cadastrar_salario(salario)\n",
      "\u001b[1;31mValueError\u001b[0m: could not convert string to float: 'I'"
     ]
    }
   ],
   "source": [
    "salarios = []\n",
    "\n",
    "def cadastrar_salario(salario):\n",
    "    if salario <= 0:\n",
    "        raise Exception('Salário inválido! Salários devem ser positivos!')\n",
    "    \n",
    "    salarios.append(salario)\n",
    "    \n",
    "for i in range(3):\n",
    "    salario = float(input('Digite o salário do funcionário: '))\n",
    "    \n",
    "    try:\n",
    "        cadastrar_salario(salario)\n",
    "    except:\n",
    "        print('Opa, salário inválido!')\n",
    "        \n",
    "print(salarios)"
   ]
  },
  {
   "cell_type": "markdown",
   "metadata": {},
   "source": [
    "> O ``raise`` também pode ser utilizado para lançar exceções que já existem, não necessariamente exceções \"novas\". Basta trocar ``Exception()`` pelo nome da exceção desejada. De fato, quando utilizamos raise ``Exception()`` estamos apenas lançando a exceção mais genérica, da qual outras são derivadas, apenas especificando sua mensagem de erro."
   ]
  },
  {
   "cell_type": "markdown",
   "metadata": {},
   "source": [
    "## Criando exceções novas"
   ]
  },
  {
   "cell_type": "markdown",
   "metadata": {},
   "source": [
    "### Herdando de *Exception*"
   ]
  },
  {
   "cell_type": "markdown",
   "metadata": {},
   "source": [
    "Muitos problemas simples podem ser resolvidos através do ``raise Exception(mensagem)``. Porém, você deve ter notado nos exemplos anteriores que o nome da nossa mensagem de erro foi ``Exception``.\n",
    "\n",
    "Exceções geralmente são implementadas através de classes. O \"nome\" do erro é o nome da classe de cada exceção. Existe uma exceção genérica chamada de ``Exception``. Quando usamos raise ``Exception(mensagem)``, estamos lançando essa exceção genérica junto de uma mensagem de erro personalizada.\n",
    "\n",
    "O problema da nossa abordagem é que por utilizarmos uma exceção genérica não teremos como adicionar um ``except`` específico para nossa mensagem. Vamos criar nossa própria classe para escolher o nome do nosso erro. Exceções personalizadas geralmente herdam da classe ``Exception``. Fazemos isso adicionando (``Exception``) após o nome de nossa classe.\n",
    "\n",
    "Vamos colocar um construtor que recebe uma mensagem. Podemos definir uma mensagem padrão, caso ninguém passe a mensagem. Em seguida, chamaremos o construtor da superclasse (``Exception``)."
   ]
  },
  {
   "cell_type": "code",
   "execution_count": 8,
   "metadata": {},
   "outputs": [
    {
     "ename": "SalarioInvalido",
     "evalue": "Salários devem ser positivos!",
     "output_type": "error",
     "traceback": [
      "\u001b[1;31m---------------------------------------------------------------------------\u001b[0m",
      "\u001b[1;31mSalarioInvalido\u001b[0m                           Traceback (most recent call last)",
      "\u001b[1;32md:\\Documentos\\Cursos e Treinamentos\\ADA Tech\\Lógica de Programação II\\Ada_iFood_Mod02_logica_de_programacao_2\\Notas_de_aula_mod02.ipynb Cell 238\u001b[0m line \u001b[0;36m1\n\u001b[0;32m     <a href='vscode-notebook-cell:/d%3A/Documentos/Cursos%20e%20Treinamentos/ADA%20Tech/L%C3%B3gica%20de%20Programa%C3%A7%C3%A3o%20II/Ada_iFood_Mod02_logica_de_programacao_2/Notas_de_aula_mod02.ipynb#Y522sZmlsZQ%3D%3D?line=9'>10</a>\u001b[0m         \u001b[39mraise\u001b[39;00m SalarioInvalido()\n\u001b[0;32m     <a href='vscode-notebook-cell:/d%3A/Documentos/Cursos%20e%20Treinamentos/ADA%20Tech/L%C3%B3gica%20de%20Programa%C3%A7%C3%A3o%20II/Ada_iFood_Mod02_logica_de_programacao_2/Notas_de_aula_mod02.ipynb#Y522sZmlsZQ%3D%3D?line=11'>12</a>\u001b[0m     salarios\u001b[39m.\u001b[39mappend(salario)\n\u001b[1;32m---> <a href='vscode-notebook-cell:/d%3A/Documentos/Cursos%20e%20Treinamentos/ADA%20Tech/L%C3%B3gica%20de%20Programa%C3%A7%C3%A3o%20II/Ada_iFood_Mod02_logica_de_programacao_2/Notas_de_aula_mod02.ipynb#Y522sZmlsZQ%3D%3D?line=13'>14</a>\u001b[0m cadastrar_salario(\u001b[39m0\u001b[39;49m)\n",
      "\u001b[1;32md:\\Documentos\\Cursos e Treinamentos\\ADA Tech\\Lógica de Programação II\\Ada_iFood_Mod02_logica_de_programacao_2\\Notas_de_aula_mod02.ipynb Cell 238\u001b[0m line \u001b[0;36m1\n\u001b[0;32m      <a href='vscode-notebook-cell:/d%3A/Documentos/Cursos%20e%20Treinamentos/ADA%20Tech/L%C3%B3gica%20de%20Programa%C3%A7%C3%A3o%20II/Ada_iFood_Mod02_logica_de_programacao_2/Notas_de_aula_mod02.ipynb#Y522sZmlsZQ%3D%3D?line=7'>8</a>\u001b[0m \u001b[39mdef\u001b[39;00m \u001b[39mcadastrar_salario\u001b[39m(salario):\n\u001b[0;32m      <a href='vscode-notebook-cell:/d%3A/Documentos/Cursos%20e%20Treinamentos/ADA%20Tech/L%C3%B3gica%20de%20Programa%C3%A7%C3%A3o%20II/Ada_iFood_Mod02_logica_de_programacao_2/Notas_de_aula_mod02.ipynb#Y522sZmlsZQ%3D%3D?line=8'>9</a>\u001b[0m     \u001b[39mif\u001b[39;00m salario \u001b[39m<\u001b[39m\u001b[39m=\u001b[39m \u001b[39m0\u001b[39m:\n\u001b[1;32m---> <a href='vscode-notebook-cell:/d%3A/Documentos/Cursos%20e%20Treinamentos/ADA%20Tech/L%C3%B3gica%20de%20Programa%C3%A7%C3%A3o%20II/Ada_iFood_Mod02_logica_de_programacao_2/Notas_de_aula_mod02.ipynb#Y522sZmlsZQ%3D%3D?line=9'>10</a>\u001b[0m         \u001b[39mraise\u001b[39;00m SalarioInvalido()\n\u001b[0;32m     <a href='vscode-notebook-cell:/d%3A/Documentos/Cursos%20e%20Treinamentos/ADA%20Tech/L%C3%B3gica%20de%20Programa%C3%A7%C3%A3o%20II/Ada_iFood_Mod02_logica_de_programacao_2/Notas_de_aula_mod02.ipynb#Y522sZmlsZQ%3D%3D?line=11'>12</a>\u001b[0m     salarios\u001b[39m.\u001b[39mappend(salario)\n",
      "\u001b[1;31mSalarioInvalido\u001b[0m: Salários devem ser positivos!"
     ]
    }
   ],
   "source": [
    "class SalarioInvalido(Exception):\n",
    "    def __init__(self, message = 'Salários devem ser positivos!'):\n",
    "        self.message = message\n",
    "        super().__init__(self.message)\n",
    "\n",
    "salarios = []\n",
    "\n",
    "def cadastrar_salario(salario):\n",
    "    if salario <= 0:\n",
    "        raise SalarioInvalido()\n",
    "    \n",
    "    salarios.append(salario)\n",
    "    \n",
    "cadastrar_salario(0)"
   ]
  },
  {
   "cell_type": "markdown",
   "metadata": {},
   "source": [
    "Agora sim temos um erro com seu próprio nome e uma mensagem padrão. Mas note que quem está usando a nossa exceção pode personalizar a mensagem se quiser, basta passar uma mensagem diferente entre parênteses. O tipo do erro ainda será o mesmo e ambos deverão ser identificados como ``SalarioInvalido`` no ``Except``."
   ]
  },
  {
   "cell_type": "code",
   "execution_count": 12,
   "metadata": {},
   "outputs": [
    {
     "ename": "SalarioInvalido",
     "evalue": "Deixa de ser mão-de-vaca e pague seus funcionários!",
     "output_type": "error",
     "traceback": [
      "\u001b[1;31m---------------------------------------------------------------------------\u001b[0m",
      "\u001b[1;31mSalarioInvalido\u001b[0m                           Traceback (most recent call last)",
      "\u001b[1;32md:\\Documentos\\Cursos e Treinamentos\\ADA Tech\\Lógica de Programação II\\Ada_iFood_Mod02_logica_de_programacao_2\\Notas_de_aula_mod02.ipynb Cell 242\u001b[0m line \u001b[0;36m1\n\u001b[0;32m     <a href='vscode-notebook-cell:/d%3A/Documentos/Cursos%20e%20Treinamentos/ADA%20Tech/L%C3%B3gica%20de%20Programa%C3%A7%C3%A3o%20II/Ada_iFood_Mod02_logica_de_programacao_2/Notas_de_aula_mod02.ipynb#Y524sZmlsZQ%3D%3D?line=9'>10</a>\u001b[0m         \u001b[39mraise\u001b[39;00m SalarioInvalido(\u001b[39m'\u001b[39m\u001b[39mDeixa de ser mão-de-vaca e pague seus funcionários!\u001b[39m\u001b[39m'\u001b[39m)\n\u001b[0;32m     <a href='vscode-notebook-cell:/d%3A/Documentos/Cursos%20e%20Treinamentos/ADA%20Tech/L%C3%B3gica%20de%20Programa%C3%A7%C3%A3o%20II/Ada_iFood_Mod02_logica_de_programacao_2/Notas_de_aula_mod02.ipynb#Y524sZmlsZQ%3D%3D?line=11'>12</a>\u001b[0m     salarios\u001b[39m.\u001b[39mappend(salario)\n\u001b[1;32m---> <a href='vscode-notebook-cell:/d%3A/Documentos/Cursos%20e%20Treinamentos/ADA%20Tech/L%C3%B3gica%20de%20Programa%C3%A7%C3%A3o%20II/Ada_iFood_Mod02_logica_de_programacao_2/Notas_de_aula_mod02.ipynb#Y524sZmlsZQ%3D%3D?line=13'>14</a>\u001b[0m cadastrar_salario(\u001b[39m0\u001b[39;49m)\n",
      "\u001b[1;32md:\\Documentos\\Cursos e Treinamentos\\ADA Tech\\Lógica de Programação II\\Ada_iFood_Mod02_logica_de_programacao_2\\Notas_de_aula_mod02.ipynb Cell 242\u001b[0m line \u001b[0;36m1\n\u001b[0;32m      <a href='vscode-notebook-cell:/d%3A/Documentos/Cursos%20e%20Treinamentos/ADA%20Tech/L%C3%B3gica%20de%20Programa%C3%A7%C3%A3o%20II/Ada_iFood_Mod02_logica_de_programacao_2/Notas_de_aula_mod02.ipynb#Y524sZmlsZQ%3D%3D?line=7'>8</a>\u001b[0m \u001b[39mdef\u001b[39;00m \u001b[39mcadastrar_salario\u001b[39m(salario):\n\u001b[0;32m      <a href='vscode-notebook-cell:/d%3A/Documentos/Cursos%20e%20Treinamentos/ADA%20Tech/L%C3%B3gica%20de%20Programa%C3%A7%C3%A3o%20II/Ada_iFood_Mod02_logica_de_programacao_2/Notas_de_aula_mod02.ipynb#Y524sZmlsZQ%3D%3D?line=8'>9</a>\u001b[0m     \u001b[39mif\u001b[39;00m salario \u001b[39m<\u001b[39m\u001b[39m=\u001b[39m \u001b[39m0\u001b[39m:\n\u001b[1;32m---> <a href='vscode-notebook-cell:/d%3A/Documentos/Cursos%20e%20Treinamentos/ADA%20Tech/L%C3%B3gica%20de%20Programa%C3%A7%C3%A3o%20II/Ada_iFood_Mod02_logica_de_programacao_2/Notas_de_aula_mod02.ipynb#Y524sZmlsZQ%3D%3D?line=9'>10</a>\u001b[0m         \u001b[39mraise\u001b[39;00m SalarioInvalido(\u001b[39m'\u001b[39m\u001b[39mDeixa de ser mão-de-vaca e pague seus funcionários!\u001b[39m\u001b[39m'\u001b[39m)\n\u001b[0;32m     <a href='vscode-notebook-cell:/d%3A/Documentos/Cursos%20e%20Treinamentos/ADA%20Tech/L%C3%B3gica%20de%20Programa%C3%A7%C3%A3o%20II/Ada_iFood_Mod02_logica_de_programacao_2/Notas_de_aula_mod02.ipynb#Y524sZmlsZQ%3D%3D?line=11'>12</a>\u001b[0m     salarios\u001b[39m.\u001b[39mappend(salario)\n",
      "\u001b[1;31mSalarioInvalido\u001b[0m: Deixa de ser mão-de-vaca e pague seus funcionários!"
     ]
    }
   ],
   "source": [
    "class SalarioInvalido(Exception):\n",
    "    def __init__(self, message = 'Salários devem ser positivos!'):\n",
    "        self.message = message\n",
    "        super().__init__(self.message)\n",
    "\n",
    "salarios = []\n",
    "\n",
    "def cadastrar_salario(salario):\n",
    "    if salario <= 0:\n",
    "        raise SalarioInvalido('Deixa de ser mão-de-vaca e pague seus funcionários!')\n",
    "    \n",
    "    salarios.append(salario)\n",
    "    \n",
    "cadastrar_salario(0)"
   ]
  },
  {
   "cell_type": "markdown",
   "metadata": {},
   "source": [
    "Também podemos tratar essa exceção específica:"
   ]
  },
  {
   "cell_type": "code",
   "execution_count": 13,
   "metadata": {},
   "outputs": [
    {
     "name": "stdout",
     "output_type": "stream",
     "text": [
      "Nosso RH é uma vergonha :(\n",
      "[10.0, 100000.0]\n"
     ]
    }
   ],
   "source": [
    "class SalarioInvalido(Exception):\n",
    "    def __init__(self, message = 'Salários devem ser positivos!'):\n",
    "        self.message = message\n",
    "        super().__init__(self.message)\n",
    "\n",
    "salarios = []\n",
    "\n",
    "def cadastrar_salario(salario):\n",
    "    if salario <= 0:\n",
    "        raise SalarioInvalido()\n",
    "    \n",
    "    salarios.append(salario)\n",
    "    \n",
    "for i in range(3):\n",
    "    salario = float(input('Digite o salário do funcionário: '))\n",
    "    \n",
    "    try:\n",
    "        cadastrar_salario(salario)\n",
    "    except SalarioInvalido:\n",
    "        print('Nosso RH é uma vergonha :(')\n",
    "    except:\n",
    "        print('Exceção genérica')\n",
    "        \n",
    "print(salarios)"
   ]
  },
  {
   "cell_type": "markdown",
   "metadata": {},
   "source": [
    "### Adicionando atributos à exceção"
   ]
  },
  {
   "cell_type": "markdown",
   "metadata": {},
   "source": [
    "É possível uma exceção trazer consigo informações sobre o valor que provocou o erro. Por exemplo, seria útil que a classe ``SalarioInvalido`` pudesse informar qual foi o salário inválido. Isso é útil, por exemplo, em *logs* que registram tudo o que ocorreu no programa, além de trazer informações importantes para o debugging do código.\n",
    "\n",
    "Para isso, basta ajustar o construtor da classe de sua exceção:"
   ]
  },
  {
   "cell_type": "code",
   "execution_count": 14,
   "metadata": {},
   "outputs": [],
   "source": [
    "class SalarioInvalido(Exception):\n",
    "    def __init__(self, salario, mensagem='Salários devem ser positivos!'):\n",
    "        self.salario = salario\n",
    "        self.message = mensagem\n",
    "        super().__init__(self.message)"
   ]
  },
  {
   "cell_type": "markdown",
   "metadata": {},
   "source": [
    "Agora, ao lançar a exceção, devemos passar o salário:"
   ]
  },
  {
   "cell_type": "code",
   "execution_count": 15,
   "metadata": {},
   "outputs": [],
   "source": [
    "salarios = []\n",
    "\n",
    "def cadastrar_salario(salario):\n",
    "    if salario <= 0:\n",
    "        raise SalarioInvalido(salario)\n",
    "    \n",
    "    salarios.append(salario)"
   ]
  },
  {
   "cell_type": "markdown",
   "metadata": {},
   "source": [
    "Por fim, ao tratar a exceção, podemos dar um **alias** (um \"apelido\") para ela utilizando a palavra ``as``. Através desse apelido, podemos acessar seus atributos.\n",
    "\n",
    "Note que imprimir o objeto faz com que sua mensagem seja impressa."
   ]
  },
  {
   "cell_type": "code",
   "execution_count": 16,
   "metadata": {},
   "outputs": [
    {
     "name": "stdout",
     "output_type": "stream",
     "text": [
      "Salários devem ser positivos!\n",
      "O salário problemático foi: -1.0\n"
     ]
    },
    {
     "ename": "ValueError",
     "evalue": "could not convert string to float: ''",
     "output_type": "error",
     "traceback": [
      "\u001b[1;31m---------------------------------------------------------------------------\u001b[0m",
      "\u001b[1;31mValueError\u001b[0m                                Traceback (most recent call last)",
      "\u001b[1;32md:\\Documentos\\Cursos e Treinamentos\\ADA Tech\\Lógica de Programação II\\Ada_iFood_Mod02_logica_de_programacao_2\\Notas_de_aula_mod02.ipynb Cell 252\u001b[0m line \u001b[0;36m2\n\u001b[0;32m      <a href='vscode-notebook-cell:/d%3A/Documentos/Cursos%20e%20Treinamentos/ADA%20Tech/L%C3%B3gica%20de%20Programa%C3%A7%C3%A3o%20II/Ada_iFood_Mod02_logica_de_programacao_2/Notas_de_aula_mod02.ipynb#Y533sZmlsZQ%3D%3D?line=0'>1</a>\u001b[0m \u001b[39mfor\u001b[39;00m i \u001b[39min\u001b[39;00m \u001b[39mrange\u001b[39m(\u001b[39m3\u001b[39m):\n\u001b[1;32m----> <a href='vscode-notebook-cell:/d%3A/Documentos/Cursos%20e%20Treinamentos/ADA%20Tech/L%C3%B3gica%20de%20Programa%C3%A7%C3%A3o%20II/Ada_iFood_Mod02_logica_de_programacao_2/Notas_de_aula_mod02.ipynb#Y533sZmlsZQ%3D%3D?line=1'>2</a>\u001b[0m     salario \u001b[39m=\u001b[39m \u001b[39mfloat\u001b[39;49m(\u001b[39minput\u001b[39;49m(\u001b[39m'\u001b[39;49m\u001b[39mDigite o salário do funcionário: \u001b[39;49m\u001b[39m'\u001b[39;49m))\n\u001b[0;32m      <a href='vscode-notebook-cell:/d%3A/Documentos/Cursos%20e%20Treinamentos/ADA%20Tech/L%C3%B3gica%20de%20Programa%C3%A7%C3%A3o%20II/Ada_iFood_Mod02_logica_de_programacao_2/Notas_de_aula_mod02.ipynb#Y533sZmlsZQ%3D%3D?line=3'>4</a>\u001b[0m     \u001b[39mtry\u001b[39;00m:\n\u001b[0;32m      <a href='vscode-notebook-cell:/d%3A/Documentos/Cursos%20e%20Treinamentos/ADA%20Tech/L%C3%B3gica%20de%20Programa%C3%A7%C3%A3o%20II/Ada_iFood_Mod02_logica_de_programacao_2/Notas_de_aula_mod02.ipynb#Y533sZmlsZQ%3D%3D?line=4'>5</a>\u001b[0m         cadastrar_salario(salario)\n",
      "\u001b[1;31mValueError\u001b[0m: could not convert string to float: ''"
     ]
    }
   ],
   "source": [
    "for i in range(3):\n",
    "    salario = float(input('Digite o salário do funcionário: '))\n",
    "    \n",
    "    try:\n",
    "        cadastrar_salario(salario)\n",
    "    except SalarioInvalido as excecao:\n",
    "        print(excecao) # \"Salários devem ser positivos!\"\n",
    "        print(f'O salário problemático foi: {excecao.salario}')        \n",
    "    except:\n",
    "        print('Exceção genérica')\n",
    "        \n",
    "print(salarios)"
   ]
  },
  {
   "cell_type": "markdown",
   "metadata": {},
   "source": [
    "# Arquivos"
   ]
  },
  {
   "cell_type": "markdown",
   "metadata": {},
   "source": [
    "## Arquivos em Python"
   ]
  },
  {
   "cell_type": "markdown",
   "metadata": {},
   "source": [
    "### Abrindo e fechando arquivos"
   ]
  },
  {
   "cell_type": "markdown",
   "metadata": {},
   "source": [
    "Podemos criar arquivos novos ou abrir arquivos já existentes utilizando a função ``open``. Ela possui 2 argumentos: o **caminho do arquivo** e o **modo de operação**."
   ]
  },
  {
   "cell_type": "markdown",
   "metadata": {},
   "source": [
    "Após abrirmos (ou criarmos) um arquivo, podemos realizar diversas operações. Ao final de todas elas, devemos fechar o  arquivo usando a função ``close``. Essa etapa é importante por 2 motivos:\n",
    "\n",
    "- Se alteramos o arquivo mas não o fechamos, as **alterações não serão salvas**.\n",
    "- Se esquecermos de fechar um arquivo, outros programas podem ter **problemas de acesso a ele**."
   ]
  },
  {
   "cell_type": "markdown",
   "metadata": {},
   "source": [
    "A função ``open`` retorna alguns dados de acesso ao arquivo que devem ser salvos em uma variável, para uso interno do Python."
   ]
  },
  {
   "cell_type": "markdown",
   "metadata": {},
   "source": [
    "> **Atenção**: o modo '``w``' sempre irá criar um novo arquivo. Caso você use esse modo para abrir um arquivo que já existe, o arquivo existente será substituído por um novo arquivo em branco, e seu conteúdo será perdido!"
   ]
  },
  {
   "cell_type": "markdown",
   "metadata": {},
   "source": [
    "### Escrevendo arquivos"
   ]
  },
  {
   "cell_type": "markdown",
   "metadata": {},
   "source": [
    "Para entender melhor o ``open`` e o ``close``, façamos um programinha que escreve algo em um arquivo. Além das duas funções que já vimos, também utilizaremos a função ``write``, que escreve um texto em um arquivo. É quase como um ``print`` mais simples, mas ele aceita apenas uma *string*."
   ]
  },
  {
   "cell_type": "code",
   "execution_count": 1,
   "metadata": {},
   "outputs": [],
   "source": [
    "arquivo = open('ola.txt', 'w') # cria um arquivo ola.txt\n",
    "arquivo.write('Olá mundo') # escreve \"Olá mundo\" no arquivo\n",
    "arquivo.close() # fecha e salva o arquivo"
   ]
  },
  {
   "cell_type": "markdown",
   "metadata": {},
   "source": [
    "### Lendo arquivos"
   ]
  },
  {
   "cell_type": "markdown",
   "metadata": {},
   "source": [
    "Para ler um arquivo existente, não basta usar o ``open`` para abri-lo. É necessário carregar seu conteúdo para uma *string*, de modo que possamos trabalhar com o texto da mesma forma que sempre trabalhamos. A função ``read`` faz o oposto da ``write``: ela retorna o texto existente no arquivo."
   ]
  },
  {
   "cell_type": "code",
   "execution_count": 2,
   "metadata": {},
   "outputs": [
    {
     "name": "stdout",
     "output_type": "stream",
     "text": [
      "Olá mundo\n"
     ]
    }
   ],
   "source": [
    "arquivo = open('ola.txt', 'r') #abre o arquivo já existente\n",
    "conteudo = arquivo.read() #lê o conteúdo do arquivo e o salva na variável\n",
    "print(conteudo)\n",
    "arquivo.close()"
   ]
  },
  {
   "cell_type": "markdown",
   "metadata": {},
   "source": [
    "### Gerenciador de contexto"
   ]
  },
  {
   "cell_type": "markdown",
   "metadata": {},
   "source": [
    "Uma forma alternativa e \"mais segura\" de trabalhar com arquivos é utilizando um **gerenciador de contextos**. O gerenciador de contextos é, de maneira resumida, um pequeno bloco de código que realiza algumas tarefas e tratamentos de erro de maneira automatizada.\n",
    "\n",
    "Com ele, não precisamos nos preocupar em fechar o arquivo ao final da manipulação, pois ele faz isto automaticamente, ao final do bloco."
   ]
  },
  {
   "cell_type": "code",
   "execution_count": 3,
   "metadata": {},
   "outputs": [
    {
     "name": "stdout",
     "output_type": "stream",
     "text": [
      "Olá Mundo\n"
     ]
    },
    {
     "ename": "ValueError",
     "evalue": "I/O operation on closed file.",
     "output_type": "error",
     "traceback": [
      "\u001b[1;31m---------------------------------------------------------------------------\u001b[0m",
      "\u001b[1;31mValueError\u001b[0m                                Traceback (most recent call last)",
      "\u001b[1;32md:\\Documentos\\Cursos e Treinamentos\\ADA Tech\\Lógica de Programação II\\Ada_iFood_Mod02_logica_de_programacao_2\\Notas_de_aula_mod02.ipynb Cell 268\u001b[0m line \u001b[0;36m6\n\u001b[0;32m      <a href='vscode-notebook-cell:/d%3A/Documentos/Cursos%20e%20Treinamentos/ADA%20Tech/L%C3%B3gica%20de%20Programa%C3%A7%C3%A3o%20II/Ada_iFood_Mod02_logica_de_programacao_2/Notas_de_aula_mod02.ipynb#Y544sZmlsZQ%3D%3D?line=2'>3</a>\u001b[0m     \u001b[39mprint\u001b[39m(conteudo\u001b[39m.\u001b[39mtitle())\n\u001b[0;32m      <a href='vscode-notebook-cell:/d%3A/Documentos/Cursos%20e%20Treinamentos/ADA%20Tech/L%C3%B3gica%20de%20Programa%C3%A7%C3%A3o%20II/Ada_iFood_Mod02_logica_de_programacao_2/Notas_de_aula_mod02.ipynb#Y544sZmlsZQ%3D%3D?line=4'>5</a>\u001b[0m \u001b[39m# note que a linha abaixo gera um erro:\u001b[39;00m\n\u001b[1;32m----> <a href='vscode-notebook-cell:/d%3A/Documentos/Cursos%20e%20Treinamentos/ADA%20Tech/L%C3%B3gica%20de%20Programa%C3%A7%C3%A3o%20II/Ada_iFood_Mod02_logica_de_programacao_2/Notas_de_aula_mod02.ipynb#Y544sZmlsZQ%3D%3D?line=5'>6</a>\u001b[0m conteudo2 \u001b[39m=\u001b[39m arquivo\u001b[39m.\u001b[39;49mread()\n\u001b[0;32m      <a href='vscode-notebook-cell:/d%3A/Documentos/Cursos%20e%20Treinamentos/ADA%20Tech/L%C3%B3gica%20de%20Programa%C3%A7%C3%A3o%20II/Ada_iFood_Mod02_logica_de_programacao_2/Notas_de_aula_mod02.ipynb#Y544sZmlsZQ%3D%3D?line=7'>8</a>\u001b[0m \u001b[39m# O erro é: \u001b[39;00m\n\u001b[0;32m      <a href='vscode-notebook-cell:/d%3A/Documentos/Cursos%20e%20Treinamentos/ADA%20Tech/L%C3%B3gica%20de%20Programa%C3%A7%C3%A3o%20II/Ada_iFood_Mod02_logica_de_programacao_2/Notas_de_aula_mod02.ipynb#Y544sZmlsZQ%3D%3D?line=8'>9</a>\u001b[0m \u001b[39m# ValueError: I/O operation on closed file. -> Operação de entrada/saída em arquivo fechado\u001b[39;00m\n",
      "\u001b[1;31mValueError\u001b[0m: I/O operation on closed file."
     ]
    }
   ],
   "source": [
    "with open('ola.txt', 'r') as arquivo:\n",
    "    conteudo = arquivo.read()\n",
    "    print(conteudo.title())\n",
    "\n",
    "# note que a linha abaixo gera um erro:\n",
    "conteudo2 = arquivo.read()\n",
    "\n",
    "# O erro é: \n",
    "# ValueError: I/O operation on closed file. -> Operação de entrada/saída em arquivo fechado"
   ]
  },
  {
   "cell_type": "markdown",
   "metadata": {},
   "source": [
    "## Arquivos CSV"
   ]
  },
  {
   "cell_type": "markdown",
   "metadata": {},
   "source": [
    "### O formato CSV"
   ]
  },
  {
   "cell_type": "markdown",
   "metadata": {},
   "source": [
    "A sigla CSV significa *Comma-Separated Values*, ou \"valores separados por vírgula\". Este formato é uma forma padrão de representar tabelas usando arquivos de texto simples: cada elemento é separado por uma vírgula, e cada linha é separada por uma quebra de linha."
   ]
  },
  {
   "cell_type": "markdown",
   "metadata": {},
   "source": [
    "### O módulo CSV em Python"
   ]
  },
  {
   "cell_type": "markdown",
   "metadata": {},
   "source": [
    "Existe um módulo chamado ``csv`` que já vem instalado com o Python. Ele já faz sozinho o serviço bruto de transformar nossa lista de listas em um texto separado por símbolos e vice-versa."
   ]
  },
  {
   "cell_type": "markdown",
   "metadata": {},
   "source": [
    "#### Escrevendo um CSV"
   ]
  },
  {
   "cell_type": "markdown",
   "metadata": {},
   "source": [
    "Para escrever um CSV utilizando o módulo, precisamos ter nossos dados representados como uma **lista de listas**. Criaremos (ou abriremos) um arquivo usando o ``open`` e utilizaremos um *CSV writer* - uma estrutura que guardará as regrinhas para escrever nosso CSV."
   ]
  },
  {
   "cell_type": "code",
   "execution_count": 4,
   "metadata": {},
   "outputs": [],
   "source": [
    "import csv\n",
    "\n",
    "tabela = [['Aluno', 'Nota 1', 'Nota 2', 'Presenças'],\n",
    "          ['Luke', 7, 9, 15],\n",
    "          ['Han', 4, 7, 10],\n",
    "          ['Leia', 9, 9, 16]]\n",
    "\n",
    "# cria o arquivo CSV\n",
    "arquivo = open('alunos.csv', 'w')\n",
    "\n",
    "# definindo as regras do nosso CSV:\n",
    "# ele será escrito no arquivo apontado pela variável 'arquivo'\n",
    "# seus elementos serão delimitados (delimiter) pelo símbolo ';'\n",
    "# suas linhas serão encerradas (lineterminator) por uma quebra de linha\n",
    "escritor = csv.writer(arquivo, delimiter=';', lineterminator='\\n')\n",
    "\n",
    "# escreve uma lista de listas em formato CSV:\n",
    "escritor.writerows(tabela)\n",
    "\n",
    "# fecha e salva o arquivo\n",
    "arquivo.close()"
   ]
  },
  {
   "cell_type": "markdown",
   "metadata": {},
   "source": [
    "#### Lendo um CSV"
   ]
  },
  {
   "cell_type": "markdown",
   "metadata": {},
   "source": [
    "O processo para ler o CSV é semelhante: utilizamos um *CSV reader*, com os mesmos parâmetros utilizados no *CSV writer*. A função ``csv.reader`` retorna uma estrutura iterável (ou seja, que pode ser percorrida com for) contendo cada linha já organizada como lista."
   ]
  },
  {
   "cell_type": "code",
   "execution_count": 5,
   "metadata": {},
   "outputs": [
    {
     "name": "stdout",
     "output_type": "stream",
     "text": [
      "['Aluno', 'Nota 1', 'Nota 2', 'Presenças']\n",
      "['Luke', '7', '9', '15']\n",
      "['Han', '4', '7', '10']\n",
      "['Leia', '9', '9', '16']\n"
     ]
    }
   ],
   "source": [
    "import csv\n",
    "\n",
    "arquivo = open('alunos.csv', 'r')\n",
    "\n",
    "planilha = csv.reader(arquivo, delimiter=';', lineterminator='\\n')\n",
    "\n",
    "for linha in planilha:\n",
    "    print(linha)\n",
    "\n",
    "arquivo.close()"
   ]
  },
  {
   "cell_type": "markdown",
   "metadata": {},
   "source": [
    "> Caso você precise de mais flexibilidade para trabalhar com a sua planilha - por exemplo, caso deseje editá-la, criar novas colunas etc, convém **converter a estrutura para uma lista** de verdade. É possível usar a função ``list`` no objeto para fazer a conversão:"
   ]
  },
  {
   "cell_type": "code",
   "execution_count": 6,
   "metadata": {},
   "outputs": [
    {
     "name": "stdout",
     "output_type": "stream",
     "text": [
      "[['Aluno', 'Nota 1', 'Nota 2', 'Presenças'], ['Luke', '7', '9', '15'], ['Han', '4', '7', '10'], ['Leia', '9', '9', '16']]\n"
     ]
    }
   ],
   "source": [
    "import csv\n",
    "\n",
    "arquivo = open('alunos.csv', 'r')\n",
    "\n",
    "planilha = list(csv.reader(arquivo, delimiter=';', lineterminator='\\n'))\n",
    "\n",
    "arquivo.close()\n",
    "\n",
    "print(planilha)"
   ]
  },
  {
   "cell_type": "markdown",
   "metadata": {},
   "source": [
    "## Arquivo JSON"
   ]
  },
  {
   "cell_type": "markdown",
   "metadata": {},
   "source": [
    "JSON é uma sigla para *JavaScript Object Notation*. O JavaScript é uma linguagem muito utilizada em web, e assim como o Python, ela é uma linguagem orientada a objeto. Ocorre que a forma como objetos são representados nessa linguagem é bastante legível para seres humanos e fácil de decompor usando programação também."
   ]
  },
  {
   "cell_type": "markdown",
   "metadata": {},
   "source": [
    "> Atenção: No caso do JSON faremos exatamente como nos dicionários em Python: as chaves deverão vir entre aspas."
   ]
  },
  {
   "cell_type": "markdown",
   "metadata": {},
   "source": [
    "### JSON para dicionário"
   ]
  },
  {
   "cell_type": "markdown",
   "metadata": {},
   "source": [
    "O método ``loads`` recebe uma *string* contendo um **JSON** e retorna um **dicionário**, o que torna bastante fácil o acesso a informações individuais:"
   ]
  },
  {
   "cell_type": "code",
   "execution_count": 7,
   "metadata": {},
   "outputs": [
    {
     "name": "stdout",
     "output_type": "stream",
     "text": [
      "Mario\n",
      "0\n"
     ]
    }
   ],
   "source": [
    "import json\n",
    "\n",
    "jogador = '{\"nome\":\"Mario\",\"pontuacao\":0}'\n",
    "\n",
    "dicionario = json.loads(jogador)\n",
    "\n",
    "print(dicionario['nome'])\n",
    "print(dicionario['pontuacao'])"
   ]
  },
  {
   "cell_type": "markdown",
   "metadata": {},
   "source": [
    "### Dicionário para JSON"
   ]
  },
  {
   "cell_type": "markdown",
   "metadata": {},
   "source": [
    "Já o método ``dumps`` recebe um dicionário e retorna uma **string** pronta para ser salva ou enviada como **JSON**:"
   ]
  },
  {
   "cell_type": "code",
   "execution_count": 8,
   "metadata": {},
   "outputs": [
    {
     "name": "stdout",
     "output_type": "stream",
     "text": [
      "{\"nome\": \"Mario\", \"pontuacao\": 0}\n"
     ]
    }
   ],
   "source": [
    "import json\n",
    "\n",
    "jogador = dict()\n",
    "jogador['nome']  = 'Mario'\n",
    "jogador['pontuacao'] = 0\n",
    "\n",
    "string_json = json.dumps(jogador)\n",
    "\n",
    "print(string_json)"
   ]
  },
  {
   "cell_type": "markdown",
   "metadata": {},
   "source": [
    "O ``dumps`` possui um parâmetro opcional ``indent`` que recebe um número inteiro. Isso fará com que a string gerada seja indentada, e o valor desse parâmetro determinará quantos espaços irão ao início de cada \"nível\".\n",
    "\n",
    " > Sabendo realizar a conversão de dicionário para string e vice-versa, basta utilizar as técnicas de manipulação de arquivo de texto para ler a string do arquivo JSON, convertê-la para dicionário, fazer as manipulações desejadas, converter novamente para string e escrever no arquivo."
   ]
  }
 ],
 "metadata": {
  "kernelspec": {
   "display_name": "Python 3",
   "language": "python",
   "name": "python3"
  },
  "language_info": {
   "codemirror_mode": {
    "name": "ipython",
    "version": 3
   },
   "file_extension": ".py",
   "mimetype": "text/x-python",
   "name": "python",
   "nbconvert_exporter": "python",
   "pygments_lexer": "ipython3",
   "version": "3.11.6"
  }
 },
 "nbformat": 4,
 "nbformat_minor": 2
}
