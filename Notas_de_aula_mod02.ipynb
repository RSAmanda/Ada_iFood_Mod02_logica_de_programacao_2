{
 "cells": [
  {
   "cell_type": "markdown",
   "metadata": {},
   "source": [
    "# Notas da aula\n",
    "-> Lógica de Programação II\n",
    "\n",
    "- Ada Tech + iFood"
   ]
  },
  {
   "cell_type": "markdown",
   "metadata": {},
   "source": [
    "# Tuplas"
   ]
  },
  {
   "cell_type": "markdown",
   "metadata": {},
   "source": [
    "Assim como as listas, as tuplas também são coleções de objetos.\n",
    "- Podem armazenar diversos objetivos de diferentes tipos.\n",
    "- Possuem índices.\n",
    "- Podemos criar uma tupla usando parênteses ou a função `tuple`.\n",
    "    - Caso a tupla possua pelo menos dois elementos, não precisamos de parênteses, basta separar os valores por vírgula."
   ]
  },
  {
   "cell_type": "code",
   "execution_count": 1,
   "metadata": {},
   "outputs": [
    {
     "name": "stdout",
     "output_type": "stream",
     "text": [
      "Python\n",
      "True\n",
      "Web Full Stack\n"
     ]
    }
   ],
   "source": [
    "tupla1 = tuple() # uma tupla vazia\n",
    "\n",
    "tupla2 = () # outra tupla vazia\n",
    "\n",
    "linguagens = ('Python', 'JavaScript', 'SQL') # uma tupla com 3 elementos\n",
    "\n",
    "dados_variados = 3.14, 1000, True, 'abacate' # uma tupla declarada sem parênteses\n",
    "\n",
    "tupla_de_tuplas = ( ('Curso', 'Módulo 1', 'Módulo 2'),\n",
    "                    ('Data Science', 'Lógica de Programação I', 'Lógica de Programação II'),\n",
    "                    ('Web Full Stack', 'Front End Estático', 'Front End Dinâmico'))\n",
    "\n",
    "print(linguagens[0]) # imprime \"Python\"\n",
    "print(dados_variados[2]) # imprime True\n",
    "print(tupla_de_tuplas[2][0]) # imprime \"Web Full Stack\""
   ]
  },
  {
   "cell_type": "markdown",
   "metadata": {},
   "source": [
    "> As operações de listas podem ser realizadas com tuplas:\n",
    "- iterações através de uma malha de repetição do tipo `for`\n",
    "- *slicing* passando índice inicial, final e salto\n",
    "- concatenação\n"
   ]
  },
  {
   "cell_type": "markdown",
   "metadata": {},
   "source": [
    "É possível também fazer conversão de lista para tupla e vice-versa:"
   ]
  },
  {
   "cell_type": "code",
   "execution_count": 2,
   "metadata": {},
   "outputs": [
    {
     "name": "stdout",
     "output_type": "stream",
     "text": [
      "('abacate', 'banana', 'carambola', 'damasco', 'embaúba', 'framboesa', 'goiaba')\n",
      "['abacate', 'banana', 'carambola', 'damasco', 'embaúba', 'framboesa', 'goiaba']\n"
     ]
    }
   ],
   "source": [
    "lista_frutas = ['abacate', 'banana', 'carambola',\n",
    "                'damasco', 'embaúba', 'framboesa', 'goiaba']\n",
    "\n",
    "tupla_frutas = tuple(lista_frutas)\n",
    "print(tupla_frutas)\n",
    "\n",
    "nova_lista_frutas = list(tupla_frutas)\n",
    "print(nova_lista_frutas)"
   ]
  },
  {
   "cell_type": "markdown",
   "metadata": {},
   "source": [
    "## Imutabilidade\n",
    "\n",
    "Listas possuem uma propriedade que a tupla não possui: **mutabilidade**.\n",
    "\n",
    "Ou seja, usaremos tupla quando não convém alterar os dados."
   ]
  },
  {
   "cell_type": "markdown",
   "metadata": {},
   "source": [
    "## Desampacotamento de tupla\n",
    "=> *tuple unpacking*\n",
    "\n",
    "> O desempacotamento de tupla é uma operação que permite facilmente atribuir o conteúdo de uma tupla a variáveis individuais, sem a necessidade de escrever múltiplas linhas de código e manipular índices.\n",
    "\n"
   ]
  },
  {
   "cell_type": "code",
   "execution_count": 3,
   "metadata": {},
   "outputs": [
    {
     "name": "stdout",
     "output_type": "stream",
     "text": [
      "Python\n",
      "['JavaScript', 'HTML', 'CSS', 'R']\n"
     ]
    }
   ],
   "source": [
    "linguagens = ('Python', 'JavaScript', 'HTML', 'CSS', 'R') # tupla\n",
    "\n",
    "primeira, *resto = linguagens\n",
    "print(primeira) # Python\n",
    "print(resto) # ['JavaScript', 'HTML', 'CSS', 'R'] #lista"
   ]
  },
  {
   "cell_type": "markdown",
   "metadata": {},
   "source": [
    "## Operações com tuplas \"implícitas\""
   ]
  },
  {
   "cell_type": "markdown",
   "metadata": {},
   "source": [
    "O Python oferece alguns truques que permitem escrever códigos mais enxutos do que em outras linguagens, e parte desses truques utiliza sintaxe de tupla. Por exemplo, para criar duas variáveis e atribuir valores simultaneamente a elas, podemos utilizar vírgulas:"
   ]
  },
  {
   "cell_type": "code",
   "execution_count": 4,
   "metadata": {},
   "outputs": [
    {
     "name": "stdout",
     "output_type": "stream",
     "text": [
      "10\n",
      "20\n"
     ]
    }
   ],
   "source": [
    "x, y = 10, 20\n",
    "\n",
    "print(x)\n",
    "print(y)"
   ]
  },
  {
   "cell_type": "markdown",
   "metadata": {},
   "source": [
    "Inverter valores:"
   ]
  },
  {
   "cell_type": "code",
   "execution_count": 5,
   "metadata": {},
   "outputs": [
    {
     "name": "stdout",
     "output_type": "stream",
     "text": [
      "20\n",
      "10\n"
     ]
    }
   ],
   "source": [
    "y, x = x, y\n",
    "\n",
    "print(x) \n",
    "print(y) "
   ]
  },
  {
   "cell_type": "markdown",
   "metadata": {},
   "source": [
    "# Facilidades para iteração"
   ]
  },
  {
   "cell_type": "markdown",
   "metadata": {},
   "source": [
    "## Enumerate"
   ]
  },
  {
   "cell_type": "code",
   "execution_count": 6,
   "metadata": {},
   "outputs": [
    {
     "name": "stdout",
     "output_type": "stream",
     "text": [
      "(0, 'abacate')\n",
      "(1, 'banana')\n",
      "(2, 'carambola')\n",
      "(3, 'damasco')\n",
      "(4, 'embaúba')\n",
      "(5, 'framboesa')\n",
      "(6, 'goiaba')\n"
     ]
    }
   ],
   "source": [
    "lista_frutas = ['abacate', 'banana', 'carambola',\n",
    "                'damasco', 'embaúba', 'framboesa', 'goiaba']\n",
    "for x in enumerate(lista_frutas):\n",
    "    print(x)"
   ]
  },
  {
   "cell_type": "markdown",
   "metadata": {},
   "source": [
    "O ``enumerate`` montou uma estrutura onde cada elemento é uma tupla, sendo o primeiro elemento da tupla um índice da lista, e o segundo o valor associado àquele índice. Aplicando desempacotamento de tupla no ``for``, podemos ter, simultaneamente, índice e valor em variáveis separadas, na prática percorrendo a lista tanto por índice quanto por valor. "
   ]
  },
  {
   "cell_type": "code",
   "execution_count": 8,
   "metadata": {},
   "outputs": [
    {
     "name": "stdout",
     "output_type": "stream",
     "text": [
      "ABACATE\n",
      "banana\n",
      "CARAMBOLA\n",
      "damasco\n",
      "EMBAÚBA\n",
      "framboesa\n",
      "GOIABA\n"
     ]
    }
   ],
   "source": [
    "# alternando entre maiúsculo e minúsculo:\n",
    "for indice, valor in enumerate(lista_frutas):\n",
    "    if indice % 2 == 0:\n",
    "        print(valor.upper())\n",
    "    else:\n",
    "        print(valor.lower())"
   ]
  },
  {
   "cell_type": "markdown",
   "metadata": {},
   "source": [
    "## Zip"
   ]
  },
  {
   "cell_type": "markdown",
   "metadata": {},
   "source": [
    "Assim como no ``enumerate``, o ``zip`` montou **tuplas**. Cada tupla representa 1 posição das listas originais, e cada posição dentro da tupla representa o dado de uma das listas. Ou seja, cada elemento do ``zip`` contém 1 elemento de cada lista original, na ordem que eles apareceram nas listas originais. Logo, ele permite percorrer 2 listas simultaneamente.\n",
    "\n",
    "Novamente podemos aplicar desempacotamento de tuplas em nosso loop e acessar os dados de cada lista individualmente de maneira legível:"
   ]
  },
  {
   "cell_type": "code",
   "execution_count": 9,
   "metadata": {},
   "outputs": [
    {
     "name": "stdout",
     "output_type": "stream",
     "text": [
      "Aluno Paul: 10\n",
      "Aluno John: 9.5\n",
      "Aluno George: 7\n",
      "Aluno Ringo: 6\n"
     ]
    }
   ],
   "source": [
    "alunos = ['Paul', 'John', 'George', 'Ringo']\n",
    "notas = [10, 9.5, 7, 6]\n",
    "\n",
    "for aluno, nota in zip(alunos, notas):\n",
    "    print(f'Aluno {aluno}: {nota}')"
   ]
  },
  {
   "cell_type": "code",
   "execution_count": null,
   "metadata": {},
   "outputs": [],
   "source": []
  }
 ],
 "metadata": {
  "kernelspec": {
   "display_name": "Python 3",
   "language": "python",
   "name": "python3"
  },
  "language_info": {
   "codemirror_mode": {
    "name": "ipython",
    "version": 3
   },
   "file_extension": ".py",
   "mimetype": "text/x-python",
   "name": "python",
   "nbconvert_exporter": "python",
   "pygments_lexer": "ipython3",
   "version": "3.11.6"
  }
 },
 "nbformat": 4,
 "nbformat_minor": 2
}
