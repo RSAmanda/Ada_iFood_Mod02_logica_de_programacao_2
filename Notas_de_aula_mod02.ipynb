{
 "cells": [
  {
   "cell_type": "markdown",
   "metadata": {},
   "source": [
    "# Notas da aula\n",
    "-> Lógica de Programação II\n",
    "\n",
    "- Ada Tech + iFood"
   ]
  },
  {
   "cell_type": "markdown",
   "metadata": {},
   "source": [
    "# Listas"
   ]
  },
  {
   "cell_type": "markdown",
   "metadata": {},
   "source": [
    "A lista é uma coleção de objetos em Python. Criando uma única variável para representar a lista, podemos armazenar múltiplos valores. Internamente, esses valores são representados por seus índices: um número inteiro, iniciando em zero e incrementando com passo unitário.\n",
    "\n",
    "Como os elementos em uma lista são representados por **números inteiros**, podemos facilmente percorrê-la variando seu índice de maneira automatizada. Apesar de funcionar, essa forma é considerada pouco legível. Existe uma maneira mais direta de percorrer uma lista. Ao trocarmos a função range do nosso ``for`` pela própria lista, ele irá copiar cada elemento da lista para a variável temporária. Assim conseguimos facilmente, e de maneira bem legível, acessar todos os elementos de uma lista.Caso tenhamos listas aninhadas, podemos percorrê-las aninhando loops. Utilizamos um loop para cada \"nível\" de lista."
   ]
  },
  {
   "cell_type": "code",
   "execution_count": 10,
   "metadata": {},
   "outputs": [],
   "source": [
    "dados_variados = [1,2,3,4,5,6]\n",
    "lista_de_listas = [[1,2],[3,4],[5,6]]"
   ]
  },
  {
   "cell_type": "code",
   "execution_count": 11,
   "metadata": {},
   "outputs": [
    {
     "name": "stdout",
     "output_type": "stream",
     "text": [
      "1\n",
      "2\n",
      "3\n",
      "4\n"
     ]
    }
   ],
   "source": [
    "# Forma 1\n",
    "for indice in range(4):\n",
    "    print(dados_variados[indice])"
   ]
  },
  {
   "cell_type": "code",
   "execution_count": 12,
   "metadata": {},
   "outputs": [
    {
     "name": "stdout",
     "output_type": "stream",
     "text": [
      "1\n",
      "2\n",
      "3\n",
      "4\n",
      "5\n",
      "6\n"
     ]
    }
   ],
   "source": [
    "# Forma 2\n",
    "for elemento in dados_variados:\n",
    "    print(elemento)"
   ]
  },
  {
   "cell_type": "code",
   "execution_count": 13,
   "metadata": {},
   "outputs": [
    {
     "name": "stdout",
     "output_type": "stream",
     "text": [
      "1\n",
      "2\n",
      "3\n",
      "4\n",
      "5\n",
      "6\n"
     ]
    }
   ],
   "source": [
    "# Forma 3\n",
    "for linha in lista_de_listas:\n",
    "    for elemento in linha:\n",
    "        print(elemento)"
   ]
  },
  {
   "cell_type": "markdown",
   "metadata": {},
   "source": [
    "## Formas de ordenação com comparação"
   ]
  },
  {
   "cell_type": "markdown",
   "metadata": {},
   "source": [
    "1. Bubble Sorting\n",
    "2. Selection Sort\n",
    "3. Insertion Sorting\n",
    "4. Quick Sorting\n",
    "5. Shell / Hill Sorting\n",
    "6. Heap Sorting\n",
    "7. Merge Sorting\n",
    "\n",
    "Link interessante: https://towardsdatascience.com/sorting-algorithms-with-python-4ec7081d78a1\n",
    "\n",
    "link sobre ordenação de listas : https://www.youtube.com/watch?v=kPRA0W1kECg\n",
    "\n",
    "(ordenação mais engraçada do insertion sort: https://www.youtube.com/watch?v=EdIKIf9mHk0)"
   ]
  },
  {
   "cell_type": "code",
   "execution_count": 20,
   "metadata": {},
   "outputs": [
    {
     "data": {
      "text/plain": [
       "[1, 2, 2, 3, 5, 7, 8]"
      ]
     },
     "execution_count": 20,
     "metadata": {},
     "output_type": "execute_result"
    }
   ],
   "source": [
    "# bubble sort\n",
    "lista = [1,3,2,5,7,2,8]\n",
    "def bubbleSort(lista):\n",
    "    trocou = False\n",
    "    for i in range(len(lista)-1,0,-1):\n",
    "        for j in range(i):\n",
    "            if lista[j]>lista[j+1]:\n",
    "                lista[j], lista[j+1] = lista[j+1], lista[j]\n",
    "                trocou = True\n",
    "        if trocou:\n",
    "            trocou =False\n",
    "        else:\n",
    "            break\n",
    "    return lista\n",
    "bubbleSort(lista)"
   ]
  },
  {
   "cell_type": "code",
   "execution_count": 19,
   "metadata": {},
   "outputs": [
    {
     "data": {
      "text/plain": [
       "[1, 2, 2, 3, 5, 7, 8]"
      ]
     },
     "execution_count": 19,
     "metadata": {},
     "output_type": "execute_result"
    }
   ],
   "source": [
    "# Selection sort\n",
    "lista = [1,3,2,5,7,2,8]\n",
    "def selectionSort(lista):\n",
    "    for i in range(len(lista)-1):\n",
    "        min_idx = i\n",
    "        for idx in range(i + 1, len(lista)):\n",
    "            if lista[idx] < lista[min_idx]:\n",
    "                min_idx = idx\n",
    "        lista[i], lista[min_idx] = lista[min_idx], lista[i]\n",
    "\n",
    "    return lista\n",
    "selectionSort(lista)"
   ]
  },
  {
   "cell_type": "code",
   "execution_count": 28,
   "metadata": {},
   "outputs": [
    {
     "data": {
      "text/plain": [
       "[1, 2, 2, 3, 5, 7, 8]"
      ]
     },
     "execution_count": 28,
     "metadata": {},
     "output_type": "execute_result"
    }
   ],
   "source": [
    "# insertion sort\n",
    "lista = [1,3,2,5,7,2,8]\n",
    "def insertionSort(lista):\n",
    "    for i in range(len(lista)):\n",
    "        valor = lista[i]\n",
    "        j = i-1\n",
    "        while j>0 and lista[j]>valor:\n",
    "            lista[j+1] = lista[j]\n",
    "            j = j-1\n",
    "        lista[j+1] = valor\n",
    "    return lista\n",
    "\n",
    "insertionSort(lista)"
   ]
  },
  {
   "cell_type": "code",
   "execution_count": 17,
   "metadata": {},
   "outputs": [
    {
     "data": {
      "text/plain": [
       "[1, 2, 2, 3, 5, 7, 8]"
      ]
     },
     "execution_count": 17,
     "metadata": {},
     "output_type": "execute_result"
    }
   ],
   "source": [
    "# quick sort\n",
    "lista = [1,3,2,5,7,2,8]\n",
    "\n",
    "def quickSort(lista):\n",
    "    if len(lista)> 1:\n",
    "        pivot=lista.pop()\n",
    "        grtr_lst, equal_lst, smlr_lst = [], [pivot], []\n",
    "        for item in lista:\n",
    "            if item == pivot:\n",
    "                equal_lst.append(item)\n",
    "            elif item > pivot:\n",
    "                grtr_lst.append(item)\n",
    "            else:\n",
    "                smlr_lst.append(item)\n",
    "        return (quickSort(smlr_lst) + equal_lst + quickSort(grtr_lst))\n",
    "    else:\n",
    "        return lista\n",
    "\n",
    "quickSort(lista)"
   ]
  },
  {
   "cell_type": "markdown",
   "metadata": {},
   "source": [
    "Calcular o tempo das funções:"
   ]
  },
  {
   "cell_type": "code",
   "execution_count": 49,
   "metadata": {},
   "outputs": [
    {
     "name": "stdout",
     "output_type": "stream",
     "text": [
      "Bubble Sort\n",
      "--- 65.65966534614563 seconds ---\n",
      "Selection Sort\n",
      "--- 26.729572296142578 seconds ---\n",
      "Insertion Sort\n",
      "--- 26.25794768333435 seconds ---\n",
      "Quick Sort\n",
      "--- 0.01498723030090332 seconds ---\n"
     ]
    }
   ],
   "source": [
    "import time\n",
    "tamanho = 50000\n",
    "lista = random.choices(range(100), weights=None, k=tamanho)\n",
    "start_time = time.time()\n",
    "bubbleSort(lista)\n",
    "print(\"Bubble Sort\")\n",
    "print(\"--- %s seconds ---\" % (time.time() - start_time))\n",
    "\n",
    "lista = random.choices(range(100), weights=None, k=tamanho)\n",
    "start_time = time.time()\n",
    "selectionSort(lista)\n",
    "print(\"Selection Sort\")\n",
    "print(\"--- %s seconds ---\" % (time.time() - start_time))\n",
    "\n",
    "lista = random.choices(range(100), weights=None, k=tamanho)\n",
    "start_time = time.time()\n",
    "insertionSort(lista)\n",
    "print(\"Insertion Sort\")\n",
    "print(\"--- %s seconds ---\" % (time.time() - start_time))\n",
    "\n",
    "lista = random.choices(range(100), weights=None, k=tamanho)\n",
    "start_time = time.time()\n",
    "quickSort(lista)\n",
    "print(\"Quick Sort\")\n",
    "print(\"--- %s seconds ---\" % (time.time() - start_time))\n",
    "\n",
    "\n"
   ]
  },
  {
   "cell_type": "markdown",
   "metadata": {},
   "source": [
    "# Tuplas"
   ]
  },
  {
   "cell_type": "markdown",
   "metadata": {},
   "source": [
    "Assim como as listas, as tuplas também são coleções de objetos.\n",
    "- Podem armazenar diversos objetivos de diferentes tipos.\n",
    "- Possuem índices.\n",
    "- Podemos criar uma tupla usando parênteses ou a função `tuple`.\n",
    "    - Caso a tupla possua pelo menos dois elementos, não precisamos de parênteses, basta separar os valores por vírgula."
   ]
  },
  {
   "cell_type": "code",
   "execution_count": 1,
   "metadata": {},
   "outputs": [
    {
     "name": "stdout",
     "output_type": "stream",
     "text": [
      "Python\n",
      "True\n",
      "Web Full Stack\n"
     ]
    }
   ],
   "source": [
    "tupla1 = tuple() # uma tupla vazia\n",
    "\n",
    "tupla2 = () # outra tupla vazia\n",
    "\n",
    "linguagens = ('Python', 'JavaScript', 'SQL') # uma tupla com 3 elementos\n",
    "\n",
    "dados_variados = 3.14, 1000, True, 'abacate' # uma tupla declarada sem parênteses\n",
    "\n",
    "tupla_de_tuplas = ( ('Curso', 'Módulo 1', 'Módulo 2'),\n",
    "                    ('Data Science', 'Lógica de Programação I', 'Lógica de Programação II'),\n",
    "                    ('Web Full Stack', 'Front End Estático', 'Front End Dinâmico'))\n",
    "\n",
    "print(linguagens[0]) # imprime \"Python\"\n",
    "print(dados_variados[2]) # imprime True\n",
    "print(tupla_de_tuplas[2][0]) # imprime \"Web Full Stack\""
   ]
  },
  {
   "cell_type": "markdown",
   "metadata": {},
   "source": [
    "> As operações de listas podem ser realizadas com tuplas:\n",
    "- iterações através de uma malha de repetição do tipo `for`\n",
    "- *slicing* passando índice inicial, final e salto\n",
    "- concatenação\n"
   ]
  },
  {
   "cell_type": "markdown",
   "metadata": {},
   "source": [
    "É possível também fazer conversão de lista para tupla e vice-versa:"
   ]
  },
  {
   "cell_type": "code",
   "execution_count": 2,
   "metadata": {},
   "outputs": [
    {
     "name": "stdout",
     "output_type": "stream",
     "text": [
      "('abacate', 'banana', 'carambola', 'damasco', 'embaúba', 'framboesa', 'goiaba')\n",
      "['abacate', 'banana', 'carambola', 'damasco', 'embaúba', 'framboesa', 'goiaba']\n"
     ]
    }
   ],
   "source": [
    "lista_frutas = ['abacate', 'banana', 'carambola',\n",
    "                'damasco', 'embaúba', 'framboesa', 'goiaba']\n",
    "\n",
    "tupla_frutas = tuple(lista_frutas)\n",
    "print(tupla_frutas)\n",
    "\n",
    "nova_lista_frutas = list(tupla_frutas)\n",
    "print(nova_lista_frutas)"
   ]
  },
  {
   "cell_type": "markdown",
   "metadata": {},
   "source": [
    "## Imutabilidade\n",
    "\n",
    "Listas possuem uma propriedade que a tupla não possui: **mutabilidade**.\n",
    "\n",
    "Ou seja, usaremos tupla quando não convém alterar os dados."
   ]
  },
  {
   "cell_type": "markdown",
   "metadata": {},
   "source": [
    "## Desampacotamento de tupla\n",
    "=> *tuple unpacking*\n",
    "\n",
    "> O desempacotamento de tupla é uma operação que permite facilmente atribuir o conteúdo de uma tupla a variáveis individuais, sem a necessidade de escrever múltiplas linhas de código e manipular índices.\n",
    "\n"
   ]
  },
  {
   "cell_type": "markdown",
   "metadata": {},
   "source": [
    "É muito utilizado para separar retorno de função com várias valores."
   ]
  },
  {
   "cell_type": "code",
   "execution_count": 3,
   "metadata": {},
   "outputs": [
    {
     "name": "stdout",
     "output_type": "stream",
     "text": [
      "Python\n",
      "['JavaScript', 'HTML', 'CSS', 'R']\n"
     ]
    }
   ],
   "source": [
    "linguagens = ('Python', 'JavaScript', 'HTML', 'CSS', 'R') # tupla\n",
    "\n",
    "primeira, *resto = linguagens\n",
    "print(primeira) # Python\n",
    "print(resto) # ['JavaScript', 'HTML', 'CSS', 'R'] #lista"
   ]
  },
  {
   "cell_type": "markdown",
   "metadata": {},
   "source": [
    "## Operações com tuplas \"implícitas\""
   ]
  },
  {
   "cell_type": "markdown",
   "metadata": {},
   "source": [
    "O Python oferece alguns truques que permitem escrever códigos mais enxutos do que em outras linguagens, e parte desses truques utiliza sintaxe de tupla. Por exemplo, para criar duas variáveis e atribuir valores simultaneamente a elas, podemos utilizar vírgulas:"
   ]
  },
  {
   "cell_type": "code",
   "execution_count": 4,
   "metadata": {},
   "outputs": [
    {
     "name": "stdout",
     "output_type": "stream",
     "text": [
      "10\n",
      "20\n"
     ]
    }
   ],
   "source": [
    "x, y = 10, 20\n",
    "\n",
    "print(x)\n",
    "print(y)"
   ]
  },
  {
   "cell_type": "markdown",
   "metadata": {},
   "source": [
    "Inverter valores:"
   ]
  },
  {
   "cell_type": "code",
   "execution_count": 5,
   "metadata": {},
   "outputs": [
    {
     "name": "stdout",
     "output_type": "stream",
     "text": [
      "20\n",
      "10\n"
     ]
    }
   ],
   "source": [
    "y, x = x, y\n",
    "\n",
    "print(x) \n",
    "print(y) "
   ]
  },
  {
   "cell_type": "markdown",
   "metadata": {},
   "source": [
    "# Facilidades para iteração"
   ]
  },
  {
   "cell_type": "markdown",
   "metadata": {},
   "source": [
    "## Enumerate"
   ]
  },
  {
   "cell_type": "code",
   "execution_count": 6,
   "metadata": {},
   "outputs": [
    {
     "name": "stdout",
     "output_type": "stream",
     "text": [
      "(0, 'abacate')\n",
      "(1, 'banana')\n",
      "(2, 'carambola')\n",
      "(3, 'damasco')\n",
      "(4, 'embaúba')\n",
      "(5, 'framboesa')\n",
      "(6, 'goiaba')\n"
     ]
    }
   ],
   "source": [
    "lista_frutas = ['abacate', 'banana', 'carambola',\n",
    "                'damasco', 'embaúba', 'framboesa', 'goiaba']\n",
    "for x in enumerate(lista_frutas):\n",
    "    print(x)"
   ]
  },
  {
   "cell_type": "markdown",
   "metadata": {},
   "source": [
    "O ``enumerate`` montou uma estrutura onde cada elemento é uma tupla, sendo o primeiro elemento da tupla um índice da lista, e o segundo o valor associado àquele índice. Aplicando desempacotamento de tupla no ``for``, podemos ter, simultaneamente, índice e valor em variáveis separadas, na prática percorrendo a lista tanto por índice quanto por valor. "
   ]
  },
  {
   "cell_type": "code",
   "execution_count": 8,
   "metadata": {},
   "outputs": [
    {
     "name": "stdout",
     "output_type": "stream",
     "text": [
      "ABACATE\n",
      "banana\n",
      "CARAMBOLA\n",
      "damasco\n",
      "EMBAÚBA\n",
      "framboesa\n",
      "GOIABA\n"
     ]
    }
   ],
   "source": [
    "# alternando entre maiúsculo e minúsculo:\n",
    "for indice, valor in enumerate(lista_frutas):\n",
    "    if indice % 2 == 0:\n",
    "        print(valor.upper())\n",
    "    else:\n",
    "        print(valor.lower())"
   ]
  },
  {
   "cell_type": "markdown",
   "metadata": {},
   "source": [
    "## Zip"
   ]
  },
  {
   "cell_type": "markdown",
   "metadata": {},
   "source": [
    "Assim como no ``enumerate``, o ``zip`` montou **tuplas**. Cada tupla representa 1 posição das listas originais, e cada posição dentro da tupla representa o dado de uma das listas. Ou seja, cada elemento do ``zip`` contém 1 elemento de cada lista original, na ordem que eles apareceram nas listas originais. Logo, ele permite percorrer 2 listas simultaneamente.\n",
    "\n",
    "Novamente podemos aplicar desempacotamento de tuplas em nosso loop e acessar os dados de cada lista individualmente de maneira legível:"
   ]
  },
  {
   "cell_type": "code",
   "execution_count": 9,
   "metadata": {},
   "outputs": [
    {
     "name": "stdout",
     "output_type": "stream",
     "text": [
      "Aluno Paul: 10\n",
      "Aluno John: 9.5\n",
      "Aluno George: 7\n",
      "Aluno Ringo: 6\n"
     ]
    }
   ],
   "source": [
    "alunos = ['Paul', 'John', 'George', 'Ringo']\n",
    "notas = [10, 9.5, 7, 6]\n",
    "\n",
    "for aluno, nota in zip(alunos, notas):\n",
    "    print(f'Aluno {aluno}: {nota}')"
   ]
  },
  {
   "cell_type": "markdown",
   "metadata": {},
   "source": [
    "# Dicionários"
   ]
  },
  {
   "cell_type": "markdown",
   "metadata": {},
   "source": [
    "> Em outras linguagens, o dicionário são conhecidos como tabelas *hash*, *hash map*, entre outros."
   ]
  },
  {
   "cell_type": "markdown",
   "metadata": {},
   "source": [
    "A estrutura **dicionário** em Python é uma coleção de dados. Porém, ela não é indexada. Ao adicionarmos elementos em um dicionário, sempre o fazemos aos pares: todo elemento terá uma **chave** e um **valor**.\n",
    "\n",
    "A chave será uma *string* que utilizaremos como se fosse o **índice**. É como se fosse a palavra que buscamos em um dicionário de papel.\n",
    "\n",
    "O valor pode ser qualquer dado: um ``int``, um ``float``, uma ``str``, um ``bool``, uma ``lista``, uma ``tupla``, outro ``dicionário``. Ele é como se fosse a definição que encontramos vinculada à palavra que buscamos no dicionário de papel."
   ]
  },
  {
   "cell_type": "markdown",
   "metadata": {},
   "source": [
    "## Criando um dicionário\n",
    "Separamos chave e valor utilizanod dois pontos(`:`), e separamos um par de outro utilizando vírgula. Utilizamos o símbolo chave(`{` e `}`) para representar um dicionário."
   ]
  },
  {
   "cell_type": "code",
   "execution_count": 1,
   "metadata": {},
   "outputs": [],
   "source": [
    "aluno = {'nome':'Mario', 'notas':[7, 9, 5, 6], 'presencas':0.8}"
   ]
  },
  {
   "cell_type": "code",
   "execution_count": 2,
   "metadata": {},
   "outputs": [
    {
     "data": {
      "text/plain": [
       "{'nome': 'Mario', 'notas': [7, 9, 5, 6], 'presencas': 0.8}"
      ]
     },
     "execution_count": 2,
     "metadata": {},
     "output_type": "execute_result"
    }
   ],
   "source": [
    "aluno"
   ]
  },
  {
   "cell_type": "markdown",
   "metadata": {},
   "source": [
    "Podemos acessar uma informação de um dicionário utilizando a sua **chave** da mesma maneira que utilizamos um índice em uma lista:"
   ]
  },
  {
   "cell_type": "code",
   "execution_count": 3,
   "metadata": {},
   "outputs": [
    {
     "name": "stdout",
     "output_type": "stream",
     "text": [
      "Aluno: Mario\n",
      "Notas: [7, 9, 5, 6]\n"
     ]
    }
   ],
   "source": [
    "print('Aluno:', aluno['nome']) # Aluno: Mario\n",
    "print('Notas:', aluno['notas']) # Notas: [7, 9, 5, 6]"
   ]
  },
  {
   "cell_type": "markdown",
   "metadata": {},
   "source": [
    "Também é possível criar dicionários através da função ``dict``. Ela pode ser utilizada de diferentes maneiras. Uma delas é passando parâmetros com nomes. Os nomes dos parâmetros se tornarão chaves, e os valores associados serão valores:"
   ]
  },
  {
   "cell_type": "code",
   "execution_count": 4,
   "metadata": {},
   "outputs": [
    {
     "name": "stdout",
     "output_type": "stream",
     "text": [
      "{'Ana': 7, 'Brenda': 10, 'Carlos': 8}\n"
     ]
    }
   ],
   "source": [
    "notas = dict(Ana = 7, Brenda = 10, Carlos = 8)\n",
    "print(notas) "
   ]
  },
  {
   "cell_type": "markdown",
   "metadata": {},
   "source": [
    "Outra possibilidade é utilizar uma **coleção** (como uma lista ou uma tupla) contendo, internamente, outras coleções com exatamente 2 elementos. O primeiro elemento será **chave**, o segundo será **valor**. O exemplo abaixo cria o mesmo dicionário do exemplo anterior:"
   ]
  },
  {
   "cell_type": "code",
   "execution_count": 5,
   "metadata": {},
   "outputs": [
    {
     "name": "stdout",
     "output_type": "stream",
     "text": [
      "{'Ana': 7, 'Brenda': 10, 'Carlos': 8}\n"
     ]
    }
   ],
   "source": [
    "lista = [['Ana', 7], ['Brenda', 10], ['Carlos', 8]]\n",
    "dicionario = dict(lista)\n",
    "print(dicionario)"
   ]
  },
  {
   "cell_type": "markdown",
   "metadata": {},
   "source": [
    "Caso você tenha suas chaves e valores em coleções separadas, uma maneira fácil de explorar a possibilidade anterior é utilizar um ``zip``:"
   ]
  },
  {
   "cell_type": "code",
   "execution_count": 7,
   "metadata": {},
   "outputs": [
    {
     "name": "stdout",
     "output_type": "stream",
     "text": [
      "{'Ana': 7, 'Brenda': 10, 'Carlos': 8}\n"
     ]
    }
   ],
   "source": [
    "nomes = ['Ana', 'Brenda', 'Carlos']\n",
    "notas = [7, 10, 8]\n",
    "dicionario_notas = dict(zip(nomes, notas))\n",
    "print(dicionario_notas)"
   ]
  },
  {
   "cell_type": "markdown",
   "metadata": {},
   "source": [
    "## Adicionando elementos em um dicionário"
   ]
  },
  {
   "cell_type": "markdown",
   "metadata": {},
   "source": [
    "Para adicionar elementos, não precisamos de uma função pronta (como o ``append`` das listas). Basta \"acessar\" a nova chave e atribuir um novo valor."
   ]
  },
  {
   "cell_type": "code",
   "execution_count": 8,
   "metadata": {},
   "outputs": [
    {
     "name": "stdout",
     "output_type": "stream",
     "text": [
      "{'nome': 'Mario', 'notas': [7, 9, 5, 6], 'presencas': 0.8, 'media': 6.75, 'aprovado': True}\n"
     ]
    }
   ],
   "source": [
    "aluno['media'] = sum(aluno['notas'])/len(aluno['notas'])\n",
    "\n",
    "aluno['aprovado'] = aluno['media'] >= 6.0 and aluno['presencas'] >= 0.7\n",
    "\n",
    "print(aluno)"
   ]
  },
  {
   "cell_type": "markdown",
   "metadata": {},
   "source": [
    "## Percorrendo um dicionário"
   ]
  },
  {
   "cell_type": "markdown",
   "metadata": {},
   "source": [
    "Dicionários podem ser percorridos com um ``for``. Ao fazer isso, as chaves serão percorridas, não os valores. Porém, a partir da chave obtém-se o valor:"
   ]
  },
  {
   "cell_type": "code",
   "execution_count": 14,
   "metadata": {},
   "outputs": [
    {
     "name": "stdout",
     "output_type": "stream",
     "text": [
      "nome \t---> Mario\n",
      "notas \t---> [7, 9, 5, 6]\n",
      "presencas \t---> 0.8\n",
      "media \t---> 6.75\n",
      "aprovado \t---> True\n"
     ]
    }
   ],
   "source": [
    "for chave in aluno:\n",
    "    print(chave, '\\t--->', aluno[chave])"
   ]
  },
  {
   "cell_type": "markdown",
   "metadata": {},
   "source": [
    "## Testando a existência de uma chave"
   ]
  },
  {
   "cell_type": "markdown",
   "metadata": {},
   "source": [
    "Antes de criar uma chave nova em um dicionário, convém testar se ela já existe, para evitar sobrescrever um valor. Podemos fazer isso com o operador ``in``. Neste contexto, ele retornará ``True`` se a chave existir e ``False`` caso contrário."
   ]
  },
  {
   "cell_type": "code",
   "execution_count": 15,
   "metadata": {},
   "outputs": [
    {
     "name": "stdout",
     "output_type": "stream",
     "text": [
      "{'escola': 'Ada', 'unidade': 'Faria Lima', 'cursos': ['Python', 'Data Science']}\n"
     ]
    }
   ],
   "source": [
    "dicionario = {'escola':\"Ada\", 'unidade':'Faria Lima'}\n",
    "\n",
    "# Neste caso, 'cursos' ainda não existe.\n",
    "# Cairemos no else e será criada uma lista com a string 'Python'.\n",
    "\n",
    "if 'cursos' in dicionario:\n",
    "    dicionario['cursos'].append('Python')\n",
    "else:\n",
    "    dicionario['cursos'] = ['Python']\n",
    "\n",
    "# Agora a chave já existe. \n",
    "# Portanto, será adicionado 'Data Science' à lista. \n",
    "if 'cursos' in dicionario:\n",
    "    dicionario['cursos'].append('Data Science')\n",
    "else:\n",
    "    dicionario['cursos'] = ['Data Science']\n",
    "    \n",
    "print(dicionario)"
   ]
  },
  {
   "cell_type": "code",
   "execution_count": 17,
   "metadata": {},
   "outputs": [
    {
     "name": "stdout",
     "output_type": "stream",
     "text": [
      "escola ---> Ada\n",
      "unidade ---> Faria Lima\n",
      "cursos ---> ['Python', 'Data Science']\n"
     ]
    }
   ],
   "source": [
    "for chave in dicionario:\n",
    "    print(chave, '--->', dicionario[chave])"
   ]
  },
  {
   "cell_type": "markdown",
   "metadata": {},
   "source": [
    "# Métodos de Dicionários"
   ]
  },
  {
   "cell_type": "markdown",
   "metadata": {},
   "source": [
    "[Lista de métodos para dicionários](https://www.w3schools.com/python/python_ref_dictionary.asp)"
   ]
  },
  {
   "cell_type": "markdown",
   "metadata": {},
   "source": [
    "## Acessando valores de maneira segura"
   ]
  },
  {
   "cell_type": "markdown",
   "metadata": {},
   "source": [
    "### *get*"
   ]
  },
  {
   "cell_type": "markdown",
   "metadata": {},
   "source": [
    "O método ``get`` permite acessar uma chave sem a ocorrência de erro. Caso uma chave não exista, ele irá retornar ``None``, a constante nula denotando a ausência de valor."
   ]
  },
  {
   "cell_type": "code",
   "execution_count": 19,
   "metadata": {},
   "outputs": [],
   "source": [
    "nomes = ['Ana', 'Brenda', 'Carlos']\n",
    "notas = [7, 10, 8]\n",
    "dicionario_notas = dict(zip(nomes, notas))"
   ]
  },
  {
   "cell_type": "code",
   "execution_count": 20,
   "metadata": {},
   "outputs": [
    {
     "data": {
      "text/plain": [
       "{'Ana': 7, 'Brenda': 10, 'Carlos': 8}"
      ]
     },
     "execution_count": 20,
     "metadata": {},
     "output_type": "execute_result"
    }
   ],
   "source": [
    "dicionario_notas"
   ]
  },
  {
   "cell_type": "code",
   "execution_count": 21,
   "metadata": {},
   "outputs": [
    {
     "name": "stdout",
     "output_type": "stream",
     "text": [
      "None\n"
     ]
    }
   ],
   "source": [
    "nota_daniel = dicionario_notas.get('Daniel')\n",
    "print(nota_daniel)"
   ]
  },
  {
   "cell_type": "markdown",
   "metadata": {},
   "source": [
    "O ``get`` aceita como parâmetro opcional um valor padrão que será retornado ao invés de ``None`` caso a chave não exista:"
   ]
  },
  {
   "cell_type": "code",
   "execution_count": 22,
   "metadata": {},
   "outputs": [
    {
     "name": "stdout",
     "output_type": "stream",
     "text": [
      "10\n",
      "0\n"
     ]
    }
   ],
   "source": [
    "nota_brenda = dicionario_notas.get('Brenda', 0) # valor de nota_brenda: 10\n",
    "print(nota_brenda)\n",
    "nota_daniel = dicionario_notas.get('Daniel', 0) # valor de nota_daniel: None\n",
    "print(nota_daniel)"
   ]
  },
  {
   "cell_type": "markdown",
   "metadata": {},
   "source": [
    "### *setdefault*"
   ]
  },
  {
   "cell_type": "markdown",
   "metadata": {},
   "source": [
    "Um caso específico que vimos foi quando desejamos inserir uma chave caso ela não exista ou acessar seu valor caso ela exista. O método ``setdefault`` faz exatamente isso. Passamos uma chave e um valor. Se a chave for encontrada, seu valor é retornado. Caso contrário, ela é inserida com o valor passado. Vamos refazer o exemplo do ``in`` utilizando este método:"
   ]
  },
  {
   "cell_type": "code",
   "execution_count": 23,
   "metadata": {},
   "outputs": [
    {
     "name": "stdout",
     "output_type": "stream",
     "text": [
      "['Python']\n",
      "['Python', 'Data Science']\n"
     ]
    }
   ],
   "source": [
    "dicionario = {'escola':\"Ada\", 'unidade':'Faria Lima'}\n",
    "cursos = dicionario.setdefault('cursos', ['Python'])\n",
    "print(cursos) \n",
    "cursos.append('Data Science')\n",
    "print(dicionario['cursos']) "
   ]
  },
  {
   "cell_type": "markdown",
   "metadata": {},
   "source": [
    "## Copiando dicionários"
   ]
  },
  {
   "cell_type": "markdown",
   "metadata": {},
   "source": [
    "### Criando um novo dicionário"
   ]
  },
  {
   "cell_type": "markdown",
   "metadata": {},
   "source": [
    "Quando você já possui um dicionário e gostaria de copiar todo o seu conteúdo para outro dicionário, assim como no caso da lista, **você não deve fazer uma atribuição direta**, pois não houve cópia, e sim duas variáveis referenciando o mesmo dicionário na memória:"
   ]
  },
  {
   "cell_type": "code",
   "execution_count": 28,
   "metadata": {},
   "outputs": [
    {
     "name": "stdout",
     "output_type": "stream",
     "text": [
      "0\n"
     ]
    }
   ],
   "source": [
    "nomes = ['Ana', 'Brenda', 'Carlos']\n",
    "notas = [7, 10, 8]\n",
    "dicionario_notas = dict(zip(nomes, notas))\n",
    "dicionario_notas_copia = dicionario_notas\n",
    "\n",
    "dicionario_notas_copia['Ana'] = 0\n",
    "print(dicionario_notas['Ana']) "
   ]
  },
  {
   "cell_type": "markdown",
   "metadata": {},
   "source": [
    "Para copiar de fato o dicionário você pode utilizar o método ``copy``:"
   ]
  },
  {
   "cell_type": "code",
   "execution_count": 29,
   "metadata": {},
   "outputs": [
    {
     "name": "stdout",
     "output_type": "stream",
     "text": [
      "7\n",
      "0\n"
     ]
    }
   ],
   "source": [
    "nomes = ['Ana', 'Brenda', 'Carlos']\n",
    "notas = [7, 10, 8]\n",
    "dicionario_notas = dict(zip(nomes, notas))\n",
    "dicionario_notas_copia = dicionario_notas.copy()\n",
    "\n",
    "dicionario_notas_copia['Ana'] = 0\n",
    "print(dicionario_notas['Ana'])\n",
    "print(dicionario_notas_copia['Ana'])"
   ]
  },
  {
   "cell_type": "markdown",
   "metadata": {},
   "source": [
    "### Copiar um dicionário para dicionário já existente"
   ]
  },
  {
   "cell_type": "markdown",
   "metadata": {},
   "source": [
    "Imagine que você já possui dois dicionários distintos e gostaria de uni-los, copiando os pares chave-valor de um deles para o outro. Você pode fazer isso utilizando o método ``update``."
   ]
  },
  {
   "cell_type": "code",
   "execution_count": 27,
   "metadata": {},
   "outputs": [
    {
     "name": "stdout",
     "output_type": "stream",
     "text": [
      "{'escola': 'Ada', 'unidade': 'Faria Lima', 'trilhas': ['Data Science', 'Web Full Stack'], 'formato': 'online'}\n"
     ]
    }
   ],
   "source": [
    "escola = {'escola':\"Ada\", 'unidade':'Faria Lima'}\n",
    "mais_escola = {'trilhas':['Data Science', 'Web Full Stack'], 'formato':'online'}\n",
    "\n",
    "escola.update(mais_escola)\n",
    "\n",
    "print(escola)"
   ]
  },
  {
   "cell_type": "markdown",
   "metadata": {},
   "source": [
    "## Removendo elementos de um dicionário"
   ]
  },
  {
   "cell_type": "markdown",
   "metadata": {},
   "source": [
    "Você pode remover um elemento de um dicionário através do método ``pop``. Você deve passar a chave a ser removida."
   ]
  },
  {
   "cell_type": "code",
   "execution_count": 26,
   "metadata": {},
   "outputs": [
    {
     "name": "stdout",
     "output_type": "stream",
     "text": [
      "{'nome': 'Mario', 'notas': [7, 9, 5, 6]}\n"
     ]
    }
   ],
   "source": [
    "aluno = {'nome':'Mario', 'notas':[7, 9, 5, 6], 'presencas':0.8}\n",
    "aluno.pop('presencas')\n",
    "print(aluno)"
   ]
  },
  {
   "cell_type": "markdown",
   "metadata": {},
   "source": [
    "## Separando chaves e valores"
   ]
  },
  {
   "cell_type": "markdown",
   "metadata": {},
   "source": [
    "O Python possui funções para obter, separadamente, todas as chaves ou todos os valores de um dicionário. Elas são, respectivamente, ``keys`` e ``values``. Podemos transformar o retorno dessa função em uma lista ou tupla."
   ]
  },
  {
   "cell_type": "code",
   "execution_count": 24,
   "metadata": {},
   "outputs": [
    {
     "name": "stdout",
     "output_type": "stream",
     "text": [
      "Chaves:  ['nome', 'notas', 'presencas']\n",
      "Valores: ['Mario', [7, 9, 5, 6], 0.8]\n"
     ]
    }
   ],
   "source": [
    "aluno = {'nome':'Mario', 'notas':[7, 9, 5, 6], 'presencas':0.8}\n",
    "\n",
    "chaves = list(aluno.keys())\n",
    "valores = list(aluno.values())\n",
    "\n",
    "print('Chaves: ', chaves)\n",
    "print('Valores:', valores)"
   ]
  },
  {
   "cell_type": "markdown",
   "metadata": {},
   "source": [
    "O método ``items`` retorna uma coleção de tuplas, onde cada tupla contém um par chave-valor do dicionário:"
   ]
  },
  {
   "cell_type": "code",
   "execution_count": 25,
   "metadata": {},
   "outputs": [
    {
     "name": "stdout",
     "output_type": "stream",
     "text": [
      "dict_items([('nome', 'Mario'), ('notas', [7, 9, 5, 6]), ('presencas', 0.8)])\n"
     ]
    }
   ],
   "source": [
    "print(aluno.items())"
   ]
  }
 ],
 "metadata": {
  "kernelspec": {
   "display_name": "Python 3",
   "language": "python",
   "name": "python3"
  },
  "language_info": {
   "codemirror_mode": {
    "name": "ipython",
    "version": 3
   },
   "file_extension": ".py",
   "mimetype": "text/x-python",
   "name": "python",
   "nbconvert_exporter": "python",
   "pygments_lexer": "ipython3",
   "version": "3.11.6"
  }
 },
 "nbformat": 4,
 "nbformat_minor": 2
}
