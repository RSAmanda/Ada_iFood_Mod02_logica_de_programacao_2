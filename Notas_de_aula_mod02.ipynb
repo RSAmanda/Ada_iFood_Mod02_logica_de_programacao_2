{
 "cells": [
  {
   "cell_type": "markdown",
   "metadata": {},
   "source": [
    "# Notas da aula\n",
    "-> Lógica de Programação II\n",
    "\n",
    "- Ada Tech + iFood"
   ]
  },
  {
   "cell_type": "markdown",
   "metadata": {},
   "source": [
    "# Tuplas"
   ]
  },
  {
   "cell_type": "markdown",
   "metadata": {},
   "source": [
    "Assim como as listas, as tuplas também são coleções de objetos.\n",
    "- Podem armazenar diversos objetivos de diferentes tipos.\n",
    "- Possuem índices.\n",
    "- Podemos criar uma tupla usando parênteses ou a função `tuple`.\n",
    "    - Caso a tupla possua pelo menos dois elementos, não precisamos de parênteses, basta separar os valores por vírgula."
   ]
  },
  {
   "cell_type": "code",
   "execution_count": null,
   "metadata": {},
   "outputs": [],
   "source": [
    "tupla1 = tuple() # uma tupla vazia\n",
    "\n",
    "tupla2 = () # outra tupla vazia\n",
    "\n",
    "linguagens = ('Python', 'JavaScript', 'SQL') # uma tupla com 3 elementos\n",
    "\n",
    "dados_variados = 3.14, 1000, True, 'abacate' # uma tupla declarada sem parênteses\n",
    "\n",
    "tupla_de_tuplas = ( ('Curso', 'Módulo 1', 'Módulo 2'),\n",
    "                    ('Data Science', 'Lógica de Programação I', 'Lógica de Programação II'),\n",
    "                    ('Web Full Stack', 'Front End Estático', 'Front End Dinâmico'))\n",
    "\n",
    "print(linguagens[0]) # imprime \"Python\"\n",
    "print(dados_variados[2]) # imprime True\n",
    "print(tupla_de_tuplas[2][0]) # imprime \"Web Full Stack\""
   ]
  },
  {
   "cell_type": "markdown",
   "metadata": {},
   "source": []
  }
 ],
 "metadata": {
  "kernelspec": {
   "display_name": "Python 3",
   "language": "python",
   "name": "python3"
  },
  "language_info": {
   "name": "python",
   "version": "3.11.0"
  }
 },
 "nbformat": 4,
 "nbformat_minor": 2
}
